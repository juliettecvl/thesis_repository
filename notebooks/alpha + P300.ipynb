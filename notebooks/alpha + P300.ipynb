{
 "cells": [
  {
   "cell_type": "markdown",
   "id": "764cf04d",
   "metadata": {},
   "source": [
    "# Pairwise combination: alpha + P300\n",
    "\n",
    "The following structures will be incorporated into the code:\n",
    "1. PSD to extract the alpha and ERP features and shrinkage LDA (sLDA) for classification.\n",
    "2. PSD to extract the alpha and ERP features, and block-Toeplitz LDA for classification.\n",
    "3. PSD to extract the alpha and ERP features, and RDA for classification.\n",
    "4. CSP to extract the alpha and ERP features, and sLDA for classification.\n",
    "5. CSP to extract the alpha and ERP features, and block-Toeplitz LDA for classification.\n",
    "6. CSP to extract the alpha and ERP features, and RDA for classification.\n",
    "\n",
    "Start with the focus on 1 and 4. Then do 2 and 5, and finally 3 and 6.\n",
    "\n",
    "### Alpha (PSD) + P300\n",
    "Below is the working code with an average of 75% accuracy and a standard deviation of 0.03."
   ]
  },
  {
   "cell_type": "code",
   "execution_count": 21,
   "id": "b799ed05",
   "metadata": {
    "scrolled": true
   },
   "outputs": [
    {
     "name": "stdout",
     "output_type": "stream",
     "text": [
      "Processing VPpdik...\n",
      "(80, 63, 2400)\n",
      "(80, 63, 2400)\n",
      "  Fold 1/4\n",
      "z_tst.shape: (20, 80, 2)\n",
      "Fitting LDA for P300.\n",
      "Predicting P300!\n",
      "    Correlation (Left Stimulus): -0.500\n",
      "    Correlation (Right Stimulus): 0.500\n"
     ]
    },
    {
     "ename": "KeyboardInterrupt",
     "evalue": "",
     "output_type": "error",
     "traceback": [
      "\u001b[0;31m---------------------------------------------------------------------------\u001b[0m",
      "\u001b[0;31mKeyboardInterrupt\u001b[0m                         Traceback (most recent call last)",
      "Cell \u001b[0;32mIn[21], line 97\u001b[0m\n\u001b[1;32m     92\u001b[0m \u001b[38;5;28mprint\u001b[39m(\u001b[38;5;124mf\u001b[39m\u001b[38;5;124m\"\u001b[39m\u001b[38;5;124m    Correlation (Right Stimulus): \u001b[39m\u001b[38;5;132;01m{\u001b[39;00mrho_right\u001b[38;5;132;01m:\u001b[39;00m\u001b[38;5;124m.3f\u001b[39m\u001b[38;5;132;01m}\u001b[39;00m\u001b[38;5;124m\"\u001b[39m)\n\u001b[1;32m     94\u001b[0m \u001b[38;5;66;03m# --- Alpha PSD ---\u001b[39;00m\n\u001b[1;32m     95\u001b[0m \n\u001b[1;32m     96\u001b[0m \u001b[38;5;66;03m# Extract alpha features. For all trials, average over frequency bin (8-12 Hz) per channel\u001b[39;00m\n\u001b[0;32m---> 97\u001b[0m psd_features_trn \u001b[38;5;241m=\u001b[39m np\u001b[38;5;241m.\u001b[39marray([\n\u001b[1;32m     98\u001b[0m     psd_array_multitaper(trial, sfreq\u001b[38;5;241m=\u001b[39mfs, fmin\u001b[38;5;241m=\u001b[39mmin_bin, fmax\u001b[38;5;241m=\u001b[39mmax_bin, bandwidth\u001b[38;5;241m=\u001b[39m\u001b[38;5;241m1\u001b[39m)[\u001b[38;5;241m0\u001b[39m]\u001b[38;5;241m.\u001b[39mmean(axis\u001b[38;5;241m=\u001b[39m\u001b[38;5;241m1\u001b[39m)\n\u001b[1;32m     99\u001b[0m     \u001b[38;5;28;01mfor\u001b[39;00m trial \u001b[38;5;129;01min\u001b[39;00m X_trn])\n\u001b[1;32m    101\u001b[0m psd_features_tst \u001b[38;5;241m=\u001b[39m np\u001b[38;5;241m.\u001b[39marray([\n\u001b[1;32m    102\u001b[0m     psd_array_multitaper(trial, sfreq\u001b[38;5;241m=\u001b[39mfs, fmin\u001b[38;5;241m=\u001b[39mmin_bin, fmax\u001b[38;5;241m=\u001b[39mmax_bin, bandwidth\u001b[38;5;241m=\u001b[39m\u001b[38;5;241m1\u001b[39m)[\u001b[38;5;241m0\u001b[39m]\u001b[38;5;241m.\u001b[39mmean(axis\u001b[38;5;241m=\u001b[39m\u001b[38;5;241m1\u001b[39m)\n\u001b[1;32m    103\u001b[0m     \u001b[38;5;28;01mfor\u001b[39;00m trial \u001b[38;5;129;01min\u001b[39;00m X_tst])\n\u001b[1;32m    105\u001b[0m \u001b[38;5;28mprint\u001b[39m(\u001b[38;5;124m\"\u001b[39m\u001b[38;5;124mShape of psd_features_trn:\u001b[39m\u001b[38;5;124m\"\u001b[39m, psd_features_trn\u001b[38;5;241m.\u001b[39mshape)\n",
      "Cell \u001b[0;32mIn[21], line 98\u001b[0m, in \u001b[0;36m<listcomp>\u001b[0;34m(.0)\u001b[0m\n\u001b[1;32m     92\u001b[0m \u001b[38;5;28mprint\u001b[39m(\u001b[38;5;124mf\u001b[39m\u001b[38;5;124m\"\u001b[39m\u001b[38;5;124m    Correlation (Right Stimulus): \u001b[39m\u001b[38;5;132;01m{\u001b[39;00mrho_right\u001b[38;5;132;01m:\u001b[39;00m\u001b[38;5;124m.3f\u001b[39m\u001b[38;5;132;01m}\u001b[39;00m\u001b[38;5;124m\"\u001b[39m)\n\u001b[1;32m     94\u001b[0m \u001b[38;5;66;03m# --- Alpha PSD ---\u001b[39;00m\n\u001b[1;32m     95\u001b[0m \n\u001b[1;32m     96\u001b[0m \u001b[38;5;66;03m# Extract alpha features. For all trials, average over frequency bin (8-12 Hz) per channel\u001b[39;00m\n\u001b[1;32m     97\u001b[0m psd_features_trn \u001b[38;5;241m=\u001b[39m np\u001b[38;5;241m.\u001b[39marray([\n\u001b[0;32m---> 98\u001b[0m     \u001b[43mpsd_array_multitaper\u001b[49m\u001b[43m(\u001b[49m\u001b[43mtrial\u001b[49m\u001b[43m,\u001b[49m\u001b[43m \u001b[49m\u001b[43msfreq\u001b[49m\u001b[38;5;241;43m=\u001b[39;49m\u001b[43mfs\u001b[49m\u001b[43m,\u001b[49m\u001b[43m \u001b[49m\u001b[43mfmin\u001b[49m\u001b[38;5;241;43m=\u001b[39;49m\u001b[43mmin_bin\u001b[49m\u001b[43m,\u001b[49m\u001b[43m \u001b[49m\u001b[43mfmax\u001b[49m\u001b[38;5;241;43m=\u001b[39;49m\u001b[43mmax_bin\u001b[49m\u001b[43m,\u001b[49m\u001b[43m \u001b[49m\u001b[43mbandwidth\u001b[49m\u001b[38;5;241;43m=\u001b[39;49m\u001b[38;5;241;43m1\u001b[39;49m\u001b[43m)\u001b[49m[\u001b[38;5;241m0\u001b[39m]\u001b[38;5;241m.\u001b[39mmean(axis\u001b[38;5;241m=\u001b[39m\u001b[38;5;241m1\u001b[39m)\n\u001b[1;32m     99\u001b[0m     \u001b[38;5;28;01mfor\u001b[39;00m trial \u001b[38;5;129;01min\u001b[39;00m X_trn])\n\u001b[1;32m    101\u001b[0m psd_features_tst \u001b[38;5;241m=\u001b[39m np\u001b[38;5;241m.\u001b[39marray([\n\u001b[1;32m    102\u001b[0m     psd_array_multitaper(trial, sfreq\u001b[38;5;241m=\u001b[39mfs, fmin\u001b[38;5;241m=\u001b[39mmin_bin, fmax\u001b[38;5;241m=\u001b[39mmax_bin, bandwidth\u001b[38;5;241m=\u001b[39m\u001b[38;5;241m1\u001b[39m)[\u001b[38;5;241m0\u001b[39m]\u001b[38;5;241m.\u001b[39mmean(axis\u001b[38;5;241m=\u001b[39m\u001b[38;5;241m1\u001b[39m)\n\u001b[1;32m    103\u001b[0m     \u001b[38;5;28;01mfor\u001b[39;00m trial \u001b[38;5;129;01min\u001b[39;00m X_tst])\n\u001b[1;32m    105\u001b[0m \u001b[38;5;28mprint\u001b[39m(\u001b[38;5;124m\"\u001b[39m\u001b[38;5;124mShape of psd_features_trn:\u001b[39m\u001b[38;5;124m\"\u001b[39m, psd_features_trn\u001b[38;5;241m.\u001b[39mshape)\n",
      "File \u001b[0;32m<decorator-gen-4>:12\u001b[0m, in \u001b[0;36mpsd_array_multitaper\u001b[0;34m(x, sfreq, fmin, fmax, bandwidth, adaptive, low_bias, normalization, remove_dc, output, n_jobs, max_iter, verbose)\u001b[0m\n",
      "File \u001b[0;32m~/opt/anaconda3/envs/py39/lib/python3.9/site-packages/mne/time_frequency/multitaper.py:413\u001b[0m, in \u001b[0;36mpsd_array_multitaper\u001b[0;34m(x, sfreq, fmin, fmax, bandwidth, adaptive, low_bias, normalization, remove_dc, output, n_jobs, max_iter, verbose)\u001b[0m\n\u001b[1;32m    410\u001b[0m dshape \u001b[38;5;241m=\u001b[39m x\u001b[38;5;241m.\u001b[39mshape[:\u001b[38;5;241m-\u001b[39m\u001b[38;5;241m1\u001b[39m]\n\u001b[1;32m    411\u001b[0m x \u001b[38;5;241m=\u001b[39m x\u001b[38;5;241m.\u001b[39mreshape(\u001b[38;5;241m-\u001b[39m\u001b[38;5;241m1\u001b[39m, n_times)\n\u001b[0;32m--> 413\u001b[0m dpss, eigvals, adaptive \u001b[38;5;241m=\u001b[39m \u001b[43m_compute_mt_params\u001b[49m\u001b[43m(\u001b[49m\n\u001b[1;32m    414\u001b[0m \u001b[43m    \u001b[49m\u001b[43mn_times\u001b[49m\u001b[43m,\u001b[49m\u001b[43m \u001b[49m\u001b[43msfreq\u001b[49m\u001b[43m,\u001b[49m\u001b[43m \u001b[49m\u001b[43mbandwidth\u001b[49m\u001b[43m,\u001b[49m\u001b[43m \u001b[49m\u001b[43mlow_bias\u001b[49m\u001b[43m,\u001b[49m\u001b[43m \u001b[49m\u001b[43madaptive\u001b[49m\n\u001b[1;32m    415\u001b[0m \u001b[43m\u001b[49m\u001b[43m)\u001b[49m\n\u001b[1;32m    416\u001b[0m n_tapers \u001b[38;5;241m=\u001b[39m \u001b[38;5;28mlen\u001b[39m(dpss)\n\u001b[1;32m    417\u001b[0m weights \u001b[38;5;241m=\u001b[39m np\u001b[38;5;241m.\u001b[39msqrt(eigvals)[np\u001b[38;5;241m.\u001b[39mnewaxis, :, np\u001b[38;5;241m.\u001b[39mnewaxis]\n",
      "File \u001b[0;32m<decorator-gen-3>:12\u001b[0m, in \u001b[0;36m_compute_mt_params\u001b[0;34m(n_times, sfreq, bandwidth, low_bias, adaptive, verbose)\u001b[0m\n",
      "File \u001b[0;32m~/opt/anaconda3/envs/py39/lib/python3.9/site-packages/mne/time_frequency/multitaper.py:307\u001b[0m, in \u001b[0;36m_compute_mt_params\u001b[0;34m(n_times, sfreq, bandwidth, low_bias, adaptive, verbose)\u001b[0m\n\u001b[1;32m    305\u001b[0m \u001b[38;5;66;03m# Compute DPSS windows\u001b[39;00m\n\u001b[1;32m    306\u001b[0m n_tapers_max \u001b[38;5;241m=\u001b[39m \u001b[38;5;28mint\u001b[39m(\u001b[38;5;241m2\u001b[39m \u001b[38;5;241m*\u001b[39m half_nbw)\n\u001b[0;32m--> 307\u001b[0m window_fun, eigvals \u001b[38;5;241m=\u001b[39m \u001b[43mdpss_windows\u001b[49m\u001b[43m(\u001b[49m\n\u001b[1;32m    308\u001b[0m \u001b[43m    \u001b[49m\u001b[43mn_times\u001b[49m\u001b[43m,\u001b[49m\u001b[43m \u001b[49m\u001b[43mhalf_nbw\u001b[49m\u001b[43m,\u001b[49m\u001b[43m \u001b[49m\u001b[43mn_tapers_max\u001b[49m\u001b[43m,\u001b[49m\u001b[43m \u001b[49m\u001b[43msym\u001b[49m\u001b[38;5;241;43m=\u001b[39;49m\u001b[38;5;28;43;01mFalse\u001b[39;49;00m\u001b[43m,\u001b[49m\u001b[43m \u001b[49m\u001b[43mlow_bias\u001b[49m\u001b[38;5;241;43m=\u001b[39;49m\u001b[43mlow_bias\u001b[49m\n\u001b[1;32m    309\u001b[0m \u001b[43m\u001b[49m\u001b[43m)\u001b[49m\n\u001b[1;32m    310\u001b[0m logger\u001b[38;5;241m.\u001b[39minfo(\n\u001b[1;32m    311\u001b[0m     \u001b[38;5;124m\"\u001b[39m\u001b[38;5;124m    Using multitaper spectrum estimation with \u001b[39m\u001b[38;5;132;01m%d\u001b[39;00m\u001b[38;5;124m DPSS \u001b[39m\u001b[38;5;124m\"\u001b[39m\n\u001b[1;32m    312\u001b[0m     \u001b[38;5;124m\"\u001b[39m\u001b[38;5;124mwindows\u001b[39m\u001b[38;5;124m\"\u001b[39m \u001b[38;5;241m%\u001b[39m \u001b[38;5;28mlen\u001b[39m(eigvals)\n\u001b[1;32m    313\u001b[0m )\n\u001b[1;32m    315\u001b[0m \u001b[38;5;28;01mif\u001b[39;00m adaptive \u001b[38;5;129;01mand\u001b[39;00m \u001b[38;5;28mlen\u001b[39m(eigvals) \u001b[38;5;241m<\u001b[39m \u001b[38;5;241m3\u001b[39m:\n",
      "File \u001b[0;32m~/opt/anaconda3/envs/py39/lib/python3.9/site-packages/mne/time_frequency/multitaper.py:67\u001b[0m, in \u001b[0;36mdpss_windows\u001b[0;34m(N, half_nbw, Kmax, sym, norm, low_bias)\u001b[0m\n\u001b[1;32m     18\u001b[0m \u001b[38;5;28;01mdef\u001b[39;00m \u001b[38;5;21mdpss_windows\u001b[39m(N, half_nbw, Kmax, \u001b[38;5;241m*\u001b[39m, sym\u001b[38;5;241m=\u001b[39m\u001b[38;5;28;01mTrue\u001b[39;00m, norm\u001b[38;5;241m=\u001b[39m\u001b[38;5;28;01mNone\u001b[39;00m, low_bias\u001b[38;5;241m=\u001b[39m\u001b[38;5;28;01mTrue\u001b[39;00m):\n\u001b[1;32m     19\u001b[0m \u001b[38;5;250m    \u001b[39m\u001b[38;5;124;03m\"\"\"Compute Discrete Prolate Spheroidal Sequences.\u001b[39;00m\n\u001b[1;32m     20\u001b[0m \n\u001b[1;32m     21\u001b[0m \u001b[38;5;124;03m    Will give of orders [0,Kmax-1] for a given frequency-spacing multiple\u001b[39;00m\n\u001b[0;32m   (...)\u001b[0m\n\u001b[1;32m     65\u001b[0m \u001b[38;5;124;03m    .. footbibliography::\u001b[39;00m\n\u001b[1;32m     66\u001b[0m \u001b[38;5;124;03m    \"\"\"\u001b[39;00m\n\u001b[0;32m---> 67\u001b[0m     dpss, eigvals \u001b[38;5;241m=\u001b[39m \u001b[43msp_dpss\u001b[49m\u001b[43m(\u001b[49m\u001b[43mN\u001b[49m\u001b[43m,\u001b[49m\u001b[43m \u001b[49m\u001b[43mhalf_nbw\u001b[49m\u001b[43m,\u001b[49m\u001b[43m \u001b[49m\u001b[43mKmax\u001b[49m\u001b[43m,\u001b[49m\u001b[43m \u001b[49m\u001b[43msym\u001b[49m\u001b[38;5;241;43m=\u001b[39;49m\u001b[43msym\u001b[49m\u001b[43m,\u001b[49m\u001b[43m \u001b[49m\u001b[43mnorm\u001b[49m\u001b[38;5;241;43m=\u001b[39;49m\u001b[43mnorm\u001b[49m\u001b[43m,\u001b[49m\u001b[43m \u001b[49m\u001b[43mreturn_ratios\u001b[49m\u001b[38;5;241;43m=\u001b[39;49m\u001b[38;5;28;43;01mTrue\u001b[39;49;00m\u001b[43m)\u001b[49m\n\u001b[1;32m     68\u001b[0m     \u001b[38;5;28;01mif\u001b[39;00m low_bias:\n\u001b[1;32m     69\u001b[0m         idx \u001b[38;5;241m=\u001b[39m eigvals \u001b[38;5;241m>\u001b[39m \u001b[38;5;241m0.9\u001b[39m\n",
      "File \u001b[0;32m~/opt/anaconda3/envs/py39/lib/python3.9/site-packages/scipy/signal/windows/_windows.py:2057\u001b[0m, in \u001b[0;36mdpss\u001b[0;34m(M, NW, Kmax, sym, norm, return_ratios)\u001b[0m\n\u001b[1;32m   2054\u001b[0m e \u001b[38;5;241m=\u001b[39m nidx[\u001b[38;5;241m1\u001b[39m:] \u001b[38;5;241m*\u001b[39m (M \u001b[38;5;241m-\u001b[39m nidx[\u001b[38;5;241m1\u001b[39m:]) \u001b[38;5;241m/\u001b[39m \u001b[38;5;241m2.\u001b[39m\n\u001b[1;32m   2056\u001b[0m \u001b[38;5;66;03m# only calculate the highest Kmax eigenvalues\u001b[39;00m\n\u001b[0;32m-> 2057\u001b[0m w, windows \u001b[38;5;241m=\u001b[39m \u001b[43mlinalg\u001b[49m\u001b[38;5;241;43m.\u001b[39;49m\u001b[43meigh_tridiagonal\u001b[49m\u001b[43m(\u001b[49m\n\u001b[1;32m   2058\u001b[0m \u001b[43m    \u001b[49m\u001b[43md\u001b[49m\u001b[43m,\u001b[49m\u001b[43m \u001b[49m\u001b[43me\u001b[49m\u001b[43m,\u001b[49m\u001b[43m \u001b[49m\u001b[43mselect\u001b[49m\u001b[38;5;241;43m=\u001b[39;49m\u001b[38;5;124;43m'\u001b[39;49m\u001b[38;5;124;43mi\u001b[39;49m\u001b[38;5;124;43m'\u001b[39;49m\u001b[43m,\u001b[49m\u001b[43m \u001b[49m\u001b[43mselect_range\u001b[49m\u001b[38;5;241;43m=\u001b[39;49m\u001b[43m(\u001b[49m\u001b[43mM\u001b[49m\u001b[43m \u001b[49m\u001b[38;5;241;43m-\u001b[39;49m\u001b[43m \u001b[49m\u001b[43mKmax\u001b[49m\u001b[43m,\u001b[49m\u001b[43m \u001b[49m\u001b[43mM\u001b[49m\u001b[43m \u001b[49m\u001b[38;5;241;43m-\u001b[39;49m\u001b[43m \u001b[49m\u001b[38;5;241;43m1\u001b[39;49m\u001b[43m)\u001b[49m\u001b[43m)\u001b[49m\n\u001b[1;32m   2059\u001b[0m w \u001b[38;5;241m=\u001b[39m w[::\u001b[38;5;241m-\u001b[39m\u001b[38;5;241m1\u001b[39m]\n\u001b[1;32m   2060\u001b[0m windows \u001b[38;5;241m=\u001b[39m windows[:, ::\u001b[38;5;241m-\u001b[39m\u001b[38;5;241m1\u001b[39m]\u001b[38;5;241m.\u001b[39mT\n",
      "File \u001b[0;32m~/opt/anaconda3/envs/py39/lib/python3.9/site-packages/scipy/linalg/_decomp.py:1353\u001b[0m, in \u001b[0;36meigh_tridiagonal\u001b[0;34m(d, e, eigvals_only, select, select_range, check_finite, tol, lapack_driver)\u001b[0m\n\u001b[1;32m   1350\u001b[0m     \u001b[38;5;66;03m# If getting eigenvectors, needs to be block-ordered (B) instead of\u001b[39;00m\n\u001b[1;32m   1351\u001b[0m     \u001b[38;5;66;03m# matrix-ordered (E), and we will reorder later\u001b[39;00m\n\u001b[1;32m   1352\u001b[0m     order \u001b[38;5;241m=\u001b[39m \u001b[38;5;124m'\u001b[39m\u001b[38;5;124mE\u001b[39m\u001b[38;5;124m'\u001b[39m \u001b[38;5;28;01mif\u001b[39;00m eigvals_only \u001b[38;5;28;01melse\u001b[39;00m \u001b[38;5;124m'\u001b[39m\u001b[38;5;124mB\u001b[39m\u001b[38;5;124m'\u001b[39m\n\u001b[0;32m-> 1353\u001b[0m     m, w, iblock, isplit, info \u001b[38;5;241m=\u001b[39m \u001b[43mstebz\u001b[49m\u001b[43m(\u001b[49m\u001b[43md\u001b[49m\u001b[43m,\u001b[49m\u001b[43m \u001b[49m\u001b[43me\u001b[49m\u001b[43m,\u001b[49m\u001b[43m \u001b[49m\u001b[43mselect\u001b[49m\u001b[43m,\u001b[49m\u001b[43m \u001b[49m\u001b[43mvl\u001b[49m\u001b[43m,\u001b[49m\u001b[43m \u001b[49m\u001b[43mvu\u001b[49m\u001b[43m,\u001b[49m\u001b[43m \u001b[49m\u001b[43mil\u001b[49m\u001b[43m,\u001b[49m\u001b[43m \u001b[49m\u001b[43miu\u001b[49m\u001b[43m,\u001b[49m\u001b[43m \u001b[49m\u001b[43mtol\u001b[49m\u001b[43m,\u001b[49m\n\u001b[1;32m   1354\u001b[0m \u001b[43m                                       \u001b[49m\u001b[43morder\u001b[49m\u001b[43m)\u001b[49m\n\u001b[1;32m   1355\u001b[0m \u001b[38;5;28;01melse\u001b[39;00m:   \u001b[38;5;66;03m# 'stemr'\u001b[39;00m\n\u001b[1;32m   1356\u001b[0m     \u001b[38;5;66;03m# ?STEMR annoyingly requires size N instead of N-1\u001b[39;00m\n\u001b[1;32m   1357\u001b[0m     e_ \u001b[38;5;241m=\u001b[39m empty(e\u001b[38;5;241m.\u001b[39msize\u001b[38;5;241m+\u001b[39m\u001b[38;5;241m1\u001b[39m, e\u001b[38;5;241m.\u001b[39mdtype)\n",
      "\u001b[0;31mKeyboardInterrupt\u001b[0m: "
     ]
    }
   ],
   "source": [
    "import numpy as np\n",
    "import os\n",
    "from sklearn.discriminant_analysis import LinearDiscriminantAnalysis as LDA\n",
    "from mne.time_frequency import psd_array_multitaper\n",
    "import warnings\n",
    "import mne\n",
    "\n",
    "# Suppress all warnings\n",
    "mne.set_log_level('warning')\n",
    "\n",
    "# Directory containing the preprocessed data\n",
    "file_dir = '/Users/juliette/Desktop/thesis/preprocessing/hybrid_preprocessing'\n",
    "decoding_results_dir = '/Users/juliette/Desktop/thesis/results/alpha+p300'\n",
    "\n",
    "# Define the alpha range for PSD calculation\n",
    "min_bin = 8\n",
    "max_bin = 12\n",
    "\n",
    "# Initialize results storage\n",
    "results = []\n",
    "\n",
    "# List of subjects\n",
    "subjects = [\"VPpdia\", \"VPpdib\", \"VPpdic\", \"VPpdid\", \"VPpdie\", \"VPpdif\", \"VPpdig\", \"VPpdih\", \"VPpdii\", \"VPpdij\",\n",
    "            \"VPpdik\", \"VPpdil\", \"VPpdim\", \"VPpdin\", \"VPpdio\", \"VPpdip\", \"VPpdiq\", \"VPpdir\", \"VPpdis\", \"VPpdit\",\n",
    "            \"VPpdiu\", \"VPpdiv\", \"VPpdiw\", \"VPpdix\", \"VPpdiy\", \"VPpdiz\", \"VPpdiza\", \"VPpdizb\", \"VPpdizc\"]\n",
    "\n",
    "subjects = [\"VPpdik\", \"VPpdil\", \"VPpdim\", \"VPpdin\", \"VPpdio\", \"VPpdip\", \"VPpdiq\", \"VPpdir\", \"VPpdis\", \"VPpdit\"]\n",
    "# Load Data for each subject\n",
    "for subject in subjects:\n",
    "    print(f\"Processing {subject}...\")\n",
    "\n",
    "    try:\n",
    "        # Load preprocessed data\n",
    "        fn = os.path.join(file_dir, f\"sub-{subject}_task-covert_c-VEP+P300_ICA.npz\")\n",
    "        tmp = np.load(fn)\n",
    "        \n",
    "\n",
    "        X = tmp[\"X\"]  # EEG data matrix (trials, channels, samples)\n",
    "        print(X.shape)\n",
    "        \n",
    "        print(X.shape)\n",
    "        y = tmp[\"y\"]  # Labels\n",
    "        z = tmp[\"z\"]  # Target presence (trials, epochs, sides)\n",
    "        V = tmp[\"V\"]  # One code cycle (classes, samples)\n",
    "        fs = tmp[\"fs\"].flatten()[0]\n",
    "\n",
    "    except Exception as e:\n",
    "        print(f\"Error loading data for subject {subject}: {e}\")\n",
    "        continue\n",
    "\n",
    "    # Cross-validation\n",
    "    fold_accuracies = []\n",
    "    n_folds = 4\n",
    "    n_trials = X.shape[0] // n_folds\n",
    "    folds = np.repeat(np.arange(n_folds), n_trials)\n",
    "\n",
    "    new_feature_vectors = []\n",
    "    lda_1 = LDA(solver=\"svd\")\n",
    "\n",
    "    for i_fold in range(n_folds):\n",
    "        print(f\"  Fold {i_fold + 1}/{n_folds}\")\n",
    "\n",
    "        # Split train and test data\n",
    "        X_trn, y_trn, z_trn = X[folds != i_fold, :, :], y[folds != i_fold], z[folds != i_fold, :, :]\n",
    "        X_tst, y_tst, z_tst = X[folds == i_fold, :, :], y[folds == i_fold], z[folds == i_fold, :, :]\n",
    "\n",
    "        # Reshape X to (trials, channels x samples) for LDA\n",
    "        X_trn_reshaped = X_trn.reshape(X_trn.shape[0], -1)\n",
    "        X_tst_reshaped = X_tst.reshape(X_tst.shape[0], -1)\n",
    "\n",
    "        # --- P300 ---\n",
    "\n",
    "        # Extract stimulus condition correctly\n",
    "        print(\"z_tst.shape:\", z_tst.shape)\n",
    "        side_tst = z_tst[:, 2, :]\n",
    "        z_left = side_tst[:, 0] == 1\n",
    "        z_right = side_tst[:, 1] == 1\n",
    "\n",
    "        # Train LDA (for extracting correlation of P300)\n",
    "        print(\"Fitting LDA for P300.\")\n",
    "        lda_1.fit(X_trn_reshaped, y_trn)\n",
    "\n",
    "        # Predict on test data\n",
    "        print(\"Predicting P300!\")\n",
    "        y_hat = lda_1.predict(X_tst_reshaped)\n",
    "\n",
    "        # Compute correlation, [0,1] makes sure to get the off-diagonal elements that represent the correlation\n",
    "        rho_left = np.corrcoef(y_hat[z_left], y_tst[z_left])[0, 1]\n",
    "        rho_right = np.corrcoef(y_hat[z_right], y_tst[z_right])[0, 1]\n",
    "\n",
    "        print(f\"    Correlation (Left Stimulus): {rho_left:.3f}\")\n",
    "        print(f\"    Correlation (Right Stimulus): {rho_right:.3f}\")\n",
    "\n",
    "        # --- Alpha PSD ---\n",
    "\n",
    "        # Extract alpha features. For all trials, average over frequency bin (8-12 Hz) per channel\n",
    "        psd_features_trn = np.array([\n",
    "            psd_array_multitaper(trial, sfreq=fs, fmin=min_bin, fmax=max_bin, bandwidth=1)[0].mean(axis=1)\n",
    "            for trial in X_trn])\n",
    "\n",
    "        psd_features_tst = np.array([\n",
    "            psd_array_multitaper(trial, sfreq=fs, fmin=min_bin, fmax=max_bin, bandwidth=1)[0].mean(axis=1)\n",
    "            for trial in X_tst])\n",
    "\n",
    "        print(\"Shape of psd_features_trn:\", psd_features_trn.shape)\n",
    "\n",
    "        # --- Concatenation ---\n",
    "        # Concatenate the P300 correlation and the alpha PSD features\n",
    "        combined_features_trn = np.column_stack([rho_left * np.ones(X_trn.shape[0]),  # Left stimulus correlation\n",
    "                                                 rho_right * np.ones(X_trn.shape[0]),  # Right stimulus correlation\n",
    "                                                 psd_features_trn])  # Alpha PSD features\n",
    "\n",
    "        combined_features_tst = np.column_stack([rho_left * np.ones(X_tst.shape[0]),  # Left stimulus correlation\n",
    "                                                 rho_right * np.ones(X_tst.shape[0]),  # Right stimulus correlation\n",
    "                                                 psd_features_tst])  # Alpha PSD features\n",
    "\n",
    "        # Replace NaN values with 0\n",
    "        combined_features_trn = np.nan_to_num(combined_features_trn, nan=0)\n",
    "        combined_features_tst = np.nan_to_num(combined_features_tst, nan=0)\n",
    "\n",
    "        print(f\"Shape of combined_features_trn: {combined_features_trn.shape}\")\n",
    "        print(f\"Shape of combined_features_tst: {combined_features_tst.shape}\")\n",
    "\n",
    "        # --- Ensemble ---\n",
    "        # Train final LDA on new feature vectors (combined features)\n",
    "        lda2 = LDA(solver=\"svd\")\n",
    "        lda2.fit(combined_features_trn, y_trn)\n",
    "\n",
    "        # Final prediction\n",
    "        y_final = lda2.predict(combined_features_tst)\n",
    "\n",
    "        # Calculate accuracy\n",
    "        accuracy = np.mean(y_final == y_tst)\n",
    "        fold_accuracies.append(accuracy)\n",
    "\n",
    "        print(f\"Fold {i_fold + 1} Accuracy: {accuracy:.3f}\")\n",
    "\n",
    "    # Compute subject-level results\n",
    "    accuracy = np.round(np.mean(fold_accuracies), 2)\n",
    "    se = np.round(np.std(fold_accuracies) / np.sqrt(n_folds), 2)\n",
    "    results.append((subject, accuracy, se))\n",
    "\n",
    "    # Print average accuracy per subject\n",
    "    print(f\"Average Accuracy for {subject}: {accuracy:.3f}\")\n",
    "\n",
    "# # Save results\n",
    "# if not os.path.exists(decoding_results_dir):\n",
    "#         os.makedirs(decoding_results_dir)\n",
    "# results_save_path = join(decoding_results_dir, f\"covert_alpha_p300_results_concat.npy\")     \n",
    "# np.save(results_save_path, results_array)    \n",
    "\n",
    "# Convert results to a structured numpy array\n",
    "results_array = np.array(\n",
    "    results, dtype=[('subject', 'U10'), ('accuracy', 'f4'), ('standard_error', 'f4')]\n",
    ")\n",
    "\n",
    "# Overall results\n",
    "overall_accuracy = np.round(results_array['accuracy'].mean(), 2)\n",
    "overall_se = np.round(results_array['standard_error'].mean(), 2)\n",
    "print(f\"Overall LDA accuracy with PSD: {overall_accuracy:.2f} ± {overall_se:.2f}\")"
   ]
  },
  {
   "cell_type": "markdown",
   "id": "1346a478",
   "metadata": {},
   "source": [
    "## Most similar to Egan"
   ]
  },
  {
   "cell_type": "code",
   "execution_count": 24,
   "id": "2a63832a",
   "metadata": {
    "scrolled": true
   },
   "outputs": [
    {
     "name": "stdout",
     "output_type": "stream",
     "text": [
      "Processing VPpdia...\n",
      "  Fold 1/4\n",
      "erp_samples: (0, 90)\n",
      "attended_erp: [[[ 3.9218653e-06  4.2053962e-06  4.0387440e-06 ...  4.1708104e-06\n",
      "    2.2054160e-06  2.1079245e-06]\n",
      "  [ 6.0769526e-06  4.5894117e-06  4.2751431e-06 ...  6.0202051e-06\n",
      "    2.9386622e-06 -1.4478107e-07]\n",
      "  [ 8.2181268e-06  7.9081819e-06  8.6731179e-06 ...  2.9184735e-06\n",
      "    1.5519291e-07 -3.3862907e-06]\n",
      "  ...\n",
      "  [ 1.3906446e-06  3.2693933e-06  8.8202239e-07 ...  4.5312927e-06\n",
      "    4.1484313e-06  4.0014415e-06]\n",
      "  [-4.2869842e-06 -3.1689840e-06 -2.8112627e-06 ...  5.4742368e-06\n",
      "    6.3795828e-06  6.5977010e-06]\n",
      "  [ 1.6592248e-06  6.2399145e-06  3.5307785e-06 ...  8.4167741e-06\n",
      "    6.6407802e-06  4.9112109e-06]]\n",
      "\n",
      " [[ 3.8277090e-06  4.1218982e-06  3.9311481e-06 ...  4.2021084e-06\n",
      "    2.1673259e-06  2.0388147e-06]\n",
      "  [ 6.1622750e-06  4.6331961e-06  4.2708389e-06 ...  6.0472776e-06\n",
      "    2.8698973e-06 -2.7882385e-07]\n",
      "  [ 8.4122858e-06  8.0509681e-06  8.7668577e-06 ...  2.8534996e-06\n",
      "   -4.7664345e-10 -3.5943783e-06]\n",
      "  ...\n",
      "  [ 1.2198220e-06  3.1432714e-06  7.6289137e-07 ...  4.4682574e-06\n",
      "    4.0505302e-06  3.9523061e-06]\n",
      "  [-4.4538601e-06 -3.3009510e-06 -2.9089592e-06 ...  5.4833909e-06\n",
      "    6.3958896e-06  6.6599227e-06]\n",
      "  [ 1.4783775e-06  6.1291967e-06  3.4139364e-06 ...  8.2500137e-06\n",
      "    6.4187238e-06  4.7783724e-06]]\n",
      "\n",
      " [[ 3.8277090e-06  4.1218982e-06  3.9311481e-06 ...  4.2021084e-06\n",
      "    2.1673259e-06  2.0388147e-06]\n",
      "  [ 6.1622750e-06  4.6331961e-06  4.2708389e-06 ...  6.0472776e-06\n",
      "    2.8698973e-06 -2.7882393e-07]\n",
      "  [ 8.4122858e-06  8.0509681e-06  8.7668577e-06 ...  2.8534996e-06\n",
      "   -4.7664345e-10 -3.5943783e-06]\n",
      "  ...\n",
      "  [ 1.2198220e-06  3.1432714e-06  7.6289132e-07 ...  4.4682574e-06\n",
      "    4.0505302e-06  3.9523052e-06]\n",
      "  [-4.4538601e-06 -3.3009510e-06 -2.9089592e-06 ...  5.4833909e-06\n",
      "    6.3958896e-06  6.6599227e-06]\n",
      "  [ 1.4783774e-06  6.1291967e-06  3.4139364e-06 ...  8.2500137e-06\n",
      "    6.4187238e-06  4.7783724e-06]]\n",
      "\n",
      " ...\n",
      "\n",
      " [[ 3.8277090e-06  4.1218987e-06  3.9311481e-06 ...  4.2021084e-06\n",
      "    2.1673259e-06  2.0388147e-06]\n",
      "  [ 6.1622750e-06  4.6331961e-06  4.2708389e-06 ...  6.0472776e-06\n",
      "    2.8698973e-06 -2.7882388e-07]\n",
      "  [ 8.4122858e-06  8.0509672e-06  8.7668577e-06 ...  2.8534996e-06\n",
      "   -4.7664345e-10 -3.5943783e-06]\n",
      "  ...\n",
      "  [ 1.2198220e-06  3.1432719e-06  7.6289132e-07 ...  4.4682574e-06\n",
      "    4.0505302e-06  3.9523052e-06]\n",
      "  [-4.4538601e-06 -3.3009510e-06 -2.9089592e-06 ...  5.4833909e-06\n",
      "    6.3958896e-06  6.6599227e-06]\n",
      "  [ 1.4783775e-06  6.1291967e-06  3.4139364e-06 ...  8.2500146e-06\n",
      "    6.4187238e-06  4.7783719e-06]]\n",
      "\n",
      " [[ 3.8277094e-06  4.1218987e-06  3.9311481e-06 ...  4.2021084e-06\n",
      "    2.1673256e-06  2.0388147e-06]\n",
      "  [ 6.1622750e-06  4.6331961e-06  4.2708393e-06 ...  6.0472776e-06\n",
      "    2.8698973e-06 -2.7882396e-07]\n",
      "  [ 8.4122858e-06  8.0509672e-06  8.7668577e-06 ...  2.8534992e-06\n",
      "   -4.7664345e-10 -3.5943783e-06]\n",
      "  ...\n",
      "  [ 1.2198220e-06  3.1432719e-06  7.6289132e-07 ...  4.4682574e-06\n",
      "    4.0505302e-06  3.9523056e-06]\n",
      "  [-4.4538601e-06 -3.3009510e-06 -2.9089592e-06 ...  5.4833913e-06\n",
      "    6.3958892e-06  6.6599227e-06]\n",
      "  [ 1.4783775e-06  6.1291967e-06  3.4139362e-06 ...  8.2500146e-06\n",
      "    6.4187238e-06  4.7783719e-06]]\n",
      "\n",
      " [[ 4.0160216e-06  4.2888942e-06  4.1463400e-06 ...  4.1395124e-06\n",
      "    2.2435061e-06  2.1770345e-06]\n",
      "  [ 5.9916301e-06  4.5456272e-06  4.2794468e-06 ...  5.9931326e-06\n",
      "    3.0074268e-06 -1.0738449e-08]\n",
      "  [ 8.0239679e-06  7.7653976e-06  8.5793781e-06 ...  2.9834468e-06\n",
      "    3.1086219e-07 -3.1782026e-06]\n",
      "  ...\n",
      "  [ 1.5614675e-06  3.3955148e-06  1.0011530e-06 ...  4.5943279e-06\n",
      "    4.2463325e-06  4.0505774e-06]\n",
      "  [-4.1201088e-06 -3.0370170e-06 -2.7135661e-06 ...  5.4650836e-06\n",
      "    6.3632774e-06  6.5354789e-06]\n",
      "  [ 1.8400726e-06  6.3506313e-06  3.6476199e-06 ...  8.5835345e-06\n",
      "    6.8628351e-06  5.0440508e-06]]]\n"
     ]
    },
    {
     "name": "stderr",
     "output_type": "stream",
     "text": [
      "/Users/juliette/opt/anaconda3/envs/py39/lib/python3.9/site-packages/numpy/core/fromnumeric.py:3504: RuntimeWarning: Mean of empty slice.\n",
      "  return _methods._mean(a, axis=axis, dtype=dtype,\n",
      "/Users/juliette/opt/anaconda3/envs/py39/lib/python3.9/site-packages/numpy/core/_methods.py:121: RuntimeWarning: invalid value encountered in divide\n",
      "  ret = um.true_divide(\n"
     ]
    },
    {
     "name": "stdout",
     "output_type": "stream",
     "text": [
      "Fold 1 Accuracy: 0.800\n",
      "  Fold 2/4\n",
      "erp_samples: (0, 90)\n",
      "attended_erp: [[[-1.6965621e-06 -6.7491155e-06 -1.0080703e-05 ...  1.2815756e-06\n",
      "   -5.7821410e-07  6.8893549e-08]\n",
      "  [-3.2843054e-06 -5.6061567e-06 -6.9012472e-06 ...  3.2993116e-06\n",
      "    1.3089486e-06  2.5899176e-06]\n",
      "  [-3.1750897e-06 -5.0578969e-06 -4.5438337e-06 ...  4.9471083e-07\n",
      "   -1.3067681e-06  4.0531580e-07]\n",
      "  ...\n",
      "  [ 2.9199182e-06  1.0470972e-06 -1.8531028e-07 ... -7.3012661e-06\n",
      "   -7.6920478e-06 -7.8729990e-06]\n",
      "  [ 2.0602615e-06 -2.4828779e-07 -5.4900759e-08 ... -4.9756486e-06\n",
      "   -5.0534477e-06 -3.2249204e-06]\n",
      "  [ 4.3082769e-06  3.6849603e-06  2.6390835e-06 ... -1.1182621e-05\n",
      "   -1.0480317e-05 -1.0223211e-05]]\n",
      "\n",
      " [[-1.6965625e-06 -6.7491155e-06 -1.0080703e-05 ...  1.2815756e-06\n",
      "   -5.7821416e-07  6.8893577e-08]\n",
      "  [-3.2843050e-06 -5.6061567e-06 -6.9012481e-06 ...  3.2993116e-06\n",
      "    1.3089488e-06  2.5899176e-06]\n",
      "  [-3.1750901e-06 -5.0578969e-06 -4.5438342e-06 ...  4.9471072e-07\n",
      "   -1.3067680e-06  4.0531580e-07]\n",
      "  ...\n",
      "  [ 2.9199182e-06  1.0470972e-06 -1.8531028e-07 ... -7.3012670e-06\n",
      "   -7.6920478e-06 -7.8729990e-06]\n",
      "  [ 2.0602615e-06 -2.4828782e-07 -5.4900738e-08 ... -4.9756486e-06\n",
      "   -5.0534481e-06 -3.2249209e-06]\n",
      "  [ 4.3082764e-06  3.6849603e-06  2.6390835e-06 ... -1.1182621e-05\n",
      "   -1.0480317e-05 -1.0223210e-05]]\n",
      "\n",
      " [[-1.6637490e-06 -6.7414330e-06 -1.0158865e-05 ...  1.2372583e-06\n",
      "   -7.0638941e-07 -3.1781589e-08]\n",
      "  [-3.2391386e-06 -5.6024464e-06 -6.9171715e-06 ...  3.2794360e-06\n",
      "    1.2014873e-06  2.4946046e-06]\n",
      "  [-3.0905860e-06 -5.0185536e-06 -4.5317770e-06 ...  3.9509624e-07\n",
      "   -1.4642750e-06  3.0727057e-07]\n",
      "  ...\n",
      "  [ 2.8914483e-06  1.0168158e-06 -1.8043542e-07 ... -7.4279278e-06\n",
      "   -7.7751229e-06 -7.9246565e-06]\n",
      "  [ 2.0683003e-06 -2.5201362e-07 -2.2739881e-08 ... -5.0259032e-06\n",
      "   -5.0734961e-06 -3.2124249e-06]\n",
      "  [ 4.2737183e-06  3.6843278e-06  2.6855678e-06 ... -1.1348440e-05\n",
      "   -1.0584627e-05 -1.0294995e-05]]\n",
      "\n",
      " ...\n",
      "\n",
      " [[-1.6637492e-06 -6.7414330e-06 -1.0158864e-05 ...  1.2372583e-06\n",
      "   -7.0638941e-07 -3.1781578e-08]\n",
      "  [-3.2391381e-06 -5.6024464e-06 -6.9171715e-06 ...  3.2794360e-06\n",
      "    1.2014871e-06  2.4946044e-06]\n",
      "  [-3.0905860e-06 -5.0185536e-06 -4.5317770e-06 ...  3.9509632e-07\n",
      "   -1.4642750e-06  3.0727060e-07]\n",
      "  ...\n",
      "  [ 2.8914483e-06  1.0168158e-06 -1.8043542e-07 ... -7.4279278e-06\n",
      "   -7.7751238e-06 -7.9246565e-06]\n",
      "  [ 2.0683003e-06 -2.5201362e-07 -2.2739886e-08 ... -5.0259032e-06\n",
      "   -5.0734957e-06 -3.2124251e-06]\n",
      "  [ 4.2737183e-06  3.6843278e-06  2.6855678e-06 ... -1.1348440e-05\n",
      "   -1.0584627e-05 -1.0294996e-05]]\n",
      "\n",
      " [[-1.6637493e-06 -6.7414330e-06 -1.0158865e-05 ...  1.2372583e-06\n",
      "   -7.0638936e-07 -3.1781575e-08]\n",
      "  [-3.2391381e-06 -5.6024464e-06 -6.9171715e-06 ...  3.2794360e-06\n",
      "    1.2014872e-06  2.4946046e-06]\n",
      "  [-3.0905860e-06 -5.0185536e-06 -4.5317770e-06 ...  3.9509615e-07\n",
      "   -1.4642749e-06  3.0727057e-07]\n",
      "  ...\n",
      "  [ 2.8914480e-06  1.0168158e-06 -1.8043542e-07 ... -7.4279278e-06\n",
      "   -7.7751229e-06 -7.9246565e-06]\n",
      "  [ 2.0683003e-06 -2.5201365e-07 -2.2739858e-08 ... -5.0259032e-06\n",
      "   -5.0734961e-06 -3.2124251e-06]\n",
      "  [ 4.2737179e-06  3.6843278e-06  2.6855678e-06 ... -1.1348440e-05\n",
      "   -1.0584627e-05 -1.0294995e-05]]\n",
      "\n",
      " [[-1.7293754e-06 -6.7567989e-06 -1.0002543e-05 ...  1.3258930e-06\n",
      "   -4.5003898e-07  1.6956872e-07]\n",
      "  [-3.3294723e-06 -5.6098665e-06 -6.8853224e-06 ...  3.3191875e-06\n",
      "    1.4164104e-06  2.6852310e-06]\n",
      "  [-3.2595938e-06 -5.0972399e-06 -4.5558904e-06 ...  5.9432534e-07\n",
      "   -1.1492610e-06  5.0336104e-07]\n",
      "  ...\n",
      "  [ 2.9483879e-06  1.0773786e-06 -1.9018515e-07 ... -7.1746049e-06\n",
      "   -7.6089718e-06 -7.8213425e-06]\n",
      "  [ 2.0522230e-06 -2.4456202e-07 -8.7061608e-08 ... -4.9253945e-06\n",
      "   -5.0333997e-06 -3.2374160e-06]\n",
      "  [ 4.3428345e-06  3.6855931e-06  2.5925992e-06 ... -1.1016802e-05\n",
      "   -1.0376005e-05 -1.0151425e-05]]]\n"
     ]
    },
    {
     "name": "stderr",
     "output_type": "stream",
     "text": [
      "/Users/juliette/opt/anaconda3/envs/py39/lib/python3.9/site-packages/numpy/core/fromnumeric.py:3504: RuntimeWarning: Mean of empty slice.\n",
      "  return _methods._mean(a, axis=axis, dtype=dtype,\n",
      "/Users/juliette/opt/anaconda3/envs/py39/lib/python3.9/site-packages/numpy/core/_methods.py:121: RuntimeWarning: invalid value encountered in divide\n",
      "  ret = um.true_divide(\n"
     ]
    },
    {
     "name": "stdout",
     "output_type": "stream",
     "text": [
      "Fold 2 Accuracy: 0.650\n",
      "  Fold 3/4\n",
      "erp_samples: (0, 90)\n",
      "attended_erp: [[[ 1.94234344e-05  2.37893328e-05  1.33808135e-05 ... -1.43253828e-05\n",
      "   -1.75093301e-05 -1.13399865e-05]\n",
      "  [ 4.42669176e-07  5.79992943e-08  2.21346863e-06 ... -4.73630280e-06\n",
      "   -4.72193960e-06 -3.96746782e-06]\n",
      "  [-3.13614066e-07 -4.68031021e-06  6.30917043e-07 ... -4.29707916e-06\n",
      "   -4.96522716e-06 -5.56514397e-06]\n",
      "  ...\n",
      "  [ 1.54077020e-06 -1.46033483e-06 -7.08538346e-06 ...  1.03560706e-06\n",
      "    4.33236073e-06  4.40745407e-06]\n",
      "  [ 4.92417757e-06  3.01258433e-06 -2.21010328e-06 ...  1.35307391e-06\n",
      "    4.21539062e-06  4.06210711e-06]\n",
      "  [-4.15042723e-06 -9.38164612e-06 -1.49736934e-05 ...  2.84481507e-06\n",
      "    4.80112158e-06  3.70736848e-06]]\n",
      "\n",
      " [[ 1.91168947e-05  2.34468971e-05  1.31862589e-05 ... -1.41271103e-05\n",
      "   -1.72775635e-05 -1.11452991e-05]\n",
      "  [ 3.10143520e-07 -2.67750231e-08  2.14405259e-06 ... -4.65486119e-06\n",
      "   -4.65049197e-06 -3.91046888e-06]\n",
      "  [-4.19351039e-07 -4.70102486e-06  5.74305318e-07 ... -4.19292064e-06\n",
      "   -4.86520821e-06 -5.47940272e-06]\n",
      "  ...\n",
      "  [ 1.49556831e-06 -1.48603453e-06 -7.07614436e-06 ...  1.07935170e-06\n",
      "    4.32873412e-06  4.40129861e-06]\n",
      "  [ 4.84209704e-06  2.94535539e-06 -2.23080178e-06 ...  1.39751205e-06\n",
      "    4.20850483e-06  4.05552873e-06]\n",
      "  [-4.11355222e-06 -9.32891089e-06 -1.48990148e-05 ...  2.88594447e-06\n",
      "    4.82386986e-06  3.73821172e-06]]\n",
      "\n",
      " [[ 1.94234344e-05  2.37893328e-05  1.33808135e-05 ... -1.43253828e-05\n",
      "   -1.75093301e-05 -1.13399874e-05]\n",
      "  [ 4.42669119e-07  5.79992943e-08  2.21346863e-06 ... -4.73630280e-06\n",
      "   -4.72194006e-06 -3.96746827e-06]\n",
      "  [-3.13614009e-07 -4.68031021e-06  6.30916986e-07 ... -4.29707916e-06\n",
      "   -4.96522716e-06 -5.56514397e-06]\n",
      "  ...\n",
      "  [ 1.54077020e-06 -1.46033483e-06 -7.08538437e-06 ...  1.03560706e-06\n",
      "    4.33236073e-06  4.40745407e-06]\n",
      "  [ 4.92417757e-06  3.01258433e-06 -2.21010328e-06 ...  1.35307403e-06\n",
      "    4.21539062e-06  4.06210665e-06]\n",
      "  [-4.15042723e-06 -9.38164612e-06 -1.49736934e-05 ...  2.84481484e-06\n",
      "    4.80112203e-06  3.70736848e-06]]\n",
      "\n",
      " ...\n",
      "\n",
      " [[ 1.94234344e-05  2.37893328e-05  1.33808153e-05 ... -1.43253828e-05\n",
      "   -1.75093301e-05 -1.13399874e-05]\n",
      "  [ 4.42669176e-07  5.79992943e-08  2.21346863e-06 ... -4.73630280e-06\n",
      "   -4.72194006e-06 -3.96746782e-06]\n",
      "  [-3.13614066e-07 -4.68031021e-06  6.30916986e-07 ... -4.29707916e-06\n",
      "   -4.96522716e-06 -5.56514397e-06]\n",
      "  ...\n",
      "  [ 1.54077020e-06 -1.46033483e-06 -7.08538437e-06 ...  1.03560728e-06\n",
      "    4.33236073e-06  4.40745407e-06]\n",
      "  [ 4.92417757e-06  3.01258433e-06 -2.21010328e-06 ...  1.35307391e-06\n",
      "    4.21539062e-06  4.06210711e-06]\n",
      "  [-4.15042723e-06 -9.38164612e-06 -1.49736934e-05 ...  2.84481484e-06\n",
      "    4.80112203e-06  3.70736848e-06]]\n",
      "\n",
      " [[ 1.91168947e-05  2.34468971e-05  1.31862589e-05 ... -1.41271103e-05\n",
      "   -1.72775635e-05 -1.11452991e-05]\n",
      "  [ 3.10143548e-07 -2.67750231e-08  2.14405259e-06 ... -4.65486119e-06\n",
      "   -4.65049197e-06 -3.91046888e-06]\n",
      "  [-4.19350812e-07 -4.70102486e-06  5.74305318e-07 ... -4.19292064e-06\n",
      "   -4.86520821e-06 -5.47940226e-06]\n",
      "  ...\n",
      "  [ 1.49556831e-06 -1.48603453e-06 -7.07614436e-06 ...  1.07935159e-06\n",
      "    4.32873412e-06  4.40129861e-06]\n",
      "  [ 4.84209704e-06  2.94535516e-06 -2.23080178e-06 ...  1.39751194e-06\n",
      "    4.20850529e-06  4.05552873e-06]\n",
      "  [-4.11355222e-06 -9.32891089e-06 -1.48990148e-05 ...  2.88594470e-06\n",
      "    4.82386986e-06  3.73821172e-06]]\n",
      "\n",
      " [[ 1.91168947e-05  2.34468971e-05  1.31862589e-05 ... -1.41271103e-05\n",
      "   -1.72775617e-05 -1.11452991e-05]\n",
      "  [ 3.10143690e-07 -2.67750231e-08  2.14405259e-06 ... -4.65486119e-06\n",
      "   -4.65049197e-06 -3.91046842e-06]\n",
      "  [-4.19350812e-07 -4.70102486e-06  5.74305318e-07 ... -4.19292064e-06\n",
      "   -4.86520821e-06 -5.47940272e-06]\n",
      "  ...\n",
      "  [ 1.49556831e-06 -1.48603453e-06 -7.07614527e-06 ...  1.07935136e-06\n",
      "    4.32873458e-06  4.40129861e-06]\n",
      "  [ 4.84209704e-06  2.94535516e-06 -2.23080178e-06 ...  1.39751194e-06\n",
      "    4.20850529e-06  4.05552873e-06]\n",
      "  [-4.11355222e-06 -9.32891089e-06 -1.48990148e-05 ...  2.88594447e-06\n",
      "    4.82386986e-06  3.73821172e-06]]]\n"
     ]
    },
    {
     "name": "stderr",
     "output_type": "stream",
     "text": [
      "/Users/juliette/opt/anaconda3/envs/py39/lib/python3.9/site-packages/numpy/core/fromnumeric.py:3504: RuntimeWarning: Mean of empty slice.\n",
      "  return _methods._mean(a, axis=axis, dtype=dtype,\n",
      "/Users/juliette/opt/anaconda3/envs/py39/lib/python3.9/site-packages/numpy/core/_methods.py:121: RuntimeWarning: invalid value encountered in divide\n",
      "  ret = um.true_divide(\n"
     ]
    },
    {
     "name": "stdout",
     "output_type": "stream",
     "text": [
      "Fold 3 Accuracy: 0.500\n",
      "  Fold 4/4\n"
     ]
    },
    {
     "ename": "KeyboardInterrupt",
     "evalue": "",
     "output_type": "error",
     "traceback": [
      "\u001b[0;31m---------------------------------------------------------------------------\u001b[0m",
      "\u001b[0;31mKeyboardInterrupt\u001b[0m                         Traceback (most recent call last)",
      "Cell \u001b[0;32mIn[24], line 94\u001b[0m\n\u001b[1;32m     91\u001b[0m window_data \u001b[38;5;241m=\u001b[39m X_trn[trial, :, start:end]  \u001b[38;5;66;03m# (channels, window_samples)\u001b[39;00m\n\u001b[1;32m     93\u001b[0m \u001b[38;5;66;03m# Compute PSD using multitaper method for every window\u001b[39;00m\n\u001b[0;32m---> 94\u001b[0m psd, freqs \u001b[38;5;241m=\u001b[39m \u001b[43mpsd_array_multitaper\u001b[49m\u001b[43m(\u001b[49m\u001b[43mwindow_data\u001b[49m\u001b[43m,\u001b[49m\u001b[43m \u001b[49m\u001b[43msfreq\u001b[49m\u001b[38;5;241;43m=\u001b[39;49m\u001b[43mfs\u001b[49m\u001b[43m,\u001b[49m\u001b[43m \u001b[49m\u001b[43mfmin\u001b[49m\u001b[38;5;241;43m=\u001b[39;49m\u001b[43mmin_bin\u001b[49m\u001b[43m,\u001b[49m\u001b[43m \u001b[49m\u001b[43mfmax\u001b[49m\u001b[38;5;241;43m=\u001b[39;49m\u001b[43mmax_bin\u001b[49m\u001b[43m,\u001b[49m\u001b[43m \u001b[49m\u001b[43mbandwidth\u001b[49m\u001b[38;5;241;43m=\u001b[39;49m\u001b[38;5;241;43m1\u001b[39;49m\u001b[43m)\u001b[49m\n\u001b[1;32m     96\u001b[0m \u001b[38;5;66;03m# Average power in alpha band over the frequency range, store it with current trial, all channels and this window\u001b[39;00m\n\u001b[1;32m     97\u001b[0m alpha_power_trn[trial, :, i] \u001b[38;5;241m=\u001b[39m psd\u001b[38;5;241m.\u001b[39mmean(axis\u001b[38;5;241m=\u001b[39m\u001b[38;5;241m1\u001b[39m)  \u001b[38;5;66;03m# (channels,)\u001b[39;00m\n",
      "File \u001b[0;32m<decorator-gen-4>:12\u001b[0m, in \u001b[0;36mpsd_array_multitaper\u001b[0;34m(x, sfreq, fmin, fmax, bandwidth, adaptive, low_bias, normalization, remove_dc, output, n_jobs, max_iter, verbose)\u001b[0m\n",
      "File \u001b[0;32m~/opt/anaconda3/envs/py39/lib/python3.9/site-packages/mne/time_frequency/multitaper.py:434\u001b[0m, in \u001b[0;36mpsd_array_multitaper\u001b[0;34m(x, sfreq, fmin, fmax, bandwidth, adaptive, low_bias, normalization, remove_dc, output, n_jobs, max_iter, verbose)\u001b[0m\n\u001b[1;32m    432\u001b[0m offsets \u001b[38;5;241m=\u001b[39m np\u001b[38;5;241m.\u001b[39mconcatenate((np\u001b[38;5;241m.\u001b[39marange(\u001b[38;5;241m0\u001b[39m, x\u001b[38;5;241m.\u001b[39mshape[\u001b[38;5;241m0\u001b[39m], n_chunk), [x\u001b[38;5;241m.\u001b[39mshape[\u001b[38;5;241m0\u001b[39m]]))\n\u001b[1;32m    433\u001b[0m \u001b[38;5;28;01mfor\u001b[39;00m start, stop \u001b[38;5;129;01min\u001b[39;00m \u001b[38;5;28mzip\u001b[39m(offsets[:\u001b[38;5;241m-\u001b[39m\u001b[38;5;241m1\u001b[39m], offsets[\u001b[38;5;241m1\u001b[39m:]):\n\u001b[0;32m--> 434\u001b[0m     x_mt \u001b[38;5;241m=\u001b[39m \u001b[43m_mt_spectra\u001b[49m\u001b[43m(\u001b[49m\u001b[43mx\u001b[49m\u001b[43m[\u001b[49m\u001b[43mstart\u001b[49m\u001b[43m:\u001b[49m\u001b[43mstop\u001b[49m\u001b[43m]\u001b[49m\u001b[43m,\u001b[49m\u001b[43m \u001b[49m\u001b[43mdpss\u001b[49m\u001b[43m,\u001b[49m\u001b[43m \u001b[49m\u001b[43msfreq\u001b[49m\u001b[43m,\u001b[49m\u001b[43m \u001b[49m\u001b[43mremove_dc\u001b[49m\u001b[38;5;241;43m=\u001b[39;49m\u001b[43mremove_dc\u001b[49m\u001b[43m)\u001b[49m[\u001b[38;5;241m0\u001b[39m]\n\u001b[1;32m    435\u001b[0m     \u001b[38;5;28;01mif\u001b[39;00m output \u001b[38;5;241m==\u001b[39m \u001b[38;5;124m\"\u001b[39m\u001b[38;5;124mpower\u001b[39m\u001b[38;5;124m\"\u001b[39m:\n\u001b[1;32m    436\u001b[0m         \u001b[38;5;28;01mif\u001b[39;00m \u001b[38;5;129;01mnot\u001b[39;00m adaptive:\n",
      "File \u001b[0;32m~/opt/anaconda3/envs/py39/lib/python3.9/site-packages/mne/time_frequency/multitaper.py:275\u001b[0m, in \u001b[0;36m_mt_spectra\u001b[0;34m(x, dpss, sfreq, n_fft, remove_dc)\u001b[0m\n\u001b[1;32m    273\u001b[0m x_mt \u001b[38;5;241m=\u001b[39m np\u001b[38;5;241m.\u001b[39mzeros(x\u001b[38;5;241m.\u001b[39mshape[:\u001b[38;5;241m-\u001b[39m\u001b[38;5;241m1\u001b[39m] \u001b[38;5;241m+\u001b[39m (n_tapers, \u001b[38;5;28mlen\u001b[39m(freqs)), dtype\u001b[38;5;241m=\u001b[39mnp\u001b[38;5;241m.\u001b[39mcomplex128)\n\u001b[1;32m    274\u001b[0m \u001b[38;5;28;01mfor\u001b[39;00m idx, sig \u001b[38;5;129;01min\u001b[39;00m \u001b[38;5;28menumerate\u001b[39m(x):\n\u001b[0;32m--> 275\u001b[0m     x_mt[idx] \u001b[38;5;241m=\u001b[39m \u001b[43mrfft\u001b[49m\u001b[43m(\u001b[49m\u001b[43msig\u001b[49m\u001b[43m[\u001b[49m\u001b[38;5;241;43m.\u001b[39;49m\u001b[38;5;241;43m.\u001b[39;49m\u001b[38;5;241;43m.\u001b[39;49m\u001b[43m,\u001b[49m\u001b[43m \u001b[49m\u001b[43mnp\u001b[49m\u001b[38;5;241;43m.\u001b[39;49m\u001b[43mnewaxis\u001b[49m\u001b[43m,\u001b[49m\u001b[43m \u001b[49m\u001b[43m:\u001b[49m\u001b[43m]\u001b[49m\u001b[43m \u001b[49m\u001b[38;5;241;43m*\u001b[39;49m\u001b[43m \u001b[49m\u001b[43mdpss\u001b[49m\u001b[43m,\u001b[49m\u001b[43m \u001b[49m\u001b[43mn\u001b[49m\u001b[38;5;241;43m=\u001b[39;49m\u001b[43mn_fft\u001b[49m\u001b[43m)\u001b[49m\n\u001b[1;32m    276\u001b[0m \u001b[38;5;66;03m# Adjust DC and maybe Nyquist, depending on one-sided transform\u001b[39;00m\n\u001b[1;32m    277\u001b[0m x_mt[\u001b[38;5;241m.\u001b[39m\u001b[38;5;241m.\u001b[39m\u001b[38;5;241m.\u001b[39m, \u001b[38;5;241m0\u001b[39m] \u001b[38;5;241m/\u001b[39m\u001b[38;5;241m=\u001b[39m np\u001b[38;5;241m.\u001b[39msqrt(\u001b[38;5;241m2.0\u001b[39m)\n",
      "File \u001b[0;32m~/opt/anaconda3/envs/py39/lib/python3.9/site-packages/scipy/fft/_backend.py:28\u001b[0m, in \u001b[0;36m_ScipyBackend.__ua_function__\u001b[0;34m(method, args, kwargs)\u001b[0m\n\u001b[1;32m     26\u001b[0m \u001b[38;5;28;01mif\u001b[39;00m fn \u001b[38;5;129;01mis\u001b[39;00m \u001b[38;5;28;01mNone\u001b[39;00m:\n\u001b[1;32m     27\u001b[0m     \u001b[38;5;28;01mreturn\u001b[39;00m \u001b[38;5;28mNotImplemented\u001b[39m\n\u001b[0;32m---> 28\u001b[0m \u001b[38;5;28;01mreturn\u001b[39;00m \u001b[43mfn\u001b[49m\u001b[43m(\u001b[49m\u001b[38;5;241;43m*\u001b[39;49m\u001b[43margs\u001b[49m\u001b[43m,\u001b[49m\u001b[43m \u001b[49m\u001b[38;5;241;43m*\u001b[39;49m\u001b[38;5;241;43m*\u001b[39;49m\u001b[43mkwargs\u001b[49m\u001b[43m)\u001b[49m\n",
      "File \u001b[0;32m~/opt/anaconda3/envs/py39/lib/python3.9/site-packages/scipy/fft/_basic_backend.py:72\u001b[0m, in \u001b[0;36mrfft\u001b[0;34m(x, n, axis, norm, overwrite_x, workers, plan)\u001b[0m\n\u001b[1;32m     70\u001b[0m \u001b[38;5;28;01mdef\u001b[39;00m \u001b[38;5;21mrfft\u001b[39m(x, n\u001b[38;5;241m=\u001b[39m\u001b[38;5;28;01mNone\u001b[39;00m, axis\u001b[38;5;241m=\u001b[39m\u001b[38;5;241m-\u001b[39m\u001b[38;5;241m1\u001b[39m, norm\u001b[38;5;241m=\u001b[39m\u001b[38;5;28;01mNone\u001b[39;00m,\n\u001b[1;32m     71\u001b[0m          overwrite_x\u001b[38;5;241m=\u001b[39m\u001b[38;5;28;01mFalse\u001b[39;00m, workers\u001b[38;5;241m=\u001b[39m\u001b[38;5;28;01mNone\u001b[39;00m, \u001b[38;5;241m*\u001b[39m, plan\u001b[38;5;241m=\u001b[39m\u001b[38;5;28;01mNone\u001b[39;00m):\n\u001b[0;32m---> 72\u001b[0m     \u001b[38;5;28;01mreturn\u001b[39;00m \u001b[43m_execute_1D\u001b[49m\u001b[43m(\u001b[49m\u001b[38;5;124;43m'\u001b[39;49m\u001b[38;5;124;43mrfft\u001b[39;49m\u001b[38;5;124;43m'\u001b[39;49m\u001b[43m,\u001b[49m\u001b[43m \u001b[49m\u001b[43m_pocketfft\u001b[49m\u001b[38;5;241;43m.\u001b[39;49m\u001b[43mrfft\u001b[49m\u001b[43m,\u001b[49m\u001b[43m \u001b[49m\u001b[43mx\u001b[49m\u001b[43m,\u001b[49m\u001b[43m \u001b[49m\u001b[43mn\u001b[49m\u001b[38;5;241;43m=\u001b[39;49m\u001b[43mn\u001b[49m\u001b[43m,\u001b[49m\u001b[43m \u001b[49m\u001b[43maxis\u001b[49m\u001b[38;5;241;43m=\u001b[39;49m\u001b[43maxis\u001b[49m\u001b[43m,\u001b[49m\u001b[43m \u001b[49m\u001b[43mnorm\u001b[49m\u001b[38;5;241;43m=\u001b[39;49m\u001b[43mnorm\u001b[49m\u001b[43m,\u001b[49m\n\u001b[1;32m     73\u001b[0m \u001b[43m                       \u001b[49m\u001b[43moverwrite_x\u001b[49m\u001b[38;5;241;43m=\u001b[39;49m\u001b[43moverwrite_x\u001b[49m\u001b[43m,\u001b[49m\u001b[43m \u001b[49m\u001b[43mworkers\u001b[49m\u001b[38;5;241;43m=\u001b[39;49m\u001b[43mworkers\u001b[49m\u001b[43m,\u001b[49m\u001b[43m \u001b[49m\u001b[43mplan\u001b[49m\u001b[38;5;241;43m=\u001b[39;49m\u001b[43mplan\u001b[49m\u001b[43m)\u001b[49m\n",
      "File \u001b[0;32m~/opt/anaconda3/envs/py39/lib/python3.9/site-packages/scipy/fft/_basic_backend.py:28\u001b[0m, in \u001b[0;36m_execute_1D\u001b[0;34m(func_str, pocketfft_func, x, n, axis, norm, overwrite_x, workers, plan)\u001b[0m\n\u001b[1;32m     25\u001b[0m xp \u001b[38;5;241m=\u001b[39m array_namespace(x)\n\u001b[1;32m     27\u001b[0m \u001b[38;5;28;01mif\u001b[39;00m is_numpy(xp):\n\u001b[0;32m---> 28\u001b[0m     \u001b[38;5;28;01mreturn\u001b[39;00m \u001b[43mpocketfft_func\u001b[49m\u001b[43m(\u001b[49m\u001b[43mx\u001b[49m\u001b[43m,\u001b[49m\u001b[43m \u001b[49m\u001b[43mn\u001b[49m\u001b[38;5;241;43m=\u001b[39;49m\u001b[43mn\u001b[49m\u001b[43m,\u001b[49m\u001b[43m \u001b[49m\u001b[43maxis\u001b[49m\u001b[38;5;241;43m=\u001b[39;49m\u001b[43maxis\u001b[49m\u001b[43m,\u001b[49m\u001b[43m \u001b[49m\u001b[43mnorm\u001b[49m\u001b[38;5;241;43m=\u001b[39;49m\u001b[43mnorm\u001b[49m\u001b[43m,\u001b[49m\n\u001b[1;32m     29\u001b[0m \u001b[43m                          \u001b[49m\u001b[43moverwrite_x\u001b[49m\u001b[38;5;241;43m=\u001b[39;49m\u001b[43moverwrite_x\u001b[49m\u001b[43m,\u001b[49m\u001b[43m \u001b[49m\u001b[43mworkers\u001b[49m\u001b[38;5;241;43m=\u001b[39;49m\u001b[43mworkers\u001b[49m\u001b[43m,\u001b[49m\u001b[43m \u001b[49m\u001b[43mplan\u001b[49m\u001b[38;5;241;43m=\u001b[39;49m\u001b[43mplan\u001b[49m\u001b[43m)\u001b[49m\n\u001b[1;32m     31\u001b[0m norm \u001b[38;5;241m=\u001b[39m _validate_fft_args(workers, plan, norm)\n\u001b[1;32m     32\u001b[0m \u001b[38;5;28;01mif\u001b[39;00m \u001b[38;5;28mhasattr\u001b[39m(xp, \u001b[38;5;124m'\u001b[39m\u001b[38;5;124mfft\u001b[39m\u001b[38;5;124m'\u001b[39m):\n",
      "File \u001b[0;32m~/opt/anaconda3/envs/py39/lib/python3.9/site-packages/scipy/fft/_pocketfft/basic.py:48\u001b[0m, in \u001b[0;36mr2c\u001b[0;34m(forward, x, n, axis, norm, overwrite_x, workers, plan)\u001b[0m\n\u001b[1;32m     45\u001b[0m \u001b[38;5;28;01mif\u001b[39;00m plan \u001b[38;5;129;01mis\u001b[39;00m \u001b[38;5;129;01mnot\u001b[39;00m \u001b[38;5;28;01mNone\u001b[39;00m:\n\u001b[1;32m     46\u001b[0m     \u001b[38;5;28;01mraise\u001b[39;00m \u001b[38;5;167;01mNotImplementedError\u001b[39;00m(\u001b[38;5;124m'\u001b[39m\u001b[38;5;124mPassing a precomputed plan is not yet \u001b[39m\u001b[38;5;124m'\u001b[39m\n\u001b[1;32m     47\u001b[0m                               \u001b[38;5;124m'\u001b[39m\u001b[38;5;124msupported by scipy.fft functions\u001b[39m\u001b[38;5;124m'\u001b[39m)\n\u001b[0;32m---> 48\u001b[0m tmp \u001b[38;5;241m=\u001b[39m \u001b[43m_asfarray\u001b[49m\u001b[43m(\u001b[49m\u001b[43mx\u001b[49m\u001b[43m)\u001b[49m\n\u001b[1;32m     49\u001b[0m norm \u001b[38;5;241m=\u001b[39m _normalization(norm, forward)\n\u001b[1;32m     50\u001b[0m workers \u001b[38;5;241m=\u001b[39m _workers(workers)\n",
      "File \u001b[0;32m~/opt/anaconda3/envs/py39/lib/python3.9/site-packages/scipy/fft/_pocketfft/helper.py:94\u001b[0m, in \u001b[0;36m_asfarray\u001b[0;34m(x)\u001b[0m\n\u001b[1;32m     91\u001b[0m \u001b[38;5;28;01mif\u001b[39;00m \u001b[38;5;129;01mnot\u001b[39;00m \u001b[38;5;28mhasattr\u001b[39m(x, \u001b[38;5;124m\"\u001b[39m\u001b[38;5;124mdtype\u001b[39m\u001b[38;5;124m\"\u001b[39m):\n\u001b[1;32m     92\u001b[0m     x \u001b[38;5;241m=\u001b[39m np\u001b[38;5;241m.\u001b[39masarray(x)\n\u001b[0;32m---> 94\u001b[0m \u001b[38;5;28;01mif\u001b[39;00m x\u001b[38;5;241m.\u001b[39mdtype \u001b[38;5;241m==\u001b[39m \u001b[43mnp\u001b[49m\u001b[38;5;241;43m.\u001b[39;49m\u001b[43mfloat16\u001b[49m:\n\u001b[1;32m     95\u001b[0m     \u001b[38;5;28;01mreturn\u001b[39;00m np\u001b[38;5;241m.\u001b[39masarray(x, np\u001b[38;5;241m.\u001b[39mfloat32)\n\u001b[1;32m     96\u001b[0m \u001b[38;5;28;01melif\u001b[39;00m x\u001b[38;5;241m.\u001b[39mdtype\u001b[38;5;241m.\u001b[39mkind \u001b[38;5;129;01mnot\u001b[39;00m \u001b[38;5;129;01min\u001b[39;00m \u001b[38;5;124m'\u001b[39m\u001b[38;5;124mfc\u001b[39m\u001b[38;5;124m'\u001b[39m:\n",
      "\u001b[0;31mKeyboardInterrupt\u001b[0m: "
     ]
    }
   ],
   "source": [
    "import numpy as np\n",
    "import os\n",
    "from sklearn.discriminant_analysis import LinearDiscriminantAnalysis as LDA\n",
    "from mne.time_frequency import psd_array_multitaper\n",
    "import warnings\n",
    "import mne\n",
    "\n",
    "# Suppress warnings\n",
    "mne.set_log_level('warning')\n",
    "\n",
    "# Directory setup\n",
    "file_dir = '/Users/juliette/Desktop/thesis/preprocessing/hybrid_preprocessing'\n",
    "decoding_results_dir = '/Users/juliette/Desktop/thesis/results/alpha+p300'\n",
    "\n",
    "# Parameters\n",
    "min_bin, max_bin = 8, 12  # Alpha range\n",
    "p300_window = (0.3, 0.5)  # P300 time window in seconds, after stimulus\n",
    "baseline_window = (-0.25, 0)  # Baseline window\n",
    "fs = 250  # Sampling rate, adjust if different\n",
    "erp_window = (0, 0.75)  # ERP time window (0 to 0.75 seconds) in seconds\n",
    "baseline_window = (-0.25, 0)  # Baseline period (0.25 s before target)\n",
    "window_size = 2 # Size for the sliding window to extract alpha\n",
    "step_size = 0.5\n",
    "\n",
    "# Initialize results storage\n",
    "results = []\n",
    "\n",
    "# List of subjects\n",
    "subjects = [\"VPpdia\", \"VPpdib\", \"VPpdic\", \"VPpdid\", \"VPpdie\", \"VPpdif\", \"VPpdig\", \"VPpdih\", \"VPpdii\", \"VPpdij\",\n",
    "            \"VPpdik\", \"VPpdil\", \"VPpdim\", \"VPpdin\", \"VPpdio\", \"VPpdip\", \"VPpdiq\", \"VPpdir\", \"VPpdis\", \"VPpdit\",\n",
    "            \"VPpdiu\", \"VPpdiv\", \"VPpdiw\", \"VPpdix\", \"VPpdiy\", \"VPpdiz\", \"VPpdiza\", \"VPpdizb\", \"VPpdizc\"]\n",
    "\n",
    "# Main processing loop\n",
    "for subject in subjects:\n",
    "    print(f\"Processing {subject}...\")\n",
    "\n",
    "    # Load preprocessed data\n",
    "    fn = os.path.join(file_dir, f\"sub-{subject}_task-covert_alpha+p300.npz\")\n",
    "    tmp = np.load(fn)\n",
    "\n",
    "    X = tmp[\"X\"]  # EEG data matrix (trials, channels, samples)\n",
    "    y = tmp[\"y\"]  # Labels (cued side)\n",
    "    z = tmp[\"z\"]  # Target presence (trials, epochs, sides)\n",
    "    V = tmp[\"V\"]  # One code cycle (classes, samples)\n",
    "    fs = tmp[\"fs\"].flatten()[0]\n",
    "       \n",
    "    # Calculates trial length in seconds\n",
    "    trial_length = X.shape[2] / fs\n",
    "    \n",
    "    # Create time vector for P300 analysis\n",
    "    trial_times = np.linspace(0, trial_length, X.shape[2])\n",
    "\n",
    "    # Cross-validation\n",
    "    fold_accuracies = []\n",
    "    n_folds = 4\n",
    "    n_trials = X.shape[0] // n_folds\n",
    "    folds = np.repeat(np.arange(n_folds), n_trials)\n",
    "\n",
    "    for i_fold in range(n_folds):\n",
    "        print(f\"  Fold {i_fold + 1}/{n_folds}\")\n",
    "\n",
    "        # Split train and test data\n",
    "        X_trn, y_trn, z_trn = X[folds != i_fold, :, :], y[folds != i_fold], z[folds != i_fold, :, :]\n",
    "        X_tst, y_tst, z_tst = X[folds == i_fold, :, :], y[folds == i_fold], z[folds == i_fold, :, :]\n",
    "\n",
    "        \n",
    "        # --- Alpha Feature Extraction ---\n",
    "        \n",
    "        # Get dataset shapes\n",
    "        num_trials_trn, num_channels_trn, num_samples_trn = X_trn.shape\n",
    "        num_trials_tst, num_channels_tst, num_samples_tst = X_tst.shape\n",
    "\n",
    "        window_samples = int(window_size * fs)\n",
    "        step_samples = int(step_size * fs)\n",
    "\n",
    "        # Compute number of windows per trial\n",
    "        num_windows_trn = (num_samples_trn - window_samples) // step_samples + 1\n",
    "        num_windows_tst = (num_samples_tst - window_samples) // step_samples + 1\n",
    "\n",
    "        # Initialize storage for alpha power\n",
    "        alpha_power_trn = np.zeros((num_trials_trn, num_channels_trn, num_windows_trn))\n",
    "        alpha_power_tst = np.zeros((num_trials_tst, num_channels_tst, num_windows_tst))\n",
    "\n",
    "        # Process training data\n",
    "        for trial in range(num_trials_trn):\n",
    "            for i in range(num_windows_trn):\n",
    "                \n",
    "                # Start and end of the current window to extract this window\n",
    "                start = i * step_samples\n",
    "                end = start + window_samples\n",
    "                window_data = X_trn[trial, :, start:end]  # (channels, window_samples)\n",
    "\n",
    "                # Compute PSD using multitaper method for every window\n",
    "                psd, freqs = psd_array_multitaper(window_data, sfreq=fs, fmin=min_bin, fmax=max_bin, bandwidth=1)\n",
    "\n",
    "                # Average power in alpha band over the frequency range, store it with current trial, all channels and this window\n",
    "                alpha_power_trn[trial, :, i] = psd.mean(axis=1)  # (channels,)\n",
    "\n",
    "        # Average across windows for final feature extraction --> final alpha power feature per trial and channel\n",
    "        alpha_features_trn = alpha_power_trn.mean(axis=2)  # Shape (trials, channels)\n",
    "\n",
    "        # Process testing data\n",
    "        for trial in range(num_trials_tst):\n",
    "            for i in range(num_windows_tst):\n",
    "                \n",
    "                # Start and end of the current window to extract this window\n",
    "                start = i * step_samples\n",
    "                end = start + window_samples\n",
    "                window_data = X_tst[trial, :, start:end]  # (channels, window_samples)\n",
    "\n",
    "                # Compute PSD using multitaper method for every window\n",
    "                psd, freqs = psd_array_multitaper(window_data, sfreq=fs, fmin=min_bin, fmax=max_bin, bandwidth=1)\n",
    "\n",
    "                # Average power in alpha band over the frequency range, store it with current trial, all channels and this window\n",
    "                alpha_power_tst[trial, :, i] = psd.mean(axis=1)  # (channels,)\n",
    "\n",
    "        # Average across windows for final feature extraction --> final alpha power feature per trial and channel.\n",
    "        alpha_features_tst = alpha_power_tst.mean(axis=2)  # Shape (trials, channels)\n",
    "\n",
    "        \n",
    "        # --- ERP Feature Extraction (P300) ---\n",
    "        \n",
    "        # Convert time windows to sample indices\n",
    "        erp_samples = (int(erp_window[0] * fs), int(erp_window[1] * fs))\n",
    "        baseline_samples = (int(baseline_window[0] * fs), int(baseline_window[1] * fs))\n",
    "        print(\"erp_samples:\", erp_samples)\n",
    "\n",
    "        # Loop over test trials and assign attended and unattended trials based on cued_side\n",
    "        attended_trials = []\n",
    "        unattended_trials = []\n",
    "\n",
    "        for t_idx in range(len(y_tst)):\n",
    "            cued_side = y_tst[t_idx]  # Get cued side (0 or 1)\n",
    "\n",
    "            # Create event vectors & ground truth for cued side\n",
    "            left_targets = z_tst[t_idx][:, 0]  # Left targets\n",
    "            right_targets = z_tst[t_idx][:, 1]  # Right targets\n",
    "\n",
    "            # Attended trials are those where cued_side matches the target\n",
    "            if cued_side == 0:  # If cued side is left\n",
    "                attended_trials.append(left_targets)  # Target is left\n",
    "                unattended_trials.append(right_targets)  # Non-target is right\n",
    "            else:  # If cued side is right\n",
    "                attended_trials.append(right_targets)  # Target is right\n",
    "                unattended_trials.append(left_targets)  # Non-target is left\n",
    "\n",
    "        # Compute ERP by averaging over target-locked epochs\n",
    "        attended_erp = np.mean(X_tst[attended_trials, :, erp_samples[0]:erp_samples[1]], axis=1) # Only the attended trials, all channels, and ERP window\n",
    "        unattended_erp = np.mean(X_tst[unattended_trials, :, erp_samples[0]:erp_samples[1]], axis=1)\n",
    "        print(\"attended_erp:\",attended_erp)    \n",
    "        \n",
    "        # Baseline correction: subtract mean of baseline period\n",
    "        attended_erp -= np.mean(attended_erp[:, baseline_samples[0]:baseline_samples[1]], axis=1, keepdims=True)\n",
    "        unattended_erp -= np.mean(unattended_erp[:, baseline_samples[0]:baseline_samples[1]], axis=1, keepdims=True)\n",
    "        \n",
    "        \n",
    "        # Reshape ERP features to ensure they match the number of trials\n",
    "        # For training set\n",
    "        attended_erp_flat_trn = attended_erp.flatten()\n",
    "        unattended_erp_flat_trn = unattended_erp.flatten()\n",
    "\n",
    "        # For testing set\n",
    "        attended_erp_flat_tst = attended_erp.flatten()\n",
    "        unattended_erp_flat_tst = unattended_erp.flatten()\n",
    "\n",
    "        # Ensure that the feature matrices are consistently sized (trials, features)\n",
    "        attended_features_trn = np.tile(attended_erp_flat_trn, (X_trn.shape[0], 1))\n",
    "        unattended_features_trn = np.tile(unattended_erp_flat_trn, (X_trn.shape[0], 1))\n",
    "\n",
    "        attended_features_tst = np.tile(attended_erp_flat_tst, (X_tst.shape[0], 1))\n",
    "        unattended_features_tst = np.tile(unattended_erp_flat_tst, (X_tst.shape[0], 1))\n",
    "\n",
    "        # Concatenate ERP features (attended, unattended) and alpha features\n",
    "        combined_features_trn = np.column_stack([attended_features_trn, unattended_features_trn, alpha_features_trn])\n",
    "        combined_features_tst = np.column_stack([attended_features_tst, unattended_features_tst, alpha_features_tst])\n",
    "\n",
    "        # Ensure no NaNs are present\n",
    "        combined_features_trn = np.nan_to_num(combined_features_trn, nan=0)\n",
    "        combined_features_tst = np.nan_to_num(combined_features_tst, nan=0)\n",
    "\n",
    "        \n",
    "        # --- Ensemble ---\n",
    "        \n",
    "        # Train LDA\n",
    "        lda = LDA(solver=\"svd\")\n",
    "        lda.fit(combined_features_trn, y_trn)\n",
    "\n",
    "        # Make predictions on the test set\n",
    "        y_pred = lda.predict(combined_features_tst)\n",
    "\n",
    "        # Calculate accuracy\n",
    "        accuracy = np.mean(y_pred == y_tst)\n",
    "        fold_accuracies.append(accuracy)\n",
    "        print(f\"Fold {i_fold + 1} Accuracy: {accuracy:.3f}\")\n",
    "\n",
    "    # Compute subject-level results\n",
    "    accuracy = np.round(np.mean(fold_accuracies), 2)\n",
    "    se = np.round(np.std(fold_accuracies) / np.sqrt(n_folds), 2)\n",
    "    results.append((subject, accuracy, se))\n",
    "    print(f\"Average Accuracy for {subject}: {accuracy:.3f}\")\n",
    "\n",
    "# Save and report results\n",
    "results_array = np.array(\n",
    "    results, dtype=[('subject', 'U10'), ('accuracy', 'f4'), ('standard_error', 'f4')]\n",
    ")\n",
    "\n",
    "overall_accuracy = np.round(results_array['accuracy'].mean(), 2)\n",
    "overall_se = np.round(results_array['standard_error'].mean(), 2)\n",
    "print(f\"Overall Hybrid BCI Accuracy: {overall_accuracy:.2f} ± {overall_se:.2f}\")\n",
    "\n",
    "# Save results\n",
    "if not os.path.exists(decoding_results_dir):\n",
    "    os.makedirs(decoding_results_dir)\n",
    "results_save_path = os.path.join(decoding_results_dir, \"covert_hybrid_alpha_p300_egan_results.npy\")     \n",
    "np.save(results_save_path, results_array)\n"
   ]
  },
  {
   "cell_type": "markdown",
   "id": "7b4870e1",
   "metadata": {},
   "source": [
    "## Implement Welch's PSD\n",
    "The first cell is what I initially came up with, the second cell is more similar to Egan's paper. These two cells implement Welch's PSD instead of anothet multitaper method."
   ]
  },
  {
   "cell_type": "code",
   "execution_count": 81,
   "id": "fcae0a99",
   "metadata": {
    "scrolled": true
   },
   "outputs": [
    {
     "name": "stdout",
     "output_type": "stream",
     "text": [
      "Processing VPpdia...\n",
      "  Fold 1/4\n"
     ]
    },
    {
     "name": "stderr",
     "output_type": "stream",
     "text": [
      "/Users/juliette/opt/anaconda3/envs/py39/lib/python3.9/site-packages/numpy/lib/function_base.py:2897: RuntimeWarning: invalid value encountered in divide\n",
      "  c /= stddev[:, None]\n",
      "/Users/juliette/opt/anaconda3/envs/py39/lib/python3.9/site-packages/numpy/lib/function_base.py:2898: RuntimeWarning: invalid value encountered in divide\n",
      "  c /= stddev[None, :]\n"
     ]
    },
    {
     "name": "stdout",
     "output_type": "stream",
     "text": [
      "psd_features_trn: [[1.5200778e-12 1.5078374e-12 1.6363573e-12 ... 6.6661222e-13\n",
      "  4.7474909e-13 1.0875865e-12]\n",
      " [1.3305238e-12 1.3502245e-12 1.4642459e-12 ... 1.3430532e-12\n",
      "  6.9845432e-13 2.1823869e-12]\n",
      " [1.3662575e-12 1.7124673e-12 1.9843777e-12 ... 1.0917072e-12\n",
      "  7.2049967e-13 1.4873388e-12]\n",
      " ...\n",
      " [2.2817956e-12 1.8661704e-12 1.8002434e-12 ... 8.8336386e-13\n",
      "  4.9529868e-13 1.8749767e-12]\n",
      " [1.6871048e-12 1.6333869e-12 1.8336556e-12 ... 1.6168470e-12\n",
      "  1.1001625e-12 2.9306880e-12]\n",
      " [1.8652794e-12 1.8726925e-12 2.0177473e-12 ... 8.4892493e-13\n",
      "  6.1278809e-13 1.3958179e-12]]\n",
      "psd_features_trn.shape: (60, 28)\n",
      "Shape of combined_features_trn: (60, 30)\n",
      "Shape of combined_features_tst: (20, 30)\n",
      "Fold 1 Accuracy: 0.700\n",
      "  Fold 2/4\n"
     ]
    },
    {
     "name": "stderr",
     "output_type": "stream",
     "text": [
      "/Users/juliette/opt/anaconda3/envs/py39/lib/python3.9/site-packages/numpy/lib/function_base.py:2897: RuntimeWarning: invalid value encountered in divide\n",
      "  c /= stddev[:, None]\n",
      "/Users/juliette/opt/anaconda3/envs/py39/lib/python3.9/site-packages/numpy/lib/function_base.py:2898: RuntimeWarning: invalid value encountered in divide\n",
      "  c /= stddev[None, :]\n"
     ]
    },
    {
     "name": "stdout",
     "output_type": "stream",
     "text": [
      "psd_features_trn: [[1.2020385e-12 1.2736791e-12 1.4772843e-12 ... 8.4635277e-13\n",
      "  5.3293736e-13 1.2218689e-12]\n",
      " [1.8516237e-12 1.9922104e-12 2.1090627e-12 ... 1.5057360e-12\n",
      "  1.0001363e-12 2.0644474e-12]\n",
      " [1.4402949e-12 1.4874179e-12 1.6348157e-12 ... 1.4110116e-12\n",
      "  9.7150142e-13 1.7438970e-12]\n",
      " ...\n",
      " [2.2817956e-12 1.8661704e-12 1.8002434e-12 ... 8.8336386e-13\n",
      "  4.9529868e-13 1.8749767e-12]\n",
      " [1.6871048e-12 1.6333869e-12 1.8336556e-12 ... 1.6168470e-12\n",
      "  1.1001625e-12 2.9306880e-12]\n",
      " [1.8652794e-12 1.8726925e-12 2.0177473e-12 ... 8.4892493e-13\n",
      "  6.1278809e-13 1.3958179e-12]]\n",
      "psd_features_trn.shape: (60, 28)\n",
      "Shape of combined_features_trn: (60, 30)\n",
      "Shape of combined_features_tst: (20, 30)\n",
      "Fold 2 Accuracy: 0.600\n",
      "  Fold 3/4\n",
      "psd_features_trn: [[1.2020385e-12 1.2736791e-12 1.4772843e-12 ... 8.4635277e-13\n",
      "  5.3293736e-13 1.2218689e-12]\n",
      " [1.8516237e-12 1.9922104e-12 2.1090627e-12 ... 1.5057360e-12\n",
      "  1.0001363e-12 2.0644474e-12]\n",
      " [1.4402949e-12 1.4874179e-12 1.6348157e-12 ... 1.4110116e-12\n",
      "  9.7150142e-13 1.7438970e-12]\n",
      " ...\n",
      " [2.2817956e-12 1.8661704e-12 1.8002434e-12 ... 8.8336386e-13\n",
      "  4.9529868e-13 1.8749767e-12]\n",
      " [1.6871048e-12 1.6333869e-12 1.8336556e-12 ... 1.6168470e-12\n",
      "  1.1001625e-12 2.9306880e-12]\n",
      " [1.8652794e-12 1.8726925e-12 2.0177473e-12 ... 8.4892493e-13\n",
      "  6.1278809e-13 1.3958179e-12]]\n",
      "psd_features_trn.shape: (60, 28)\n",
      "Shape of combined_features_trn: (60, 30)\n",
      "Shape of combined_features_tst: (20, 30)\n",
      "Fold 3 Accuracy: 0.600\n",
      "  Fold 4/4\n"
     ]
    },
    {
     "name": "stderr",
     "output_type": "stream",
     "text": [
      "/Users/juliette/opt/anaconda3/envs/py39/lib/python3.9/site-packages/numpy/lib/function_base.py:2897: RuntimeWarning: invalid value encountered in divide\n",
      "  c /= stddev[:, None]\n",
      "/Users/juliette/opt/anaconda3/envs/py39/lib/python3.9/site-packages/numpy/lib/function_base.py:2898: RuntimeWarning: invalid value encountered in divide\n",
      "  c /= stddev[None, :]\n"
     ]
    },
    {
     "name": "stdout",
     "output_type": "stream",
     "text": [
      "psd_features_trn: [[1.2020385e-12 1.2736791e-12 1.4772843e-12 ... 8.4635277e-13\n",
      "  5.3293736e-13 1.2218689e-12]\n",
      " [1.8516237e-12 1.9922104e-12 2.1090627e-12 ... 1.5057360e-12\n",
      "  1.0001363e-12 2.0644474e-12]\n",
      " [1.4402949e-12 1.4874179e-12 1.6348157e-12 ... 1.4110116e-12\n",
      "  9.7150142e-13 1.7438970e-12]\n",
      " ...\n",
      " [2.0523197e-12 2.1100524e-12 2.3106848e-12 ... 8.0133063e-13\n",
      "  6.1696508e-13 1.2585398e-12]\n",
      " [1.6849586e-12 1.8340050e-12 2.0245071e-12 ... 7.5332736e-13\n",
      "  6.3192594e-13 1.1941779e-12]\n",
      " [1.9134538e-12 2.1424368e-12 2.3507947e-12 ... 7.2386677e-13\n",
      "  4.2587136e-13 1.1848161e-12]]\n",
      "psd_features_trn.shape: (60, 28)\n",
      "Shape of combined_features_trn: (60, 30)\n",
      "Shape of combined_features_tst: (20, 30)\n",
      "Fold 4 Accuracy: 0.800\n",
      "Average Accuracy for VPpdia: 0.680\n",
      "Processing VPpdib...\n",
      "  Fold 1/4\n"
     ]
    },
    {
     "name": "stderr",
     "output_type": "stream",
     "text": [
      "/Users/juliette/opt/anaconda3/envs/py39/lib/python3.9/site-packages/numpy/lib/function_base.py:2897: RuntimeWarning: invalid value encountered in divide\n",
      "  c /= stddev[:, None]\n",
      "/Users/juliette/opt/anaconda3/envs/py39/lib/python3.9/site-packages/numpy/lib/function_base.py:2898: RuntimeWarning: invalid value encountered in divide\n",
      "  c /= stddev[None, :]\n"
     ]
    },
    {
     "name": "stdout",
     "output_type": "stream",
     "text": [
      "psd_features_trn: [[8.47471659e-12 8.50534573e-12 1.07885497e-11 ... 2.16964966e-12\n",
      "  2.89518735e-12 6.20265297e-12]\n",
      " [1.21018794e-11 1.21333429e-11 1.45627278e-11 ... 3.64520176e-12\n",
      "  4.28087990e-12 6.76829773e-12]\n",
      " [1.18954326e-11 1.21184130e-11 1.43433113e-11 ... 3.50758723e-12\n",
      "  3.67971669e-12 9.59165646e-12]\n",
      " ...\n",
      " [1.60618827e-11 1.75737220e-11 1.98604744e-11 ... 6.79969579e-12\n",
      "  6.45497197e-12 1.35854149e-11]\n",
      " [1.77654332e-11 1.78825166e-11 2.08521620e-11 ... 5.49745492e-12\n",
      "  5.76982082e-12 1.24206817e-11]\n",
      " [1.92606157e-11 1.96062749e-11 2.31391833e-11 ... 5.08803590e-12\n",
      "  6.86808900e-12 1.05352385e-11]]\n",
      "psd_features_trn.shape: (60, 26)\n",
      "Shape of combined_features_trn: (60, 28)\n",
      "Shape of combined_features_tst: (20, 28)\n",
      "Fold 1 Accuracy: 0.950\n",
      "  Fold 2/4\n"
     ]
    },
    {
     "name": "stderr",
     "output_type": "stream",
     "text": [
      "/Users/juliette/opt/anaconda3/envs/py39/lib/python3.9/site-packages/numpy/lib/function_base.py:2897: RuntimeWarning: invalid value encountered in divide\n",
      "  c /= stddev[:, None]\n",
      "/Users/juliette/opt/anaconda3/envs/py39/lib/python3.9/site-packages/numpy/lib/function_base.py:2898: RuntimeWarning: invalid value encountered in divide\n",
      "  c /= stddev[None, :]\n"
     ]
    },
    {
     "name": "stdout",
     "output_type": "stream",
     "text": [
      "psd_features_trn: [[6.82129180e-12 7.07239649e-12 8.43316042e-12 ... 2.52211555e-12\n",
      "  2.68847553e-12 6.10302477e-12]\n",
      " [1.01811016e-11 9.38213136e-12 1.12533984e-11 ... 2.97523312e-12\n",
      "  3.18333489e-12 5.85760390e-12]\n",
      " [1.40588713e-11 1.49193088e-11 1.74146825e-11 ... 3.54086704e-12\n",
      "  4.27588824e-12 9.86704902e-12]\n",
      " ...\n",
      " [1.60618827e-11 1.75737220e-11 1.98604744e-11 ... 6.79969579e-12\n",
      "  6.45497197e-12 1.35854149e-11]\n",
      " [1.77654332e-11 1.78825166e-11 2.08521620e-11 ... 5.49745492e-12\n",
      "  5.76982082e-12 1.24206817e-11]\n",
      " [1.92606157e-11 1.96062749e-11 2.31391833e-11 ... 5.08803590e-12\n",
      "  6.86808900e-12 1.05352385e-11]]\n",
      "psd_features_trn.shape: (60, 26)\n",
      "Shape of combined_features_trn: (60, 28)\n",
      "Shape of combined_features_tst: (20, 28)\n",
      "Fold 2 Accuracy: 0.800\n",
      "  Fold 3/4\n",
      "psd_features_trn: [[6.82129180e-12 7.07239649e-12 8.43316042e-12 ... 2.52211555e-12\n",
      "  2.68847553e-12 6.10302477e-12]\n",
      " [1.01811016e-11 9.38213136e-12 1.12533984e-11 ... 2.97523312e-12\n",
      "  3.18333489e-12 5.85760390e-12]\n",
      " [1.40588713e-11 1.49193088e-11 1.74146825e-11 ... 3.54086704e-12\n",
      "  4.27588824e-12 9.86704902e-12]\n",
      " ...\n",
      " [1.60618827e-11 1.75737220e-11 1.98604744e-11 ... 6.79969579e-12\n",
      "  6.45497197e-12 1.35854149e-11]\n",
      " [1.77654332e-11 1.78825166e-11 2.08521620e-11 ... 5.49745492e-12\n",
      "  5.76982082e-12 1.24206817e-11]\n",
      " [1.92606157e-11 1.96062749e-11 2.31391833e-11 ... 5.08803590e-12\n",
      "  6.86808900e-12 1.05352385e-11]]\n",
      "psd_features_trn.shape: (60, 26)\n",
      "Shape of combined_features_trn: (60, 28)\n",
      "Shape of combined_features_tst: (20, 28)\n",
      "Fold 3 Accuracy: 0.800\n",
      "  Fold 4/4\n"
     ]
    },
    {
     "ename": "KeyboardInterrupt",
     "evalue": "",
     "output_type": "error",
     "traceback": [
      "\u001b[0;31m---------------------------------------------------------------------------\u001b[0m",
      "\u001b[0;31mKeyboardInterrupt\u001b[0m                         Traceback (most recent call last)",
      "Cell \u001b[0;32mIn[81], line 75\u001b[0m\n\u001b[1;32m     72\u001b[0m z_right \u001b[38;5;241m=\u001b[39m side_tst[:, \u001b[38;5;241m1\u001b[39m] \u001b[38;5;241m==\u001b[39m \u001b[38;5;241m1\u001b[39m\n\u001b[1;32m     74\u001b[0m \u001b[38;5;66;03m# Train LDA (for extracting correlation of P300)\u001b[39;00m\n\u001b[0;32m---> 75\u001b[0m \u001b[43mlda_1\u001b[49m\u001b[38;5;241;43m.\u001b[39;49m\u001b[43mfit\u001b[49m\u001b[43m(\u001b[49m\u001b[43mX_trn_reshaped\u001b[49m\u001b[43m,\u001b[49m\u001b[43m \u001b[49m\u001b[43my_trn\u001b[49m\u001b[43m)\u001b[49m\n\u001b[1;32m     77\u001b[0m \u001b[38;5;66;03m# Predict on test data\u001b[39;00m\n\u001b[1;32m     78\u001b[0m y_hat \u001b[38;5;241m=\u001b[39m lda_1\u001b[38;5;241m.\u001b[39mpredict(X_tst_reshaped)\n",
      "File \u001b[0;32m~/opt/anaconda3/envs/py39/lib/python3.9/site-packages/sklearn/base.py:1389\u001b[0m, in \u001b[0;36m_fit_context.<locals>.decorator.<locals>.wrapper\u001b[0;34m(estimator, *args, **kwargs)\u001b[0m\n\u001b[1;32m   1382\u001b[0m     estimator\u001b[38;5;241m.\u001b[39m_validate_params()\n\u001b[1;32m   1384\u001b[0m \u001b[38;5;28;01mwith\u001b[39;00m config_context(\n\u001b[1;32m   1385\u001b[0m     skip_parameter_validation\u001b[38;5;241m=\u001b[39m(\n\u001b[1;32m   1386\u001b[0m         prefer_skip_nested_validation \u001b[38;5;129;01mor\u001b[39;00m global_skip_validation\n\u001b[1;32m   1387\u001b[0m     )\n\u001b[1;32m   1388\u001b[0m ):\n\u001b[0;32m-> 1389\u001b[0m     \u001b[38;5;28;01mreturn\u001b[39;00m \u001b[43mfit_method\u001b[49m\u001b[43m(\u001b[49m\u001b[43mestimator\u001b[49m\u001b[43m,\u001b[49m\u001b[43m \u001b[49m\u001b[38;5;241;43m*\u001b[39;49m\u001b[43margs\u001b[49m\u001b[43m,\u001b[49m\u001b[43m \u001b[49m\u001b[38;5;241;43m*\u001b[39;49m\u001b[38;5;241;43m*\u001b[39;49m\u001b[43mkwargs\u001b[49m\u001b[43m)\u001b[49m\n",
      "File \u001b[0;32m~/opt/anaconda3/envs/py39/lib/python3.9/site-packages/sklearn/discriminant_analysis.py:707\u001b[0m, in \u001b[0;36mLinearDiscriminantAnalysis.fit\u001b[0;34m(self, X, y)\u001b[0m\n\u001b[1;32m    701\u001b[0m     \u001b[38;5;28;01mif\u001b[39;00m \u001b[38;5;28mself\u001b[39m\u001b[38;5;241m.\u001b[39mcovariance_estimator \u001b[38;5;129;01mis\u001b[39;00m \u001b[38;5;129;01mnot\u001b[39;00m \u001b[38;5;28;01mNone\u001b[39;00m:\n\u001b[1;32m    702\u001b[0m         \u001b[38;5;28;01mraise\u001b[39;00m \u001b[38;5;167;01mValueError\u001b[39;00m(\n\u001b[1;32m    703\u001b[0m             \u001b[38;5;124m\"\u001b[39m\u001b[38;5;124mcovariance estimator \u001b[39m\u001b[38;5;124m\"\u001b[39m\n\u001b[1;32m    704\u001b[0m             \u001b[38;5;124m\"\u001b[39m\u001b[38;5;124mis not supported \u001b[39m\u001b[38;5;124m\"\u001b[39m\n\u001b[1;32m    705\u001b[0m             \u001b[38;5;124m\"\u001b[39m\u001b[38;5;124mwith svd solver. Try another solver\u001b[39m\u001b[38;5;124m\"\u001b[39m\n\u001b[1;32m    706\u001b[0m         )\n\u001b[0;32m--> 707\u001b[0m     \u001b[38;5;28;43mself\u001b[39;49m\u001b[38;5;241;43m.\u001b[39;49m\u001b[43m_solve_svd\u001b[49m\u001b[43m(\u001b[49m\u001b[43mX\u001b[49m\u001b[43m,\u001b[49m\u001b[43m \u001b[49m\u001b[43my\u001b[49m\u001b[43m)\u001b[49m\n\u001b[1;32m    708\u001b[0m \u001b[38;5;28;01melif\u001b[39;00m \u001b[38;5;28mself\u001b[39m\u001b[38;5;241m.\u001b[39msolver \u001b[38;5;241m==\u001b[39m \u001b[38;5;124m\"\u001b[39m\u001b[38;5;124mlsqr\u001b[39m\u001b[38;5;124m\"\u001b[39m:\n\u001b[1;32m    709\u001b[0m     \u001b[38;5;28mself\u001b[39m\u001b[38;5;241m.\u001b[39m_solve_lstsq(\n\u001b[1;32m    710\u001b[0m         X,\n\u001b[1;32m    711\u001b[0m         y,\n\u001b[1;32m    712\u001b[0m         shrinkage\u001b[38;5;241m=\u001b[39m\u001b[38;5;28mself\u001b[39m\u001b[38;5;241m.\u001b[39mshrinkage,\n\u001b[1;32m    713\u001b[0m         covariance_estimator\u001b[38;5;241m=\u001b[39m\u001b[38;5;28mself\u001b[39m\u001b[38;5;241m.\u001b[39mcovariance_estimator,\n\u001b[1;32m    714\u001b[0m     )\n",
      "File \u001b[0;32m~/opt/anaconda3/envs/py39/lib/python3.9/site-packages/sklearn/discriminant_analysis.py:604\u001b[0m, in \u001b[0;36mLinearDiscriminantAnalysis._solve_svd\u001b[0;34m(self, X, y)\u001b[0m\n\u001b[1;32m    602\u001b[0m X \u001b[38;5;241m=\u001b[39m xp\u001b[38;5;241m.\u001b[39msqrt(fac) \u001b[38;5;241m*\u001b[39m (Xc \u001b[38;5;241m/\u001b[39m std)\n\u001b[1;32m    603\u001b[0m \u001b[38;5;66;03m# SVD of centered (within)scaled data\u001b[39;00m\n\u001b[0;32m--> 604\u001b[0m U, S, Vt \u001b[38;5;241m=\u001b[39m \u001b[43msvd\u001b[49m\u001b[43m(\u001b[49m\u001b[43mX\u001b[49m\u001b[43m,\u001b[49m\u001b[43m \u001b[49m\u001b[43mfull_matrices\u001b[49m\u001b[38;5;241;43m=\u001b[39;49m\u001b[38;5;28;43;01mFalse\u001b[39;49;00m\u001b[43m)\u001b[49m\n\u001b[1;32m    606\u001b[0m rank \u001b[38;5;241m=\u001b[39m xp\u001b[38;5;241m.\u001b[39msum(xp\u001b[38;5;241m.\u001b[39mastype(S \u001b[38;5;241m>\u001b[39m \u001b[38;5;28mself\u001b[39m\u001b[38;5;241m.\u001b[39mtol, xp\u001b[38;5;241m.\u001b[39mint32))\n\u001b[1;32m    607\u001b[0m \u001b[38;5;66;03m# Scaling of within covariance is: V' 1/S\u001b[39;00m\n",
      "File \u001b[0;32m~/opt/anaconda3/envs/py39/lib/python3.9/site-packages/scipy/linalg/_decomp_svd.py:141\u001b[0m, in \u001b[0;36msvd\u001b[0;34m(a, full_matrices, compute_uv, overwrite_a, check_finite, lapack_driver)\u001b[0m\n\u001b[1;32m    137\u001b[0m lwork \u001b[38;5;241m=\u001b[39m _compute_lwork(gesXd_lwork, a1\u001b[38;5;241m.\u001b[39mshape[\u001b[38;5;241m0\u001b[39m], a1\u001b[38;5;241m.\u001b[39mshape[\u001b[38;5;241m1\u001b[39m],\n\u001b[1;32m    138\u001b[0m                        compute_uv\u001b[38;5;241m=\u001b[39mcompute_uv, full_matrices\u001b[38;5;241m=\u001b[39mfull_matrices)\n\u001b[1;32m    140\u001b[0m \u001b[38;5;66;03m# perform decomposition\u001b[39;00m\n\u001b[0;32m--> 141\u001b[0m u, s, v, info \u001b[38;5;241m=\u001b[39m \u001b[43mgesXd\u001b[49m\u001b[43m(\u001b[49m\u001b[43ma1\u001b[49m\u001b[43m,\u001b[49m\u001b[43m \u001b[49m\u001b[43mcompute_uv\u001b[49m\u001b[38;5;241;43m=\u001b[39;49m\u001b[43mcompute_uv\u001b[49m\u001b[43m,\u001b[49m\u001b[43m \u001b[49m\u001b[43mlwork\u001b[49m\u001b[38;5;241;43m=\u001b[39;49m\u001b[43mlwork\u001b[49m\u001b[43m,\u001b[49m\n\u001b[1;32m    142\u001b[0m \u001b[43m                      \u001b[49m\u001b[43mfull_matrices\u001b[49m\u001b[38;5;241;43m=\u001b[39;49m\u001b[43mfull_matrices\u001b[49m\u001b[43m,\u001b[49m\u001b[43m \u001b[49m\u001b[43moverwrite_a\u001b[49m\u001b[38;5;241;43m=\u001b[39;49m\u001b[43moverwrite_a\u001b[49m\u001b[43m)\u001b[49m\n\u001b[1;32m    144\u001b[0m \u001b[38;5;28;01mif\u001b[39;00m info \u001b[38;5;241m>\u001b[39m \u001b[38;5;241m0\u001b[39m:\n\u001b[1;32m    145\u001b[0m     \u001b[38;5;28;01mraise\u001b[39;00m LinAlgError(\u001b[38;5;124m\"\u001b[39m\u001b[38;5;124mSVD did not converge\u001b[39m\u001b[38;5;124m\"\u001b[39m)\n",
      "\u001b[0;31mKeyboardInterrupt\u001b[0m: "
     ]
    }
   ],
   "source": [
    "import numpy as np\n",
    "import os\n",
    "from sklearn.discriminant_analysis import LinearDiscriminantAnalysis as LDA\n",
    "from mne.time_frequency import psd_array_multitaper\n",
    "import warnings\n",
    "import mne\n",
    "\n",
    "from scipy.signal import welch\n",
    "# Suppress all warnings\n",
    "mne.set_log_level('warning')\n",
    "\n",
    "# Directory containing the preprocessed data\n",
    "file_dir = '/Users/juliette/Desktop/thesis/preprocessing/hybrid_preprocessing'\n",
    "decoding_results_dir = '/Users/juliette/Desktop/thesis/results/alpha+p300'\n",
    "\n",
    "# Define the alpha range for PSD calculation\n",
    "min_bin = 8\n",
    "max_bin = 12\n",
    "\n",
    "# Initialize results storage\n",
    "results = []\n",
    "\n",
    "# List of subjects\n",
    "subjects = [\"VPpdia\", \"VPpdib\", \"VPpdic\", \"VPpdid\", \"VPpdie\", \"VPpdif\", \"VPpdig\", \"VPpdih\", \"VPpdii\", \"VPpdij\",\n",
    "            \"VPpdik\", \"VPpdil\", \"VPpdim\", \"VPpdin\", \"VPpdio\", \"VPpdip\", \"VPpdiq\", \"VPpdir\", \"VPpdis\", \"VPpdit\",\n",
    "            \"VPpdiu\", \"VPpdiv\", \"VPpdiw\", \"VPpdix\", \"VPpdiy\", \"VPpdiz\", \"VPpdiza\", \"VPpdizb\", \"VPpdizc\"]\n",
    "\n",
    "# Load Data for each subject\n",
    "for subject in subjects:\n",
    "    print(f\"Processing {subject}...\")\n",
    "\n",
    "    try:\n",
    "        # Load preprocessed data\n",
    "        fn = os.path.join(file_dir, f\"sub-{subject}_task-covert_alpha+p300.npz\")\n",
    "        tmp = np.load(fn)\n",
    "\n",
    "        X = tmp[\"X\"]  # EEG data matrix (trials, channels, samples)\n",
    "        y = tmp[\"y\"]  # Labels\n",
    "        z = tmp[\"z\"]  # Target presence (trials, epochs, sides)\n",
    "        V = tmp[\"V\"]  # One code cycle (classes, samples)\n",
    "        fs = tmp[\"fs\"].flatten()[0]\n",
    "\n",
    "    except Exception as e:\n",
    "        print(f\"Error loading data for subject {subject}: {e}\")\n",
    "        continue\n",
    "\n",
    "    # Cross-validation\n",
    "    fold_accuracies = []\n",
    "    n_folds = 4\n",
    "    n_trials = X.shape[0] // n_folds\n",
    "    folds = np.repeat(np.arange(n_folds), n_trials)\n",
    "\n",
    "    new_feature_vectors = []\n",
    "    lda_1 = LDA(solver=\"svd\")\n",
    "\n",
    "    for i_fold in range(n_folds):\n",
    "        print(f\"  Fold {i_fold + 1}/{n_folds}\")\n",
    "\n",
    "        # Split train and test data\n",
    "        X_trn, y_trn, z_trn = X[folds != i_fold, :, :], y[folds != i_fold], z[folds != i_fold, :, :]\n",
    "        X_tst, y_tst, z_tst = X[folds == i_fold, :, :], y[folds == i_fold], z[folds == i_fold, :, :]\n",
    "\n",
    "        # Reshape X to (trials, channels x samples) for LDA\n",
    "        X_trn_reshaped = X_trn.reshape(X_trn.shape[0], -1)\n",
    "        X_tst_reshaped = X_tst.reshape(X_tst.shape[0], -1)\n",
    "\n",
    "        # --- P300 ---\n",
    "\n",
    "        # Extract stimulus condition correctly\n",
    "        side_tst = z_tst[:, 2, :]\n",
    "        z_left = side_tst[:, 0] == 1\n",
    "        z_right = side_tst[:, 1] == 1\n",
    "\n",
    "        # Train LDA (for extracting correlation of P300)\n",
    "        lda_1.fit(X_trn_reshaped, y_trn)\n",
    "\n",
    "        # Predict on test data\n",
    "        y_hat = lda_1.predict(X_tst_reshaped)\n",
    "\n",
    "        # Compute correlation, [0,1] makes sure to get the off-diagonal elements that represent the correlation\n",
    "        rho_left = np.corrcoef(y_hat[z_left], y_tst[z_left])[0, 1]\n",
    "        rho_right = np.corrcoef(y_hat[z_right], y_tst[z_right])[0, 1]\n",
    "        # --- Alpha PSD ---\n",
    "\n",
    "        nyquist_freq = fs //2\n",
    "        \n",
    "        # Compute PSD using Welch's method\n",
    "        psd_features_trn = np.array([\n",
    "            welch(trial, fs=fs, nperseg=nyquist_freq, scaling='density')[1] # Set number of data points in each segment to the Nyquist frequency\n",
    "            [:, (min_bin <= freqs) & (freqs <= max_bin)].mean(axis=1) # Selects only the frequencies between min_bin and max_bin and averages over all channels\n",
    "            for trial, freqs in [(X_trn[i], welch(X_trn[i][0], fs=fs, nperseg=fs//2)[0]) \n",
    "            for i in range(X_trn.shape[0])] # For each trial, pair its EEG data with frequency bins computed from the first channel's Welch PSD) to prepare for bandpower analysis\n",
    "        ])\n",
    "        \n",
    "        print(\"psd_features_trn:\", psd_features_trn)\n",
    "        print(\"psd_features_trn.shape:\", psd_features_trn.shape)\n",
    "        psd_features_tst = np.array([\n",
    "            welch(trial, fs=fs, nperseg=nyquist_freq, scaling='density')[1] # Set number of data points in each segment to the Nyquist frequency\n",
    "            [:, (min_bin <= freqs) & (freqs <= max_bin)].mean(axis=1) # Selects only the frequencies between min_bin and max_bin and averages over all channels\n",
    "            for trial, freqs in [(X_tst[i], welch(X_tst[i][0], fs=fs, nperseg=fs//2)[0])\n",
    "            for i in range(X_tst.shape[0])] # For each trial, pair its EEG data with frequency bins computed from the first channel's Welch PSD) to prepare for bandpower analysis\n",
    "        ])\n",
    "\n",
    "\n",
    "        # --- Concatenation ---\n",
    "        # Concatenate the P300 correlation and the alpha PSD features\n",
    "        combined_features_trn = np.column_stack([rho_left * np.ones(X_trn.shape[0]),  # Left stimulus correlation\n",
    "                                                 rho_right * np.ones(X_trn.shape[0]),  # Right stimulus correlation\n",
    "                                                 psd_features_trn])  # Alpha PSD features\n",
    "\n",
    "        combined_features_tst = np.column_stack([rho_left * np.ones(X_tst.shape[0]),  # Left stimulus correlation\n",
    "                                                 rho_right * np.ones(X_tst.shape[0]),  # Right stimulus correlation\n",
    "                                                 psd_features_tst])  # Alpha PSD features\n",
    "\n",
    "        # Replace NaN values with 0\n",
    "        combined_features_trn = np.nan_to_num(combined_features_trn, nan=0)\n",
    "        combined_features_tst = np.nan_to_num(combined_features_tst, nan=0)\n",
    "\n",
    "        print(f\"Shape of combined_features_trn: {combined_features_trn.shape}\")\n",
    "        print(f\"Shape of combined_features_tst: {combined_features_tst.shape}\")\n",
    "\n",
    "        # --- Ensemble ---\n",
    "        # Train final LDA on new feature vectors (combined features)\n",
    "        lda2 = LDA(solver=\"svd\")\n",
    "        lda2.fit(combined_features_trn, y_trn)\n",
    "\n",
    "        # Final prediction\n",
    "        y_final = lda2.predict(combined_features_tst)\n",
    "\n",
    "        # Calculate accuracy\n",
    "        accuracy = np.mean(y_final == y_tst)\n",
    "        fold_accuracies.append(accuracy)\n",
    "\n",
    "        print(f\"Fold {i_fold + 1} Accuracy: {accuracy:.3f}\")\n",
    "\n",
    "    # Compute subject-level results\n",
    "    accuracy = np.round(np.mean(fold_accuracies), 2)\n",
    "    se = np.round(np.std(fold_accuracies) / np.sqrt(n_folds), 2)\n",
    "    results.append((subject, accuracy, se))\n",
    "\n",
    "    # Print average accuracy per subject\n",
    "    print(f\"Average Accuracy for {subject}: {accuracy:.3f}\")\n",
    "\n",
    "# # Save results\n",
    "# if not os.path.exists(decoding_results_dir):\n",
    "#         os.makedirs(decoding_results_dir)\n",
    "# results_save_path = join(decoding_results_dir, f\"covert_alpha_p300_results_concat.npy\")     \n",
    "# np.save(results_save_path, results_array)    \n",
    "\n",
    "# Convert results to a structured numpy array\n",
    "results_array = np.array(\n",
    "    results, dtype=[('subject', 'U10'), ('accuracy', 'f4'), ('standard_error', 'f4')]\n",
    ")\n",
    "\n",
    "# Overall results\n",
    "overall_accuracy = np.round(results_array['accuracy'].mean(), 2)\n",
    "overall_se = np.round(results_array['standard_error'].mean(), 2)\n",
    "print(f\"Overall LDA accuracy with PSD: {overall_accuracy:.2f} ± {overall_se:.2f}\")"
   ]
  },
  {
   "cell_type": "code",
   "execution_count": 4,
   "id": "7dbc291c",
   "metadata": {
    "scrolled": true
   },
   "outputs": [
    {
     "name": "stdout",
     "output_type": "stream",
     "text": [
      "Processing VPpdia...\n",
      "  Fold 1/4\n"
     ]
    },
    {
     "name": "stderr",
     "output_type": "stream",
     "text": [
      "/Users/juliette/opt/anaconda3/envs/py39/lib/python3.9/site-packages/numpy/core/fromnumeric.py:3504: RuntimeWarning: Mean of empty slice.\n",
      "  return _methods._mean(a, axis=axis, dtype=dtype,\n",
      "/Users/juliette/opt/anaconda3/envs/py39/lib/python3.9/site-packages/numpy/core/_methods.py:121: RuntimeWarning: invalid value encountered in divide\n",
      "  ret = um.true_divide(\n"
     ]
    },
    {
     "name": "stdout",
     "output_type": "stream",
     "text": [
      "Fold 1 Accuracy: 0.750\n",
      "  Fold 2/4\n"
     ]
    },
    {
     "name": "stderr",
     "output_type": "stream",
     "text": [
      "/Users/juliette/opt/anaconda3/envs/py39/lib/python3.9/site-packages/numpy/core/fromnumeric.py:3504: RuntimeWarning: Mean of empty slice.\n",
      "  return _methods._mean(a, axis=axis, dtype=dtype,\n",
      "/Users/juliette/opt/anaconda3/envs/py39/lib/python3.9/site-packages/numpy/core/_methods.py:121: RuntimeWarning: invalid value encountered in divide\n",
      "  ret = um.true_divide(\n"
     ]
    },
    {
     "name": "stdout",
     "output_type": "stream",
     "text": [
      "Fold 2 Accuracy: 0.650\n",
      "  Fold 3/4\n"
     ]
    },
    {
     "name": "stderr",
     "output_type": "stream",
     "text": [
      "/Users/juliette/opt/anaconda3/envs/py39/lib/python3.9/site-packages/numpy/core/fromnumeric.py:3504: RuntimeWarning: Mean of empty slice.\n",
      "  return _methods._mean(a, axis=axis, dtype=dtype,\n",
      "/Users/juliette/opt/anaconda3/envs/py39/lib/python3.9/site-packages/numpy/core/_methods.py:121: RuntimeWarning: invalid value encountered in divide\n",
      "  ret = um.true_divide(\n"
     ]
    },
    {
     "name": "stdout",
     "output_type": "stream",
     "text": [
      "Fold 3 Accuracy: 0.450\n",
      "  Fold 4/4\n"
     ]
    },
    {
     "name": "stderr",
     "output_type": "stream",
     "text": [
      "/Users/juliette/opt/anaconda3/envs/py39/lib/python3.9/site-packages/numpy/core/fromnumeric.py:3504: RuntimeWarning: Mean of empty slice.\n",
      "  return _methods._mean(a, axis=axis, dtype=dtype,\n",
      "/Users/juliette/opt/anaconda3/envs/py39/lib/python3.9/site-packages/numpy/core/_methods.py:121: RuntimeWarning: invalid value encountered in divide\n",
      "  ret = um.true_divide(\n"
     ]
    },
    {
     "name": "stdout",
     "output_type": "stream",
     "text": [
      "Fold 4 Accuracy: 0.700\n",
      "Average Accuracy for VPpdia: 0.640\n",
      "Processing VPpdib...\n",
      "  Fold 1/4\n"
     ]
    },
    {
     "name": "stderr",
     "output_type": "stream",
     "text": [
      "/Users/juliette/opt/anaconda3/envs/py39/lib/python3.9/site-packages/numpy/core/fromnumeric.py:3504: RuntimeWarning: Mean of empty slice.\n",
      "  return _methods._mean(a, axis=axis, dtype=dtype,\n",
      "/Users/juliette/opt/anaconda3/envs/py39/lib/python3.9/site-packages/numpy/core/_methods.py:121: RuntimeWarning: invalid value encountered in divide\n",
      "  ret = um.true_divide(\n"
     ]
    },
    {
     "name": "stdout",
     "output_type": "stream",
     "text": [
      "Fold 1 Accuracy: 0.900\n",
      "  Fold 2/4\n"
     ]
    },
    {
     "name": "stderr",
     "output_type": "stream",
     "text": [
      "/Users/juliette/opt/anaconda3/envs/py39/lib/python3.9/site-packages/numpy/core/fromnumeric.py:3504: RuntimeWarning: Mean of empty slice.\n",
      "  return _methods._mean(a, axis=axis, dtype=dtype,\n",
      "/Users/juliette/opt/anaconda3/envs/py39/lib/python3.9/site-packages/numpy/core/_methods.py:121: RuntimeWarning: invalid value encountered in divide\n",
      "  ret = um.true_divide(\n"
     ]
    },
    {
     "name": "stdout",
     "output_type": "stream",
     "text": [
      "Fold 2 Accuracy: 0.750\n",
      "  Fold 3/4\n"
     ]
    },
    {
     "name": "stderr",
     "output_type": "stream",
     "text": [
      "/Users/juliette/opt/anaconda3/envs/py39/lib/python3.9/site-packages/numpy/core/fromnumeric.py:3504: RuntimeWarning: Mean of empty slice.\n",
      "  return _methods._mean(a, axis=axis, dtype=dtype,\n",
      "/Users/juliette/opt/anaconda3/envs/py39/lib/python3.9/site-packages/numpy/core/_methods.py:121: RuntimeWarning: invalid value encountered in divide\n",
      "  ret = um.true_divide(\n"
     ]
    },
    {
     "name": "stdout",
     "output_type": "stream",
     "text": [
      "Fold 3 Accuracy: 0.750\n",
      "  Fold 4/4\n"
     ]
    },
    {
     "name": "stderr",
     "output_type": "stream",
     "text": [
      "/Users/juliette/opt/anaconda3/envs/py39/lib/python3.9/site-packages/numpy/core/fromnumeric.py:3504: RuntimeWarning: Mean of empty slice.\n",
      "  return _methods._mean(a, axis=axis, dtype=dtype,\n",
      "/Users/juliette/opt/anaconda3/envs/py39/lib/python3.9/site-packages/numpy/core/_methods.py:121: RuntimeWarning: invalid value encountered in divide\n",
      "  ret = um.true_divide(\n"
     ]
    },
    {
     "name": "stdout",
     "output_type": "stream",
     "text": [
      "Fold 4 Accuracy: 0.950\n",
      "Average Accuracy for VPpdib: 0.840\n",
      "Processing VPpdic...\n",
      "  Fold 1/4\n"
     ]
    },
    {
     "name": "stderr",
     "output_type": "stream",
     "text": [
      "/Users/juliette/opt/anaconda3/envs/py39/lib/python3.9/site-packages/numpy/core/fromnumeric.py:3504: RuntimeWarning: Mean of empty slice.\n",
      "  return _methods._mean(a, axis=axis, dtype=dtype,\n",
      "/Users/juliette/opt/anaconda3/envs/py39/lib/python3.9/site-packages/numpy/core/_methods.py:121: RuntimeWarning: invalid value encountered in divide\n",
      "  ret = um.true_divide(\n"
     ]
    },
    {
     "name": "stdout",
     "output_type": "stream",
     "text": [
      "Fold 1 Accuracy: 0.600\n",
      "  Fold 2/4\n"
     ]
    },
    {
     "name": "stderr",
     "output_type": "stream",
     "text": [
      "/Users/juliette/opt/anaconda3/envs/py39/lib/python3.9/site-packages/numpy/core/fromnumeric.py:3504: RuntimeWarning: Mean of empty slice.\n",
      "  return _methods._mean(a, axis=axis, dtype=dtype,\n",
      "/Users/juliette/opt/anaconda3/envs/py39/lib/python3.9/site-packages/numpy/core/_methods.py:121: RuntimeWarning: invalid value encountered in divide\n",
      "  ret = um.true_divide(\n"
     ]
    },
    {
     "name": "stdout",
     "output_type": "stream",
     "text": [
      "Fold 2 Accuracy: 0.550\n",
      "  Fold 3/4\n"
     ]
    },
    {
     "name": "stderr",
     "output_type": "stream",
     "text": [
      "/Users/juliette/opt/anaconda3/envs/py39/lib/python3.9/site-packages/numpy/core/fromnumeric.py:3504: RuntimeWarning: Mean of empty slice.\n",
      "  return _methods._mean(a, axis=axis, dtype=dtype,\n",
      "/Users/juliette/opt/anaconda3/envs/py39/lib/python3.9/site-packages/numpy/core/_methods.py:121: RuntimeWarning: invalid value encountered in divide\n",
      "  ret = um.true_divide(\n"
     ]
    },
    {
     "name": "stdout",
     "output_type": "stream",
     "text": [
      "Fold 3 Accuracy: 0.750\n",
      "  Fold 4/4\n"
     ]
    },
    {
     "name": "stderr",
     "output_type": "stream",
     "text": [
      "/Users/juliette/opt/anaconda3/envs/py39/lib/python3.9/site-packages/numpy/core/fromnumeric.py:3504: RuntimeWarning: Mean of empty slice.\n",
      "  return _methods._mean(a, axis=axis, dtype=dtype,\n",
      "/Users/juliette/opt/anaconda3/envs/py39/lib/python3.9/site-packages/numpy/core/_methods.py:121: RuntimeWarning: invalid value encountered in divide\n",
      "  ret = um.true_divide(\n"
     ]
    },
    {
     "name": "stdout",
     "output_type": "stream",
     "text": [
      "Fold 4 Accuracy: 0.750\n",
      "Average Accuracy for VPpdic: 0.660\n",
      "Processing VPpdid...\n",
      "  Fold 1/4\n"
     ]
    },
    {
     "name": "stderr",
     "output_type": "stream",
     "text": [
      "/Users/juliette/opt/anaconda3/envs/py39/lib/python3.9/site-packages/numpy/core/fromnumeric.py:3504: RuntimeWarning: Mean of empty slice.\n",
      "  return _methods._mean(a, axis=axis, dtype=dtype,\n",
      "/Users/juliette/opt/anaconda3/envs/py39/lib/python3.9/site-packages/numpy/core/_methods.py:121: RuntimeWarning: invalid value encountered in divide\n",
      "  ret = um.true_divide(\n"
     ]
    },
    {
     "name": "stdout",
     "output_type": "stream",
     "text": [
      "Fold 1 Accuracy: 0.400\n",
      "  Fold 2/4\n"
     ]
    },
    {
     "name": "stderr",
     "output_type": "stream",
     "text": [
      "/Users/juliette/opt/anaconda3/envs/py39/lib/python3.9/site-packages/numpy/core/fromnumeric.py:3504: RuntimeWarning: Mean of empty slice.\n",
      "  return _methods._mean(a, axis=axis, dtype=dtype,\n",
      "/Users/juliette/opt/anaconda3/envs/py39/lib/python3.9/site-packages/numpy/core/_methods.py:121: RuntimeWarning: invalid value encountered in divide\n",
      "  ret = um.true_divide(\n"
     ]
    },
    {
     "name": "stdout",
     "output_type": "stream",
     "text": [
      "Fold 2 Accuracy: 0.650\n",
      "  Fold 3/4\n"
     ]
    },
    {
     "name": "stderr",
     "output_type": "stream",
     "text": [
      "/Users/juliette/opt/anaconda3/envs/py39/lib/python3.9/site-packages/numpy/core/fromnumeric.py:3504: RuntimeWarning: Mean of empty slice.\n",
      "  return _methods._mean(a, axis=axis, dtype=dtype,\n",
      "/Users/juliette/opt/anaconda3/envs/py39/lib/python3.9/site-packages/numpy/core/_methods.py:121: RuntimeWarning: invalid value encountered in divide\n",
      "  ret = um.true_divide(\n"
     ]
    },
    {
     "name": "stdout",
     "output_type": "stream",
     "text": [
      "Fold 3 Accuracy: 0.550\n",
      "  Fold 4/4\n"
     ]
    },
    {
     "name": "stderr",
     "output_type": "stream",
     "text": [
      "/Users/juliette/opt/anaconda3/envs/py39/lib/python3.9/site-packages/numpy/core/fromnumeric.py:3504: RuntimeWarning: Mean of empty slice.\n",
      "  return _methods._mean(a, axis=axis, dtype=dtype,\n",
      "/Users/juliette/opt/anaconda3/envs/py39/lib/python3.9/site-packages/numpy/core/_methods.py:121: RuntimeWarning: invalid value encountered in divide\n",
      "  ret = um.true_divide(\n"
     ]
    },
    {
     "name": "stdout",
     "output_type": "stream",
     "text": [
      "Fold 4 Accuracy: 0.550\n",
      "Average Accuracy for VPpdid: 0.540\n",
      "Processing VPpdie...\n",
      "  Fold 1/4\n"
     ]
    },
    {
     "name": "stderr",
     "output_type": "stream",
     "text": [
      "/Users/juliette/opt/anaconda3/envs/py39/lib/python3.9/site-packages/numpy/core/fromnumeric.py:3504: RuntimeWarning: Mean of empty slice.\n",
      "  return _methods._mean(a, axis=axis, dtype=dtype,\n",
      "/Users/juliette/opt/anaconda3/envs/py39/lib/python3.9/site-packages/numpy/core/_methods.py:121: RuntimeWarning: invalid value encountered in divide\n",
      "  ret = um.true_divide(\n"
     ]
    },
    {
     "name": "stdout",
     "output_type": "stream",
     "text": [
      "Fold 1 Accuracy: 0.700\n",
      "  Fold 2/4\n"
     ]
    },
    {
     "name": "stderr",
     "output_type": "stream",
     "text": [
      "/Users/juliette/opt/anaconda3/envs/py39/lib/python3.9/site-packages/numpy/core/fromnumeric.py:3504: RuntimeWarning: Mean of empty slice.\n",
      "  return _methods._mean(a, axis=axis, dtype=dtype,\n",
      "/Users/juliette/opt/anaconda3/envs/py39/lib/python3.9/site-packages/numpy/core/_methods.py:121: RuntimeWarning: invalid value encountered in divide\n",
      "  ret = um.true_divide(\n"
     ]
    },
    {
     "name": "stdout",
     "output_type": "stream",
     "text": [
      "Fold 2 Accuracy: 0.700\n",
      "  Fold 3/4\n"
     ]
    },
    {
     "name": "stderr",
     "output_type": "stream",
     "text": [
      "/Users/juliette/opt/anaconda3/envs/py39/lib/python3.9/site-packages/numpy/core/fromnumeric.py:3504: RuntimeWarning: Mean of empty slice.\n",
      "  return _methods._mean(a, axis=axis, dtype=dtype,\n",
      "/Users/juliette/opt/anaconda3/envs/py39/lib/python3.9/site-packages/numpy/core/_methods.py:121: RuntimeWarning: invalid value encountered in divide\n",
      "  ret = um.true_divide(\n"
     ]
    },
    {
     "name": "stdout",
     "output_type": "stream",
     "text": [
      "Fold 3 Accuracy: 0.650\n",
      "  Fold 4/4\n"
     ]
    },
    {
     "name": "stderr",
     "output_type": "stream",
     "text": [
      "/Users/juliette/opt/anaconda3/envs/py39/lib/python3.9/site-packages/numpy/core/fromnumeric.py:3504: RuntimeWarning: Mean of empty slice.\n",
      "  return _methods._mean(a, axis=axis, dtype=dtype,\n",
      "/Users/juliette/opt/anaconda3/envs/py39/lib/python3.9/site-packages/numpy/core/_methods.py:121: RuntimeWarning: invalid value encountered in divide\n",
      "  ret = um.true_divide(\n"
     ]
    },
    {
     "name": "stdout",
     "output_type": "stream",
     "text": [
      "Fold 4 Accuracy: 0.750\n",
      "Average Accuracy for VPpdie: 0.700\n",
      "Processing VPpdif...\n",
      "  Fold 1/4\n"
     ]
    },
    {
     "name": "stderr",
     "output_type": "stream",
     "text": [
      "/Users/juliette/opt/anaconda3/envs/py39/lib/python3.9/site-packages/numpy/core/fromnumeric.py:3504: RuntimeWarning: Mean of empty slice.\n",
      "  return _methods._mean(a, axis=axis, dtype=dtype,\n",
      "/Users/juliette/opt/anaconda3/envs/py39/lib/python3.9/site-packages/numpy/core/_methods.py:121: RuntimeWarning: invalid value encountered in divide\n",
      "  ret = um.true_divide(\n"
     ]
    },
    {
     "name": "stdout",
     "output_type": "stream",
     "text": [
      "Fold 1 Accuracy: 0.800\n",
      "  Fold 2/4\n"
     ]
    },
    {
     "name": "stderr",
     "output_type": "stream",
     "text": [
      "/Users/juliette/opt/anaconda3/envs/py39/lib/python3.9/site-packages/numpy/core/fromnumeric.py:3504: RuntimeWarning: Mean of empty slice.\n",
      "  return _methods._mean(a, axis=axis, dtype=dtype,\n",
      "/Users/juliette/opt/anaconda3/envs/py39/lib/python3.9/site-packages/numpy/core/_methods.py:121: RuntimeWarning: invalid value encountered in divide\n",
      "  ret = um.true_divide(\n"
     ]
    },
    {
     "name": "stdout",
     "output_type": "stream",
     "text": [
      "Fold 2 Accuracy: 0.800\n",
      "  Fold 3/4\n"
     ]
    },
    {
     "name": "stderr",
     "output_type": "stream",
     "text": [
      "/Users/juliette/opt/anaconda3/envs/py39/lib/python3.9/site-packages/numpy/core/fromnumeric.py:3504: RuntimeWarning: Mean of empty slice.\n",
      "  return _methods._mean(a, axis=axis, dtype=dtype,\n",
      "/Users/juliette/opt/anaconda3/envs/py39/lib/python3.9/site-packages/numpy/core/_methods.py:121: RuntimeWarning: invalid value encountered in divide\n",
      "  ret = um.true_divide(\n"
     ]
    },
    {
     "name": "stdout",
     "output_type": "stream",
     "text": [
      "Fold 3 Accuracy: 0.900\n",
      "  Fold 4/4\n"
     ]
    },
    {
     "name": "stderr",
     "output_type": "stream",
     "text": [
      "/Users/juliette/opt/anaconda3/envs/py39/lib/python3.9/site-packages/numpy/core/fromnumeric.py:3504: RuntimeWarning: Mean of empty slice.\n",
      "  return _methods._mean(a, axis=axis, dtype=dtype,\n",
      "/Users/juliette/opt/anaconda3/envs/py39/lib/python3.9/site-packages/numpy/core/_methods.py:121: RuntimeWarning: invalid value encountered in divide\n",
      "  ret = um.true_divide(\n"
     ]
    },
    {
     "name": "stdout",
     "output_type": "stream",
     "text": [
      "Fold 4 Accuracy: 0.950\n",
      "Average Accuracy for VPpdif: 0.860\n",
      "Processing VPpdig...\n",
      "  Fold 1/4\n"
     ]
    },
    {
     "name": "stderr",
     "output_type": "stream",
     "text": [
      "/Users/juliette/opt/anaconda3/envs/py39/lib/python3.9/site-packages/numpy/core/fromnumeric.py:3504: RuntimeWarning: Mean of empty slice.\n",
      "  return _methods._mean(a, axis=axis, dtype=dtype,\n",
      "/Users/juliette/opt/anaconda3/envs/py39/lib/python3.9/site-packages/numpy/core/_methods.py:121: RuntimeWarning: invalid value encountered in divide\n",
      "  ret = um.true_divide(\n"
     ]
    },
    {
     "name": "stdout",
     "output_type": "stream",
     "text": [
      "Fold 1 Accuracy: 0.700\n",
      "  Fold 2/4\n"
     ]
    },
    {
     "name": "stderr",
     "output_type": "stream",
     "text": [
      "/Users/juliette/opt/anaconda3/envs/py39/lib/python3.9/site-packages/numpy/core/fromnumeric.py:3504: RuntimeWarning: Mean of empty slice.\n",
      "  return _methods._mean(a, axis=axis, dtype=dtype,\n",
      "/Users/juliette/opt/anaconda3/envs/py39/lib/python3.9/site-packages/numpy/core/_methods.py:121: RuntimeWarning: invalid value encountered in divide\n",
      "  ret = um.true_divide(\n"
     ]
    },
    {
     "name": "stdout",
     "output_type": "stream",
     "text": [
      "Fold 2 Accuracy: 0.700\n",
      "  Fold 3/4\n"
     ]
    },
    {
     "name": "stderr",
     "output_type": "stream",
     "text": [
      "/Users/juliette/opt/anaconda3/envs/py39/lib/python3.9/site-packages/numpy/core/fromnumeric.py:3504: RuntimeWarning: Mean of empty slice.\n",
      "  return _methods._mean(a, axis=axis, dtype=dtype,\n",
      "/Users/juliette/opt/anaconda3/envs/py39/lib/python3.9/site-packages/numpy/core/_methods.py:121: RuntimeWarning: invalid value encountered in divide\n",
      "  ret = um.true_divide(\n"
     ]
    },
    {
     "name": "stdout",
     "output_type": "stream",
     "text": [
      "Fold 3 Accuracy: 0.900\n",
      "  Fold 4/4\n"
     ]
    },
    {
     "name": "stderr",
     "output_type": "stream",
     "text": [
      "/Users/juliette/opt/anaconda3/envs/py39/lib/python3.9/site-packages/numpy/core/fromnumeric.py:3504: RuntimeWarning: Mean of empty slice.\n",
      "  return _methods._mean(a, axis=axis, dtype=dtype,\n",
      "/Users/juliette/opt/anaconda3/envs/py39/lib/python3.9/site-packages/numpy/core/_methods.py:121: RuntimeWarning: invalid value encountered in divide\n",
      "  ret = um.true_divide(\n"
     ]
    },
    {
     "name": "stdout",
     "output_type": "stream",
     "text": [
      "Fold 4 Accuracy: 0.850\n",
      "Average Accuracy for VPpdig: 0.790\n",
      "Processing VPpdih...\n",
      "  Fold 1/4\n"
     ]
    },
    {
     "name": "stderr",
     "output_type": "stream",
     "text": [
      "/Users/juliette/opt/anaconda3/envs/py39/lib/python3.9/site-packages/numpy/core/fromnumeric.py:3504: RuntimeWarning: Mean of empty slice.\n",
      "  return _methods._mean(a, axis=axis, dtype=dtype,\n",
      "/Users/juliette/opt/anaconda3/envs/py39/lib/python3.9/site-packages/numpy/core/_methods.py:121: RuntimeWarning: invalid value encountered in divide\n",
      "  ret = um.true_divide(\n"
     ]
    },
    {
     "name": "stdout",
     "output_type": "stream",
     "text": [
      "Fold 1 Accuracy: 0.900\n",
      "  Fold 2/4\n"
     ]
    },
    {
     "name": "stderr",
     "output_type": "stream",
     "text": [
      "/Users/juliette/opt/anaconda3/envs/py39/lib/python3.9/site-packages/numpy/core/fromnumeric.py:3504: RuntimeWarning: Mean of empty slice.\n",
      "  return _methods._mean(a, axis=axis, dtype=dtype,\n",
      "/Users/juliette/opt/anaconda3/envs/py39/lib/python3.9/site-packages/numpy/core/_methods.py:121: RuntimeWarning: invalid value encountered in divide\n",
      "  ret = um.true_divide(\n"
     ]
    },
    {
     "name": "stdout",
     "output_type": "stream",
     "text": [
      "Fold 2 Accuracy: 0.900\n",
      "  Fold 3/4\n"
     ]
    },
    {
     "name": "stderr",
     "output_type": "stream",
     "text": [
      "/Users/juliette/opt/anaconda3/envs/py39/lib/python3.9/site-packages/numpy/core/fromnumeric.py:3504: RuntimeWarning: Mean of empty slice.\n",
      "  return _methods._mean(a, axis=axis, dtype=dtype,\n",
      "/Users/juliette/opt/anaconda3/envs/py39/lib/python3.9/site-packages/numpy/core/_methods.py:121: RuntimeWarning: invalid value encountered in divide\n",
      "  ret = um.true_divide(\n"
     ]
    },
    {
     "name": "stdout",
     "output_type": "stream",
     "text": [
      "Fold 3 Accuracy: 0.850\n",
      "  Fold 4/4\n"
     ]
    },
    {
     "name": "stderr",
     "output_type": "stream",
     "text": [
      "/Users/juliette/opt/anaconda3/envs/py39/lib/python3.9/site-packages/numpy/core/fromnumeric.py:3504: RuntimeWarning: Mean of empty slice.\n",
      "  return _methods._mean(a, axis=axis, dtype=dtype,\n",
      "/Users/juliette/opt/anaconda3/envs/py39/lib/python3.9/site-packages/numpy/core/_methods.py:121: RuntimeWarning: invalid value encountered in divide\n",
      "  ret = um.true_divide(\n"
     ]
    },
    {
     "name": "stdout",
     "output_type": "stream",
     "text": [
      "Fold 4 Accuracy: 0.850\n",
      "Average Accuracy for VPpdih: 0.880\n",
      "Processing VPpdii...\n",
      "  Fold 1/4\n"
     ]
    },
    {
     "name": "stderr",
     "output_type": "stream",
     "text": [
      "/Users/juliette/opt/anaconda3/envs/py39/lib/python3.9/site-packages/numpy/core/fromnumeric.py:3504: RuntimeWarning: Mean of empty slice.\n",
      "  return _methods._mean(a, axis=axis, dtype=dtype,\n",
      "/Users/juliette/opt/anaconda3/envs/py39/lib/python3.9/site-packages/numpy/core/_methods.py:121: RuntimeWarning: invalid value encountered in divide\n",
      "  ret = um.true_divide(\n"
     ]
    },
    {
     "name": "stdout",
     "output_type": "stream",
     "text": [
      "Fold 1 Accuracy: 0.800\n",
      "  Fold 2/4\n"
     ]
    },
    {
     "name": "stderr",
     "output_type": "stream",
     "text": [
      "/Users/juliette/opt/anaconda3/envs/py39/lib/python3.9/site-packages/numpy/core/fromnumeric.py:3504: RuntimeWarning: Mean of empty slice.\n",
      "  return _methods._mean(a, axis=axis, dtype=dtype,\n",
      "/Users/juliette/opt/anaconda3/envs/py39/lib/python3.9/site-packages/numpy/core/_methods.py:121: RuntimeWarning: invalid value encountered in divide\n",
      "  ret = um.true_divide(\n"
     ]
    },
    {
     "name": "stdout",
     "output_type": "stream",
     "text": [
      "Fold 2 Accuracy: 0.800\n",
      "  Fold 3/4\n"
     ]
    },
    {
     "name": "stderr",
     "output_type": "stream",
     "text": [
      "/Users/juliette/opt/anaconda3/envs/py39/lib/python3.9/site-packages/numpy/core/fromnumeric.py:3504: RuntimeWarning: Mean of empty slice.\n",
      "  return _methods._mean(a, axis=axis, dtype=dtype,\n",
      "/Users/juliette/opt/anaconda3/envs/py39/lib/python3.9/site-packages/numpy/core/_methods.py:121: RuntimeWarning: invalid value encountered in divide\n",
      "  ret = um.true_divide(\n"
     ]
    },
    {
     "name": "stdout",
     "output_type": "stream",
     "text": [
      "Fold 3 Accuracy: 0.800\n",
      "  Fold 4/4\n"
     ]
    },
    {
     "name": "stderr",
     "output_type": "stream",
     "text": [
      "/Users/juliette/opt/anaconda3/envs/py39/lib/python3.9/site-packages/numpy/core/fromnumeric.py:3504: RuntimeWarning: Mean of empty slice.\n",
      "  return _methods._mean(a, axis=axis, dtype=dtype,\n",
      "/Users/juliette/opt/anaconda3/envs/py39/lib/python3.9/site-packages/numpy/core/_methods.py:121: RuntimeWarning: invalid value encountered in divide\n",
      "  ret = um.true_divide(\n"
     ]
    },
    {
     "name": "stdout",
     "output_type": "stream",
     "text": [
      "Fold 4 Accuracy: 0.800\n",
      "Average Accuracy for VPpdii: 0.800\n",
      "Processing VPpdij...\n",
      "  Fold 1/4\n"
     ]
    },
    {
     "name": "stderr",
     "output_type": "stream",
     "text": [
      "/Users/juliette/opt/anaconda3/envs/py39/lib/python3.9/site-packages/numpy/core/fromnumeric.py:3504: RuntimeWarning: Mean of empty slice.\n",
      "  return _methods._mean(a, axis=axis, dtype=dtype,\n",
      "/Users/juliette/opt/anaconda3/envs/py39/lib/python3.9/site-packages/numpy/core/_methods.py:121: RuntimeWarning: invalid value encountered in divide\n",
      "  ret = um.true_divide(\n"
     ]
    },
    {
     "name": "stdout",
     "output_type": "stream",
     "text": [
      "Fold 1 Accuracy: 0.450\n",
      "  Fold 2/4\n"
     ]
    },
    {
     "name": "stderr",
     "output_type": "stream",
     "text": [
      "/Users/juliette/opt/anaconda3/envs/py39/lib/python3.9/site-packages/numpy/core/fromnumeric.py:3504: RuntimeWarning: Mean of empty slice.\n",
      "  return _methods._mean(a, axis=axis, dtype=dtype,\n",
      "/Users/juliette/opt/anaconda3/envs/py39/lib/python3.9/site-packages/numpy/core/_methods.py:121: RuntimeWarning: invalid value encountered in divide\n",
      "  ret = um.true_divide(\n"
     ]
    },
    {
     "name": "stdout",
     "output_type": "stream",
     "text": [
      "Fold 2 Accuracy: 0.650\n",
      "  Fold 3/4\n"
     ]
    },
    {
     "name": "stderr",
     "output_type": "stream",
     "text": [
      "/Users/juliette/opt/anaconda3/envs/py39/lib/python3.9/site-packages/numpy/core/fromnumeric.py:3504: RuntimeWarning: Mean of empty slice.\n",
      "  return _methods._mean(a, axis=axis, dtype=dtype,\n",
      "/Users/juliette/opt/anaconda3/envs/py39/lib/python3.9/site-packages/numpy/core/_methods.py:121: RuntimeWarning: invalid value encountered in divide\n",
      "  ret = um.true_divide(\n"
     ]
    },
    {
     "name": "stdout",
     "output_type": "stream",
     "text": [
      "Fold 3 Accuracy: 0.600\n",
      "  Fold 4/4\n"
     ]
    },
    {
     "name": "stderr",
     "output_type": "stream",
     "text": [
      "/Users/juliette/opt/anaconda3/envs/py39/lib/python3.9/site-packages/numpy/core/fromnumeric.py:3504: RuntimeWarning: Mean of empty slice.\n",
      "  return _methods._mean(a, axis=axis, dtype=dtype,\n",
      "/Users/juliette/opt/anaconda3/envs/py39/lib/python3.9/site-packages/numpy/core/_methods.py:121: RuntimeWarning: invalid value encountered in divide\n",
      "  ret = um.true_divide(\n"
     ]
    },
    {
     "name": "stdout",
     "output_type": "stream",
     "text": [
      "Fold 4 Accuracy: 0.800\n",
      "Average Accuracy for VPpdij: 0.620\n",
      "Processing VPpdik...\n",
      "  Fold 1/4\n"
     ]
    },
    {
     "name": "stderr",
     "output_type": "stream",
     "text": [
      "/Users/juliette/opt/anaconda3/envs/py39/lib/python3.9/site-packages/numpy/core/fromnumeric.py:3504: RuntimeWarning: Mean of empty slice.\n",
      "  return _methods._mean(a, axis=axis, dtype=dtype,\n",
      "/Users/juliette/opt/anaconda3/envs/py39/lib/python3.9/site-packages/numpy/core/_methods.py:121: RuntimeWarning: invalid value encountered in divide\n",
      "  ret = um.true_divide(\n"
     ]
    },
    {
     "name": "stdout",
     "output_type": "stream",
     "text": [
      "Fold 1 Accuracy: 0.700\n",
      "  Fold 2/4\n"
     ]
    },
    {
     "name": "stderr",
     "output_type": "stream",
     "text": [
      "/Users/juliette/opt/anaconda3/envs/py39/lib/python3.9/site-packages/numpy/core/fromnumeric.py:3504: RuntimeWarning: Mean of empty slice.\n",
      "  return _methods._mean(a, axis=axis, dtype=dtype,\n",
      "/Users/juliette/opt/anaconda3/envs/py39/lib/python3.9/site-packages/numpy/core/_methods.py:121: RuntimeWarning: invalid value encountered in divide\n",
      "  ret = um.true_divide(\n"
     ]
    },
    {
     "name": "stdout",
     "output_type": "stream",
     "text": [
      "Fold 2 Accuracy: 0.700\n",
      "  Fold 3/4\n"
     ]
    },
    {
     "name": "stderr",
     "output_type": "stream",
     "text": [
      "/Users/juliette/opt/anaconda3/envs/py39/lib/python3.9/site-packages/numpy/core/fromnumeric.py:3504: RuntimeWarning: Mean of empty slice.\n",
      "  return _methods._mean(a, axis=axis, dtype=dtype,\n",
      "/Users/juliette/opt/anaconda3/envs/py39/lib/python3.9/site-packages/numpy/core/_methods.py:121: RuntimeWarning: invalid value encountered in divide\n",
      "  ret = um.true_divide(\n"
     ]
    },
    {
     "name": "stdout",
     "output_type": "stream",
     "text": [
      "Fold 3 Accuracy: 0.600\n",
      "  Fold 4/4\n"
     ]
    },
    {
     "name": "stderr",
     "output_type": "stream",
     "text": [
      "/Users/juliette/opt/anaconda3/envs/py39/lib/python3.9/site-packages/numpy/core/fromnumeric.py:3504: RuntimeWarning: Mean of empty slice.\n",
      "  return _methods._mean(a, axis=axis, dtype=dtype,\n",
      "/Users/juliette/opt/anaconda3/envs/py39/lib/python3.9/site-packages/numpy/core/_methods.py:121: RuntimeWarning: invalid value encountered in divide\n",
      "  ret = um.true_divide(\n"
     ]
    },
    {
     "name": "stdout",
     "output_type": "stream",
     "text": [
      "Fold 4 Accuracy: 0.550\n",
      "Average Accuracy for VPpdik: 0.640\n",
      "Processing VPpdil...\n",
      "  Fold 1/4\n"
     ]
    },
    {
     "name": "stderr",
     "output_type": "stream",
     "text": [
      "/Users/juliette/opt/anaconda3/envs/py39/lib/python3.9/site-packages/numpy/core/fromnumeric.py:3504: RuntimeWarning: Mean of empty slice.\n",
      "  return _methods._mean(a, axis=axis, dtype=dtype,\n",
      "/Users/juliette/opt/anaconda3/envs/py39/lib/python3.9/site-packages/numpy/core/_methods.py:121: RuntimeWarning: invalid value encountered in divide\n",
      "  ret = um.true_divide(\n"
     ]
    },
    {
     "name": "stdout",
     "output_type": "stream",
     "text": [
      "Fold 1 Accuracy: 0.850\n",
      "  Fold 2/4\n"
     ]
    },
    {
     "name": "stderr",
     "output_type": "stream",
     "text": [
      "/Users/juliette/opt/anaconda3/envs/py39/lib/python3.9/site-packages/numpy/core/fromnumeric.py:3504: RuntimeWarning: Mean of empty slice.\n",
      "  return _methods._mean(a, axis=axis, dtype=dtype,\n",
      "/Users/juliette/opt/anaconda3/envs/py39/lib/python3.9/site-packages/numpy/core/_methods.py:121: RuntimeWarning: invalid value encountered in divide\n",
      "  ret = um.true_divide(\n"
     ]
    },
    {
     "name": "stdout",
     "output_type": "stream",
     "text": [
      "Fold 2 Accuracy: 1.000\n",
      "  Fold 3/4\n"
     ]
    },
    {
     "name": "stderr",
     "output_type": "stream",
     "text": [
      "/Users/juliette/opt/anaconda3/envs/py39/lib/python3.9/site-packages/numpy/core/fromnumeric.py:3504: RuntimeWarning: Mean of empty slice.\n",
      "  return _methods._mean(a, axis=axis, dtype=dtype,\n",
      "/Users/juliette/opt/anaconda3/envs/py39/lib/python3.9/site-packages/numpy/core/_methods.py:121: RuntimeWarning: invalid value encountered in divide\n",
      "  ret = um.true_divide(\n"
     ]
    },
    {
     "name": "stdout",
     "output_type": "stream",
     "text": [
      "Fold 3 Accuracy: 0.950\n",
      "  Fold 4/4\n"
     ]
    },
    {
     "name": "stderr",
     "output_type": "stream",
     "text": [
      "/Users/juliette/opt/anaconda3/envs/py39/lib/python3.9/site-packages/numpy/core/fromnumeric.py:3504: RuntimeWarning: Mean of empty slice.\n",
      "  return _methods._mean(a, axis=axis, dtype=dtype,\n",
      "/Users/juliette/opt/anaconda3/envs/py39/lib/python3.9/site-packages/numpy/core/_methods.py:121: RuntimeWarning: invalid value encountered in divide\n",
      "  ret = um.true_divide(\n"
     ]
    },
    {
     "name": "stdout",
     "output_type": "stream",
     "text": [
      "Fold 4 Accuracy: 0.950\n",
      "Average Accuracy for VPpdil: 0.940\n",
      "Processing VPpdim...\n",
      "  Fold 1/4\n"
     ]
    },
    {
     "name": "stderr",
     "output_type": "stream",
     "text": [
      "/Users/juliette/opt/anaconda3/envs/py39/lib/python3.9/site-packages/numpy/core/fromnumeric.py:3504: RuntimeWarning: Mean of empty slice.\n",
      "  return _methods._mean(a, axis=axis, dtype=dtype,\n",
      "/Users/juliette/opt/anaconda3/envs/py39/lib/python3.9/site-packages/numpy/core/_methods.py:121: RuntimeWarning: invalid value encountered in divide\n",
      "  ret = um.true_divide(\n"
     ]
    },
    {
     "name": "stdout",
     "output_type": "stream",
     "text": [
      "Fold 1 Accuracy: 0.850\n",
      "  Fold 2/4\n"
     ]
    },
    {
     "name": "stderr",
     "output_type": "stream",
     "text": [
      "/Users/juliette/opt/anaconda3/envs/py39/lib/python3.9/site-packages/numpy/core/fromnumeric.py:3504: RuntimeWarning: Mean of empty slice.\n",
      "  return _methods._mean(a, axis=axis, dtype=dtype,\n",
      "/Users/juliette/opt/anaconda3/envs/py39/lib/python3.9/site-packages/numpy/core/_methods.py:121: RuntimeWarning: invalid value encountered in divide\n",
      "  ret = um.true_divide(\n"
     ]
    },
    {
     "name": "stdout",
     "output_type": "stream",
     "text": [
      "Fold 2 Accuracy: 0.850\n",
      "  Fold 3/4\n"
     ]
    },
    {
     "name": "stderr",
     "output_type": "stream",
     "text": [
      "/Users/juliette/opt/anaconda3/envs/py39/lib/python3.9/site-packages/numpy/core/fromnumeric.py:3504: RuntimeWarning: Mean of empty slice.\n",
      "  return _methods._mean(a, axis=axis, dtype=dtype,\n",
      "/Users/juliette/opt/anaconda3/envs/py39/lib/python3.9/site-packages/numpy/core/_methods.py:121: RuntimeWarning: invalid value encountered in divide\n",
      "  ret = um.true_divide(\n"
     ]
    },
    {
     "name": "stdout",
     "output_type": "stream",
     "text": [
      "Fold 3 Accuracy: 0.850\n",
      "  Fold 4/4\n"
     ]
    },
    {
     "name": "stderr",
     "output_type": "stream",
     "text": [
      "/Users/juliette/opt/anaconda3/envs/py39/lib/python3.9/site-packages/numpy/core/fromnumeric.py:3504: RuntimeWarning: Mean of empty slice.\n",
      "  return _methods._mean(a, axis=axis, dtype=dtype,\n",
      "/Users/juliette/opt/anaconda3/envs/py39/lib/python3.9/site-packages/numpy/core/_methods.py:121: RuntimeWarning: invalid value encountered in divide\n",
      "  ret = um.true_divide(\n"
     ]
    },
    {
     "name": "stdout",
     "output_type": "stream",
     "text": [
      "Fold 4 Accuracy: 0.950\n",
      "Average Accuracy for VPpdim: 0.880\n",
      "Processing VPpdin...\n",
      "  Fold 1/4\n"
     ]
    },
    {
     "name": "stderr",
     "output_type": "stream",
     "text": [
      "/Users/juliette/opt/anaconda3/envs/py39/lib/python3.9/site-packages/numpy/core/fromnumeric.py:3504: RuntimeWarning: Mean of empty slice.\n",
      "  return _methods._mean(a, axis=axis, dtype=dtype,\n",
      "/Users/juliette/opt/anaconda3/envs/py39/lib/python3.9/site-packages/numpy/core/_methods.py:121: RuntimeWarning: invalid value encountered in divide\n",
      "  ret = um.true_divide(\n"
     ]
    },
    {
     "name": "stdout",
     "output_type": "stream",
     "text": [
      "Fold 1 Accuracy: 0.750\n",
      "  Fold 2/4\n"
     ]
    },
    {
     "name": "stderr",
     "output_type": "stream",
     "text": [
      "/Users/juliette/opt/anaconda3/envs/py39/lib/python3.9/site-packages/numpy/core/fromnumeric.py:3504: RuntimeWarning: Mean of empty slice.\n",
      "  return _methods._mean(a, axis=axis, dtype=dtype,\n",
      "/Users/juliette/opt/anaconda3/envs/py39/lib/python3.9/site-packages/numpy/core/_methods.py:121: RuntimeWarning: invalid value encountered in divide\n",
      "  ret = um.true_divide(\n"
     ]
    },
    {
     "name": "stdout",
     "output_type": "stream",
     "text": [
      "Fold 2 Accuracy: 0.650\n",
      "  Fold 3/4\n"
     ]
    },
    {
     "name": "stderr",
     "output_type": "stream",
     "text": [
      "/Users/juliette/opt/anaconda3/envs/py39/lib/python3.9/site-packages/numpy/core/fromnumeric.py:3504: RuntimeWarning: Mean of empty slice.\n",
      "  return _methods._mean(a, axis=axis, dtype=dtype,\n",
      "/Users/juliette/opt/anaconda3/envs/py39/lib/python3.9/site-packages/numpy/core/_methods.py:121: RuntimeWarning: invalid value encountered in divide\n",
      "  ret = um.true_divide(\n"
     ]
    },
    {
     "name": "stdout",
     "output_type": "stream",
     "text": [
      "Fold 3 Accuracy: 0.700\n",
      "  Fold 4/4\n"
     ]
    },
    {
     "name": "stderr",
     "output_type": "stream",
     "text": [
      "/Users/juliette/opt/anaconda3/envs/py39/lib/python3.9/site-packages/numpy/core/fromnumeric.py:3504: RuntimeWarning: Mean of empty slice.\n",
      "  return _methods._mean(a, axis=axis, dtype=dtype,\n",
      "/Users/juliette/opt/anaconda3/envs/py39/lib/python3.9/site-packages/numpy/core/_methods.py:121: RuntimeWarning: invalid value encountered in divide\n",
      "  ret = um.true_divide(\n"
     ]
    },
    {
     "name": "stdout",
     "output_type": "stream",
     "text": [
      "Fold 4 Accuracy: 0.750\n",
      "Average Accuracy for VPpdin: 0.710\n",
      "Processing VPpdio...\n",
      "  Fold 1/4\n"
     ]
    },
    {
     "name": "stderr",
     "output_type": "stream",
     "text": [
      "/Users/juliette/opt/anaconda3/envs/py39/lib/python3.9/site-packages/numpy/core/fromnumeric.py:3504: RuntimeWarning: Mean of empty slice.\n",
      "  return _methods._mean(a, axis=axis, dtype=dtype,\n",
      "/Users/juliette/opt/anaconda3/envs/py39/lib/python3.9/site-packages/numpy/core/_methods.py:121: RuntimeWarning: invalid value encountered in divide\n",
      "  ret = um.true_divide(\n"
     ]
    },
    {
     "name": "stdout",
     "output_type": "stream",
     "text": [
      "Fold 1 Accuracy: 0.800\n",
      "  Fold 2/4\n"
     ]
    },
    {
     "name": "stderr",
     "output_type": "stream",
     "text": [
      "/Users/juliette/opt/anaconda3/envs/py39/lib/python3.9/site-packages/numpy/core/fromnumeric.py:3504: RuntimeWarning: Mean of empty slice.\n",
      "  return _methods._mean(a, axis=axis, dtype=dtype,\n",
      "/Users/juliette/opt/anaconda3/envs/py39/lib/python3.9/site-packages/numpy/core/_methods.py:121: RuntimeWarning: invalid value encountered in divide\n",
      "  ret = um.true_divide(\n"
     ]
    },
    {
     "name": "stdout",
     "output_type": "stream",
     "text": [
      "Fold 2 Accuracy: 0.800\n",
      "  Fold 3/4\n"
     ]
    },
    {
     "name": "stderr",
     "output_type": "stream",
     "text": [
      "/Users/juliette/opt/anaconda3/envs/py39/lib/python3.9/site-packages/numpy/core/fromnumeric.py:3504: RuntimeWarning: Mean of empty slice.\n",
      "  return _methods._mean(a, axis=axis, dtype=dtype,\n",
      "/Users/juliette/opt/anaconda3/envs/py39/lib/python3.9/site-packages/numpy/core/_methods.py:121: RuntimeWarning: invalid value encountered in divide\n",
      "  ret = um.true_divide(\n"
     ]
    },
    {
     "name": "stdout",
     "output_type": "stream",
     "text": [
      "Fold 3 Accuracy: 0.650\n",
      "  Fold 4/4\n"
     ]
    },
    {
     "name": "stderr",
     "output_type": "stream",
     "text": [
      "/Users/juliette/opt/anaconda3/envs/py39/lib/python3.9/site-packages/numpy/core/fromnumeric.py:3504: RuntimeWarning: Mean of empty slice.\n",
      "  return _methods._mean(a, axis=axis, dtype=dtype,\n",
      "/Users/juliette/opt/anaconda3/envs/py39/lib/python3.9/site-packages/numpy/core/_methods.py:121: RuntimeWarning: invalid value encountered in divide\n",
      "  ret = um.true_divide(\n"
     ]
    },
    {
     "name": "stdout",
     "output_type": "stream",
     "text": [
      "Fold 4 Accuracy: 0.850\n",
      "Average Accuracy for VPpdio: 0.780\n",
      "Processing VPpdip...\n",
      "  Fold 1/4\n"
     ]
    },
    {
     "name": "stderr",
     "output_type": "stream",
     "text": [
      "/Users/juliette/opt/anaconda3/envs/py39/lib/python3.9/site-packages/numpy/core/fromnumeric.py:3504: RuntimeWarning: Mean of empty slice.\n",
      "  return _methods._mean(a, axis=axis, dtype=dtype,\n",
      "/Users/juliette/opt/anaconda3/envs/py39/lib/python3.9/site-packages/numpy/core/_methods.py:121: RuntimeWarning: invalid value encountered in divide\n",
      "  ret = um.true_divide(\n"
     ]
    },
    {
     "name": "stdout",
     "output_type": "stream",
     "text": [
      "Fold 1 Accuracy: 0.650\n",
      "  Fold 2/4\n"
     ]
    },
    {
     "name": "stderr",
     "output_type": "stream",
     "text": [
      "/Users/juliette/opt/anaconda3/envs/py39/lib/python3.9/site-packages/numpy/core/fromnumeric.py:3504: RuntimeWarning: Mean of empty slice.\n",
      "  return _methods._mean(a, axis=axis, dtype=dtype,\n",
      "/Users/juliette/opt/anaconda3/envs/py39/lib/python3.9/site-packages/numpy/core/_methods.py:121: RuntimeWarning: invalid value encountered in divide\n",
      "  ret = um.true_divide(\n"
     ]
    },
    {
     "name": "stdout",
     "output_type": "stream",
     "text": [
      "Fold 2 Accuracy: 0.500\n",
      "  Fold 3/4\n"
     ]
    },
    {
     "name": "stderr",
     "output_type": "stream",
     "text": [
      "/Users/juliette/opt/anaconda3/envs/py39/lib/python3.9/site-packages/numpy/core/fromnumeric.py:3504: RuntimeWarning: Mean of empty slice.\n",
      "  return _methods._mean(a, axis=axis, dtype=dtype,\n",
      "/Users/juliette/opt/anaconda3/envs/py39/lib/python3.9/site-packages/numpy/core/_methods.py:121: RuntimeWarning: invalid value encountered in divide\n",
      "  ret = um.true_divide(\n"
     ]
    },
    {
     "name": "stdout",
     "output_type": "stream",
     "text": [
      "Fold 3 Accuracy: 0.700\n",
      "  Fold 4/4\n"
     ]
    },
    {
     "name": "stderr",
     "output_type": "stream",
     "text": [
      "/Users/juliette/opt/anaconda3/envs/py39/lib/python3.9/site-packages/numpy/core/fromnumeric.py:3504: RuntimeWarning: Mean of empty slice.\n",
      "  return _methods._mean(a, axis=axis, dtype=dtype,\n",
      "/Users/juliette/opt/anaconda3/envs/py39/lib/python3.9/site-packages/numpy/core/_methods.py:121: RuntimeWarning: invalid value encountered in divide\n",
      "  ret = um.true_divide(\n"
     ]
    },
    {
     "name": "stdout",
     "output_type": "stream",
     "text": [
      "Fold 4 Accuracy: 0.600\n",
      "Average Accuracy for VPpdip: 0.610\n",
      "Processing VPpdiq...\n",
      "  Fold 1/4\n"
     ]
    },
    {
     "name": "stderr",
     "output_type": "stream",
     "text": [
      "/Users/juliette/opt/anaconda3/envs/py39/lib/python3.9/site-packages/numpy/core/fromnumeric.py:3504: RuntimeWarning: Mean of empty slice.\n",
      "  return _methods._mean(a, axis=axis, dtype=dtype,\n",
      "/Users/juliette/opt/anaconda3/envs/py39/lib/python3.9/site-packages/numpy/core/_methods.py:121: RuntimeWarning: invalid value encountered in divide\n",
      "  ret = um.true_divide(\n"
     ]
    },
    {
     "name": "stdout",
     "output_type": "stream",
     "text": [
      "Fold 1 Accuracy: 0.900\n",
      "  Fold 2/4\n"
     ]
    },
    {
     "name": "stderr",
     "output_type": "stream",
     "text": [
      "/Users/juliette/opt/anaconda3/envs/py39/lib/python3.9/site-packages/numpy/core/fromnumeric.py:3504: RuntimeWarning: Mean of empty slice.\n",
      "  return _methods._mean(a, axis=axis, dtype=dtype,\n",
      "/Users/juliette/opt/anaconda3/envs/py39/lib/python3.9/site-packages/numpy/core/_methods.py:121: RuntimeWarning: invalid value encountered in divide\n",
      "  ret = um.true_divide(\n"
     ]
    },
    {
     "name": "stdout",
     "output_type": "stream",
     "text": [
      "Fold 2 Accuracy: 0.900\n",
      "  Fold 3/4\n"
     ]
    },
    {
     "name": "stderr",
     "output_type": "stream",
     "text": [
      "/Users/juliette/opt/anaconda3/envs/py39/lib/python3.9/site-packages/numpy/core/fromnumeric.py:3504: RuntimeWarning: Mean of empty slice.\n",
      "  return _methods._mean(a, axis=axis, dtype=dtype,\n",
      "/Users/juliette/opt/anaconda3/envs/py39/lib/python3.9/site-packages/numpy/core/_methods.py:121: RuntimeWarning: invalid value encountered in divide\n",
      "  ret = um.true_divide(\n"
     ]
    },
    {
     "name": "stdout",
     "output_type": "stream",
     "text": [
      "Fold 3 Accuracy: 0.650\n",
      "  Fold 4/4\n"
     ]
    },
    {
     "name": "stderr",
     "output_type": "stream",
     "text": [
      "/Users/juliette/opt/anaconda3/envs/py39/lib/python3.9/site-packages/numpy/core/fromnumeric.py:3504: RuntimeWarning: Mean of empty slice.\n",
      "  return _methods._mean(a, axis=axis, dtype=dtype,\n",
      "/Users/juliette/opt/anaconda3/envs/py39/lib/python3.9/site-packages/numpy/core/_methods.py:121: RuntimeWarning: invalid value encountered in divide\n",
      "  ret = um.true_divide(\n"
     ]
    },
    {
     "name": "stdout",
     "output_type": "stream",
     "text": [
      "Fold 4 Accuracy: 0.900\n",
      "Average Accuracy for VPpdiq: 0.840\n",
      "Processing VPpdir...\n",
      "  Fold 1/4\n"
     ]
    },
    {
     "name": "stderr",
     "output_type": "stream",
     "text": [
      "/Users/juliette/opt/anaconda3/envs/py39/lib/python3.9/site-packages/numpy/core/fromnumeric.py:3504: RuntimeWarning: Mean of empty slice.\n",
      "  return _methods._mean(a, axis=axis, dtype=dtype,\n",
      "/Users/juliette/opt/anaconda3/envs/py39/lib/python3.9/site-packages/numpy/core/_methods.py:121: RuntimeWarning: invalid value encountered in divide\n",
      "  ret = um.true_divide(\n"
     ]
    },
    {
     "name": "stdout",
     "output_type": "stream",
     "text": [
      "Fold 1 Accuracy: 0.800\n",
      "  Fold 2/4\n"
     ]
    },
    {
     "name": "stderr",
     "output_type": "stream",
     "text": [
      "/Users/juliette/opt/anaconda3/envs/py39/lib/python3.9/site-packages/numpy/core/fromnumeric.py:3504: RuntimeWarning: Mean of empty slice.\n",
      "  return _methods._mean(a, axis=axis, dtype=dtype,\n",
      "/Users/juliette/opt/anaconda3/envs/py39/lib/python3.9/site-packages/numpy/core/_methods.py:121: RuntimeWarning: invalid value encountered in divide\n",
      "  ret = um.true_divide(\n"
     ]
    },
    {
     "name": "stdout",
     "output_type": "stream",
     "text": [
      "Fold 2 Accuracy: 0.850\n",
      "  Fold 3/4\n"
     ]
    },
    {
     "name": "stderr",
     "output_type": "stream",
     "text": [
      "/Users/juliette/opt/anaconda3/envs/py39/lib/python3.9/site-packages/numpy/core/fromnumeric.py:3504: RuntimeWarning: Mean of empty slice.\n",
      "  return _methods._mean(a, axis=axis, dtype=dtype,\n",
      "/Users/juliette/opt/anaconda3/envs/py39/lib/python3.9/site-packages/numpy/core/_methods.py:121: RuntimeWarning: invalid value encountered in divide\n",
      "  ret = um.true_divide(\n"
     ]
    },
    {
     "name": "stdout",
     "output_type": "stream",
     "text": [
      "Fold 3 Accuracy: 0.750\n",
      "  Fold 4/4\n"
     ]
    },
    {
     "name": "stderr",
     "output_type": "stream",
     "text": [
      "/Users/juliette/opt/anaconda3/envs/py39/lib/python3.9/site-packages/numpy/core/fromnumeric.py:3504: RuntimeWarning: Mean of empty slice.\n",
      "  return _methods._mean(a, axis=axis, dtype=dtype,\n",
      "/Users/juliette/opt/anaconda3/envs/py39/lib/python3.9/site-packages/numpy/core/_methods.py:121: RuntimeWarning: invalid value encountered in divide\n",
      "  ret = um.true_divide(\n"
     ]
    },
    {
     "name": "stdout",
     "output_type": "stream",
     "text": [
      "Fold 4 Accuracy: 0.700\n",
      "Average Accuracy for VPpdir: 0.770\n",
      "Processing VPpdis...\n",
      "  Fold 1/4\n"
     ]
    },
    {
     "name": "stderr",
     "output_type": "stream",
     "text": [
      "/Users/juliette/opt/anaconda3/envs/py39/lib/python3.9/site-packages/numpy/core/fromnumeric.py:3504: RuntimeWarning: Mean of empty slice.\n",
      "  return _methods._mean(a, axis=axis, dtype=dtype,\n",
      "/Users/juliette/opt/anaconda3/envs/py39/lib/python3.9/site-packages/numpy/core/_methods.py:121: RuntimeWarning: invalid value encountered in divide\n",
      "  ret = um.true_divide(\n"
     ]
    },
    {
     "name": "stdout",
     "output_type": "stream",
     "text": [
      "Fold 1 Accuracy: 0.800\n",
      "  Fold 2/4\n"
     ]
    },
    {
     "name": "stderr",
     "output_type": "stream",
     "text": [
      "/Users/juliette/opt/anaconda3/envs/py39/lib/python3.9/site-packages/numpy/core/fromnumeric.py:3504: RuntimeWarning: Mean of empty slice.\n",
      "  return _methods._mean(a, axis=axis, dtype=dtype,\n",
      "/Users/juliette/opt/anaconda3/envs/py39/lib/python3.9/site-packages/numpy/core/_methods.py:121: RuntimeWarning: invalid value encountered in divide\n",
      "  ret = um.true_divide(\n"
     ]
    },
    {
     "name": "stdout",
     "output_type": "stream",
     "text": [
      "Fold 2 Accuracy: 0.850\n",
      "  Fold 3/4\n"
     ]
    },
    {
     "name": "stderr",
     "output_type": "stream",
     "text": [
      "/Users/juliette/opt/anaconda3/envs/py39/lib/python3.9/site-packages/numpy/core/fromnumeric.py:3504: RuntimeWarning: Mean of empty slice.\n",
      "  return _methods._mean(a, axis=axis, dtype=dtype,\n",
      "/Users/juliette/opt/anaconda3/envs/py39/lib/python3.9/site-packages/numpy/core/_methods.py:121: RuntimeWarning: invalid value encountered in divide\n",
      "  ret = um.true_divide(\n"
     ]
    },
    {
     "name": "stdout",
     "output_type": "stream",
     "text": [
      "Fold 3 Accuracy: 0.900\n",
      "  Fold 4/4\n"
     ]
    },
    {
     "name": "stderr",
     "output_type": "stream",
     "text": [
      "/Users/juliette/opt/anaconda3/envs/py39/lib/python3.9/site-packages/numpy/core/fromnumeric.py:3504: RuntimeWarning: Mean of empty slice.\n",
      "  return _methods._mean(a, axis=axis, dtype=dtype,\n",
      "/Users/juliette/opt/anaconda3/envs/py39/lib/python3.9/site-packages/numpy/core/_methods.py:121: RuntimeWarning: invalid value encountered in divide\n",
      "  ret = um.true_divide(\n"
     ]
    },
    {
     "name": "stdout",
     "output_type": "stream",
     "text": [
      "Fold 4 Accuracy: 0.950\n",
      "Average Accuracy for VPpdis: 0.880\n",
      "Processing VPpdit...\n",
      "  Fold 1/4\n"
     ]
    },
    {
     "name": "stderr",
     "output_type": "stream",
     "text": [
      "/Users/juliette/opt/anaconda3/envs/py39/lib/python3.9/site-packages/numpy/core/fromnumeric.py:3504: RuntimeWarning: Mean of empty slice.\n",
      "  return _methods._mean(a, axis=axis, dtype=dtype,\n",
      "/Users/juliette/opt/anaconda3/envs/py39/lib/python3.9/site-packages/numpy/core/_methods.py:121: RuntimeWarning: invalid value encountered in divide\n",
      "  ret = um.true_divide(\n"
     ]
    },
    {
     "name": "stdout",
     "output_type": "stream",
     "text": [
      "Fold 1 Accuracy: 0.900\n",
      "  Fold 2/4\n"
     ]
    },
    {
     "name": "stderr",
     "output_type": "stream",
     "text": [
      "/Users/juliette/opt/anaconda3/envs/py39/lib/python3.9/site-packages/numpy/core/fromnumeric.py:3504: RuntimeWarning: Mean of empty slice.\n",
      "  return _methods._mean(a, axis=axis, dtype=dtype,\n",
      "/Users/juliette/opt/anaconda3/envs/py39/lib/python3.9/site-packages/numpy/core/_methods.py:121: RuntimeWarning: invalid value encountered in divide\n",
      "  ret = um.true_divide(\n"
     ]
    },
    {
     "name": "stdout",
     "output_type": "stream",
     "text": [
      "Fold 2 Accuracy: 0.950\n",
      "  Fold 3/4\n"
     ]
    },
    {
     "name": "stderr",
     "output_type": "stream",
     "text": [
      "/Users/juliette/opt/anaconda3/envs/py39/lib/python3.9/site-packages/numpy/core/fromnumeric.py:3504: RuntimeWarning: Mean of empty slice.\n",
      "  return _methods._mean(a, axis=axis, dtype=dtype,\n",
      "/Users/juliette/opt/anaconda3/envs/py39/lib/python3.9/site-packages/numpy/core/_methods.py:121: RuntimeWarning: invalid value encountered in divide\n",
      "  ret = um.true_divide(\n"
     ]
    },
    {
     "name": "stdout",
     "output_type": "stream",
     "text": [
      "Fold 3 Accuracy: 1.000\n",
      "  Fold 4/4\n"
     ]
    },
    {
     "name": "stderr",
     "output_type": "stream",
     "text": [
      "/Users/juliette/opt/anaconda3/envs/py39/lib/python3.9/site-packages/numpy/core/fromnumeric.py:3504: RuntimeWarning: Mean of empty slice.\n",
      "  return _methods._mean(a, axis=axis, dtype=dtype,\n",
      "/Users/juliette/opt/anaconda3/envs/py39/lib/python3.9/site-packages/numpy/core/_methods.py:121: RuntimeWarning: invalid value encountered in divide\n",
      "  ret = um.true_divide(\n"
     ]
    },
    {
     "name": "stdout",
     "output_type": "stream",
     "text": [
      "Fold 4 Accuracy: 1.000\n",
      "Average Accuracy for VPpdit: 0.960\n",
      "Processing VPpdiu...\n",
      "  Fold 1/4\n"
     ]
    },
    {
     "name": "stderr",
     "output_type": "stream",
     "text": [
      "/Users/juliette/opt/anaconda3/envs/py39/lib/python3.9/site-packages/numpy/core/fromnumeric.py:3504: RuntimeWarning: Mean of empty slice.\n",
      "  return _methods._mean(a, axis=axis, dtype=dtype,\n",
      "/Users/juliette/opt/anaconda3/envs/py39/lib/python3.9/site-packages/numpy/core/_methods.py:121: RuntimeWarning: invalid value encountered in divide\n",
      "  ret = um.true_divide(\n"
     ]
    },
    {
     "name": "stdout",
     "output_type": "stream",
     "text": [
      "Fold 1 Accuracy: 0.800\n",
      "  Fold 2/4\n"
     ]
    },
    {
     "name": "stderr",
     "output_type": "stream",
     "text": [
      "/Users/juliette/opt/anaconda3/envs/py39/lib/python3.9/site-packages/numpy/core/fromnumeric.py:3504: RuntimeWarning: Mean of empty slice.\n",
      "  return _methods._mean(a, axis=axis, dtype=dtype,\n",
      "/Users/juliette/opt/anaconda3/envs/py39/lib/python3.9/site-packages/numpy/core/_methods.py:121: RuntimeWarning: invalid value encountered in divide\n",
      "  ret = um.true_divide(\n"
     ]
    },
    {
     "name": "stdout",
     "output_type": "stream",
     "text": [
      "Fold 2 Accuracy: 0.500\n",
      "  Fold 3/4\n"
     ]
    },
    {
     "name": "stderr",
     "output_type": "stream",
     "text": [
      "/Users/juliette/opt/anaconda3/envs/py39/lib/python3.9/site-packages/numpy/core/fromnumeric.py:3504: RuntimeWarning: Mean of empty slice.\n",
      "  return _methods._mean(a, axis=axis, dtype=dtype,\n",
      "/Users/juliette/opt/anaconda3/envs/py39/lib/python3.9/site-packages/numpy/core/_methods.py:121: RuntimeWarning: invalid value encountered in divide\n",
      "  ret = um.true_divide(\n"
     ]
    },
    {
     "name": "stdout",
     "output_type": "stream",
     "text": [
      "Fold 3 Accuracy: 0.450\n",
      "  Fold 4/4\n"
     ]
    },
    {
     "name": "stderr",
     "output_type": "stream",
     "text": [
      "/Users/juliette/opt/anaconda3/envs/py39/lib/python3.9/site-packages/numpy/core/fromnumeric.py:3504: RuntimeWarning: Mean of empty slice.\n",
      "  return _methods._mean(a, axis=axis, dtype=dtype,\n",
      "/Users/juliette/opt/anaconda3/envs/py39/lib/python3.9/site-packages/numpy/core/_methods.py:121: RuntimeWarning: invalid value encountered in divide\n",
      "  ret = um.true_divide(\n"
     ]
    },
    {
     "name": "stdout",
     "output_type": "stream",
     "text": [
      "Fold 4 Accuracy: 0.300\n",
      "Average Accuracy for VPpdiu: 0.510\n",
      "Processing VPpdiv...\n",
      "  Fold 1/4\n"
     ]
    },
    {
     "name": "stderr",
     "output_type": "stream",
     "text": [
      "/Users/juliette/opt/anaconda3/envs/py39/lib/python3.9/site-packages/numpy/core/fromnumeric.py:3504: RuntimeWarning: Mean of empty slice.\n",
      "  return _methods._mean(a, axis=axis, dtype=dtype,\n",
      "/Users/juliette/opt/anaconda3/envs/py39/lib/python3.9/site-packages/numpy/core/_methods.py:121: RuntimeWarning: invalid value encountered in divide\n",
      "  ret = um.true_divide(\n"
     ]
    },
    {
     "name": "stdout",
     "output_type": "stream",
     "text": [
      "Fold 1 Accuracy: 0.850\n",
      "  Fold 2/4\n"
     ]
    },
    {
     "name": "stderr",
     "output_type": "stream",
     "text": [
      "/Users/juliette/opt/anaconda3/envs/py39/lib/python3.9/site-packages/numpy/core/fromnumeric.py:3504: RuntimeWarning: Mean of empty slice.\n",
      "  return _methods._mean(a, axis=axis, dtype=dtype,\n",
      "/Users/juliette/opt/anaconda3/envs/py39/lib/python3.9/site-packages/numpy/core/_methods.py:121: RuntimeWarning: invalid value encountered in divide\n",
      "  ret = um.true_divide(\n"
     ]
    },
    {
     "name": "stdout",
     "output_type": "stream",
     "text": [
      "Fold 2 Accuracy: 0.800\n",
      "  Fold 3/4\n"
     ]
    },
    {
     "name": "stderr",
     "output_type": "stream",
     "text": [
      "/Users/juliette/opt/anaconda3/envs/py39/lib/python3.9/site-packages/numpy/core/fromnumeric.py:3504: RuntimeWarning: Mean of empty slice.\n",
      "  return _methods._mean(a, axis=axis, dtype=dtype,\n",
      "/Users/juliette/opt/anaconda3/envs/py39/lib/python3.9/site-packages/numpy/core/_methods.py:121: RuntimeWarning: invalid value encountered in divide\n",
      "  ret = um.true_divide(\n"
     ]
    },
    {
     "name": "stdout",
     "output_type": "stream",
     "text": [
      "Fold 3 Accuracy: 0.900\n",
      "  Fold 4/4\n"
     ]
    },
    {
     "name": "stderr",
     "output_type": "stream",
     "text": [
      "/Users/juliette/opt/anaconda3/envs/py39/lib/python3.9/site-packages/numpy/core/fromnumeric.py:3504: RuntimeWarning: Mean of empty slice.\n",
      "  return _methods._mean(a, axis=axis, dtype=dtype,\n",
      "/Users/juliette/opt/anaconda3/envs/py39/lib/python3.9/site-packages/numpy/core/_methods.py:121: RuntimeWarning: invalid value encountered in divide\n",
      "  ret = um.true_divide(\n"
     ]
    },
    {
     "name": "stdout",
     "output_type": "stream",
     "text": [
      "Fold 4 Accuracy: 0.950\n",
      "Average Accuracy for VPpdiv: 0.880\n",
      "Processing VPpdiw...\n",
      "  Fold 1/4\n"
     ]
    },
    {
     "name": "stderr",
     "output_type": "stream",
     "text": [
      "/Users/juliette/opt/anaconda3/envs/py39/lib/python3.9/site-packages/numpy/core/fromnumeric.py:3504: RuntimeWarning: Mean of empty slice.\n",
      "  return _methods._mean(a, axis=axis, dtype=dtype,\n",
      "/Users/juliette/opt/anaconda3/envs/py39/lib/python3.9/site-packages/numpy/core/_methods.py:121: RuntimeWarning: invalid value encountered in divide\n",
      "  ret = um.true_divide(\n"
     ]
    },
    {
     "name": "stdout",
     "output_type": "stream",
     "text": [
      "Fold 1 Accuracy: 0.750\n",
      "  Fold 2/4\n"
     ]
    },
    {
     "name": "stderr",
     "output_type": "stream",
     "text": [
      "/Users/juliette/opt/anaconda3/envs/py39/lib/python3.9/site-packages/numpy/core/fromnumeric.py:3504: RuntimeWarning: Mean of empty slice.\n",
      "  return _methods._mean(a, axis=axis, dtype=dtype,\n",
      "/Users/juliette/opt/anaconda3/envs/py39/lib/python3.9/site-packages/numpy/core/_methods.py:121: RuntimeWarning: invalid value encountered in divide\n",
      "  ret = um.true_divide(\n"
     ]
    },
    {
     "name": "stdout",
     "output_type": "stream",
     "text": [
      "Fold 2 Accuracy: 0.750\n",
      "  Fold 3/4\n"
     ]
    },
    {
     "name": "stderr",
     "output_type": "stream",
     "text": [
      "/Users/juliette/opt/anaconda3/envs/py39/lib/python3.9/site-packages/numpy/core/fromnumeric.py:3504: RuntimeWarning: Mean of empty slice.\n",
      "  return _methods._mean(a, axis=axis, dtype=dtype,\n",
      "/Users/juliette/opt/anaconda3/envs/py39/lib/python3.9/site-packages/numpy/core/_methods.py:121: RuntimeWarning: invalid value encountered in divide\n",
      "  ret = um.true_divide(\n"
     ]
    },
    {
     "name": "stdout",
     "output_type": "stream",
     "text": [
      "Fold 3 Accuracy: 0.850\n",
      "  Fold 4/4\n"
     ]
    },
    {
     "name": "stderr",
     "output_type": "stream",
     "text": [
      "/Users/juliette/opt/anaconda3/envs/py39/lib/python3.9/site-packages/numpy/core/fromnumeric.py:3504: RuntimeWarning: Mean of empty slice.\n",
      "  return _methods._mean(a, axis=axis, dtype=dtype,\n",
      "/Users/juliette/opt/anaconda3/envs/py39/lib/python3.9/site-packages/numpy/core/_methods.py:121: RuntimeWarning: invalid value encountered in divide\n",
      "  ret = um.true_divide(\n"
     ]
    },
    {
     "name": "stdout",
     "output_type": "stream",
     "text": [
      "Fold 4 Accuracy: 0.750\n",
      "Average Accuracy for VPpdiw: 0.780\n",
      "Processing VPpdix...\n",
      "  Fold 1/4\n"
     ]
    },
    {
     "name": "stderr",
     "output_type": "stream",
     "text": [
      "/Users/juliette/opt/anaconda3/envs/py39/lib/python3.9/site-packages/numpy/core/fromnumeric.py:3504: RuntimeWarning: Mean of empty slice.\n",
      "  return _methods._mean(a, axis=axis, dtype=dtype,\n",
      "/Users/juliette/opt/anaconda3/envs/py39/lib/python3.9/site-packages/numpy/core/_methods.py:121: RuntimeWarning: invalid value encountered in divide\n",
      "  ret = um.true_divide(\n"
     ]
    },
    {
     "name": "stdout",
     "output_type": "stream",
     "text": [
      "Fold 1 Accuracy: 0.900\n",
      "  Fold 2/4\n"
     ]
    },
    {
     "name": "stderr",
     "output_type": "stream",
     "text": [
      "/Users/juliette/opt/anaconda3/envs/py39/lib/python3.9/site-packages/numpy/core/fromnumeric.py:3504: RuntimeWarning: Mean of empty slice.\n",
      "  return _methods._mean(a, axis=axis, dtype=dtype,\n",
      "/Users/juliette/opt/anaconda3/envs/py39/lib/python3.9/site-packages/numpy/core/_methods.py:121: RuntimeWarning: invalid value encountered in divide\n",
      "  ret = um.true_divide(\n"
     ]
    },
    {
     "name": "stdout",
     "output_type": "stream",
     "text": [
      "Fold 2 Accuracy: 0.850\n",
      "  Fold 3/4\n"
     ]
    },
    {
     "name": "stderr",
     "output_type": "stream",
     "text": [
      "/Users/juliette/opt/anaconda3/envs/py39/lib/python3.9/site-packages/numpy/core/fromnumeric.py:3504: RuntimeWarning: Mean of empty slice.\n",
      "  return _methods._mean(a, axis=axis, dtype=dtype,\n",
      "/Users/juliette/opt/anaconda3/envs/py39/lib/python3.9/site-packages/numpy/core/_methods.py:121: RuntimeWarning: invalid value encountered in divide\n",
      "  ret = um.true_divide(\n"
     ]
    },
    {
     "name": "stdout",
     "output_type": "stream",
     "text": [
      "Fold 3 Accuracy: 0.800\n",
      "  Fold 4/4\n"
     ]
    },
    {
     "name": "stderr",
     "output_type": "stream",
     "text": [
      "/Users/juliette/opt/anaconda3/envs/py39/lib/python3.9/site-packages/numpy/core/fromnumeric.py:3504: RuntimeWarning: Mean of empty slice.\n",
      "  return _methods._mean(a, axis=axis, dtype=dtype,\n",
      "/Users/juliette/opt/anaconda3/envs/py39/lib/python3.9/site-packages/numpy/core/_methods.py:121: RuntimeWarning: invalid value encountered in divide\n",
      "  ret = um.true_divide(\n"
     ]
    },
    {
     "name": "stdout",
     "output_type": "stream",
     "text": [
      "Fold 4 Accuracy: 0.550\n",
      "Average Accuracy for VPpdix: 0.770\n",
      "Processing VPpdiy...\n",
      "  Fold 1/4\n"
     ]
    },
    {
     "name": "stderr",
     "output_type": "stream",
     "text": [
      "/Users/juliette/opt/anaconda3/envs/py39/lib/python3.9/site-packages/numpy/core/fromnumeric.py:3504: RuntimeWarning: Mean of empty slice.\n",
      "  return _methods._mean(a, axis=axis, dtype=dtype,\n",
      "/Users/juliette/opt/anaconda3/envs/py39/lib/python3.9/site-packages/numpy/core/_methods.py:121: RuntimeWarning: invalid value encountered in divide\n",
      "  ret = um.true_divide(\n"
     ]
    },
    {
     "name": "stdout",
     "output_type": "stream",
     "text": [
      "Fold 1 Accuracy: 0.650\n",
      "  Fold 2/4\n"
     ]
    },
    {
     "name": "stderr",
     "output_type": "stream",
     "text": [
      "/Users/juliette/opt/anaconda3/envs/py39/lib/python3.9/site-packages/numpy/core/fromnumeric.py:3504: RuntimeWarning: Mean of empty slice.\n",
      "  return _methods._mean(a, axis=axis, dtype=dtype,\n",
      "/Users/juliette/opt/anaconda3/envs/py39/lib/python3.9/site-packages/numpy/core/_methods.py:121: RuntimeWarning: invalid value encountered in divide\n",
      "  ret = um.true_divide(\n"
     ]
    },
    {
     "name": "stdout",
     "output_type": "stream",
     "text": [
      "Fold 2 Accuracy: 0.800\n",
      "  Fold 3/4\n"
     ]
    },
    {
     "name": "stderr",
     "output_type": "stream",
     "text": [
      "/Users/juliette/opt/anaconda3/envs/py39/lib/python3.9/site-packages/numpy/core/fromnumeric.py:3504: RuntimeWarning: Mean of empty slice.\n",
      "  return _methods._mean(a, axis=axis, dtype=dtype,\n",
      "/Users/juliette/opt/anaconda3/envs/py39/lib/python3.9/site-packages/numpy/core/_methods.py:121: RuntimeWarning: invalid value encountered in divide\n",
      "  ret = um.true_divide(\n"
     ]
    },
    {
     "name": "stdout",
     "output_type": "stream",
     "text": [
      "Fold 3 Accuracy: 0.700\n",
      "  Fold 4/4\n"
     ]
    },
    {
     "name": "stderr",
     "output_type": "stream",
     "text": [
      "/Users/juliette/opt/anaconda3/envs/py39/lib/python3.9/site-packages/numpy/core/fromnumeric.py:3504: RuntimeWarning: Mean of empty slice.\n",
      "  return _methods._mean(a, axis=axis, dtype=dtype,\n",
      "/Users/juliette/opt/anaconda3/envs/py39/lib/python3.9/site-packages/numpy/core/_methods.py:121: RuntimeWarning: invalid value encountered in divide\n",
      "  ret = um.true_divide(\n"
     ]
    },
    {
     "name": "stdout",
     "output_type": "stream",
     "text": [
      "Fold 4 Accuracy: 0.700\n",
      "Average Accuracy for VPpdiy: 0.710\n",
      "Processing VPpdiz...\n",
      "  Fold 1/4\n"
     ]
    },
    {
     "name": "stderr",
     "output_type": "stream",
     "text": [
      "/Users/juliette/opt/anaconda3/envs/py39/lib/python3.9/site-packages/numpy/core/fromnumeric.py:3504: RuntimeWarning: Mean of empty slice.\n",
      "  return _methods._mean(a, axis=axis, dtype=dtype,\n",
      "/Users/juliette/opt/anaconda3/envs/py39/lib/python3.9/site-packages/numpy/core/_methods.py:121: RuntimeWarning: invalid value encountered in divide\n",
      "  ret = um.true_divide(\n"
     ]
    },
    {
     "name": "stdout",
     "output_type": "stream",
     "text": [
      "Fold 1 Accuracy: 0.600\n",
      "  Fold 2/4\n"
     ]
    },
    {
     "name": "stderr",
     "output_type": "stream",
     "text": [
      "/Users/juliette/opt/anaconda3/envs/py39/lib/python3.9/site-packages/numpy/core/fromnumeric.py:3504: RuntimeWarning: Mean of empty slice.\n",
      "  return _methods._mean(a, axis=axis, dtype=dtype,\n",
      "/Users/juliette/opt/anaconda3/envs/py39/lib/python3.9/site-packages/numpy/core/_methods.py:121: RuntimeWarning: invalid value encountered in divide\n",
      "  ret = um.true_divide(\n"
     ]
    },
    {
     "name": "stdout",
     "output_type": "stream",
     "text": [
      "Fold 2 Accuracy: 0.800\n",
      "  Fold 3/4\n"
     ]
    },
    {
     "name": "stderr",
     "output_type": "stream",
     "text": [
      "/Users/juliette/opt/anaconda3/envs/py39/lib/python3.9/site-packages/numpy/core/fromnumeric.py:3504: RuntimeWarning: Mean of empty slice.\n",
      "  return _methods._mean(a, axis=axis, dtype=dtype,\n",
      "/Users/juliette/opt/anaconda3/envs/py39/lib/python3.9/site-packages/numpy/core/_methods.py:121: RuntimeWarning: invalid value encountered in divide\n",
      "  ret = um.true_divide(\n"
     ]
    },
    {
     "name": "stdout",
     "output_type": "stream",
     "text": [
      "Fold 3 Accuracy: 0.500\n",
      "  Fold 4/4\n"
     ]
    },
    {
     "name": "stderr",
     "output_type": "stream",
     "text": [
      "/Users/juliette/opt/anaconda3/envs/py39/lib/python3.9/site-packages/numpy/core/fromnumeric.py:3504: RuntimeWarning: Mean of empty slice.\n",
      "  return _methods._mean(a, axis=axis, dtype=dtype,\n",
      "/Users/juliette/opt/anaconda3/envs/py39/lib/python3.9/site-packages/numpy/core/_methods.py:121: RuntimeWarning: invalid value encountered in divide\n",
      "  ret = um.true_divide(\n"
     ]
    },
    {
     "name": "stdout",
     "output_type": "stream",
     "text": [
      "Fold 4 Accuracy: 0.650\n",
      "Average Accuracy for VPpdiz: 0.640\n",
      "Processing VPpdiza...\n",
      "  Fold 1/4\n"
     ]
    },
    {
     "name": "stderr",
     "output_type": "stream",
     "text": [
      "/Users/juliette/opt/anaconda3/envs/py39/lib/python3.9/site-packages/numpy/core/fromnumeric.py:3504: RuntimeWarning: Mean of empty slice.\n",
      "  return _methods._mean(a, axis=axis, dtype=dtype,\n",
      "/Users/juliette/opt/anaconda3/envs/py39/lib/python3.9/site-packages/numpy/core/_methods.py:121: RuntimeWarning: invalid value encountered in divide\n",
      "  ret = um.true_divide(\n"
     ]
    },
    {
     "name": "stdout",
     "output_type": "stream",
     "text": [
      "Fold 1 Accuracy: 0.750\n",
      "  Fold 2/4\n"
     ]
    },
    {
     "name": "stderr",
     "output_type": "stream",
     "text": [
      "/Users/juliette/opt/anaconda3/envs/py39/lib/python3.9/site-packages/numpy/core/fromnumeric.py:3504: RuntimeWarning: Mean of empty slice.\n",
      "  return _methods._mean(a, axis=axis, dtype=dtype,\n",
      "/Users/juliette/opt/anaconda3/envs/py39/lib/python3.9/site-packages/numpy/core/_methods.py:121: RuntimeWarning: invalid value encountered in divide\n",
      "  ret = um.true_divide(\n"
     ]
    },
    {
     "name": "stdout",
     "output_type": "stream",
     "text": [
      "Fold 2 Accuracy: 0.800\n",
      "  Fold 3/4\n"
     ]
    },
    {
     "name": "stderr",
     "output_type": "stream",
     "text": [
      "/Users/juliette/opt/anaconda3/envs/py39/lib/python3.9/site-packages/numpy/core/fromnumeric.py:3504: RuntimeWarning: Mean of empty slice.\n",
      "  return _methods._mean(a, axis=axis, dtype=dtype,\n",
      "/Users/juliette/opt/anaconda3/envs/py39/lib/python3.9/site-packages/numpy/core/_methods.py:121: RuntimeWarning: invalid value encountered in divide\n",
      "  ret = um.true_divide(\n"
     ]
    },
    {
     "name": "stdout",
     "output_type": "stream",
     "text": [
      "Fold 3 Accuracy: 0.850\n",
      "  Fold 4/4\n"
     ]
    },
    {
     "name": "stderr",
     "output_type": "stream",
     "text": [
      "/Users/juliette/opt/anaconda3/envs/py39/lib/python3.9/site-packages/numpy/core/fromnumeric.py:3504: RuntimeWarning: Mean of empty slice.\n",
      "  return _methods._mean(a, axis=axis, dtype=dtype,\n",
      "/Users/juliette/opt/anaconda3/envs/py39/lib/python3.9/site-packages/numpy/core/_methods.py:121: RuntimeWarning: invalid value encountered in divide\n",
      "  ret = um.true_divide(\n"
     ]
    },
    {
     "name": "stdout",
     "output_type": "stream",
     "text": [
      "Fold 4 Accuracy: 0.900\n",
      "Average Accuracy for VPpdiza: 0.820\n",
      "Processing VPpdizb...\n",
      "  Fold 1/4\n"
     ]
    },
    {
     "name": "stderr",
     "output_type": "stream",
     "text": [
      "/Users/juliette/opt/anaconda3/envs/py39/lib/python3.9/site-packages/numpy/core/fromnumeric.py:3504: RuntimeWarning: Mean of empty slice.\n",
      "  return _methods._mean(a, axis=axis, dtype=dtype,\n",
      "/Users/juliette/opt/anaconda3/envs/py39/lib/python3.9/site-packages/numpy/core/_methods.py:121: RuntimeWarning: invalid value encountered in divide\n",
      "  ret = um.true_divide(\n"
     ]
    },
    {
     "name": "stdout",
     "output_type": "stream",
     "text": [
      "Fold 1 Accuracy: 0.850\n",
      "  Fold 2/4\n"
     ]
    },
    {
     "name": "stderr",
     "output_type": "stream",
     "text": [
      "/Users/juliette/opt/anaconda3/envs/py39/lib/python3.9/site-packages/numpy/core/fromnumeric.py:3504: RuntimeWarning: Mean of empty slice.\n",
      "  return _methods._mean(a, axis=axis, dtype=dtype,\n",
      "/Users/juliette/opt/anaconda3/envs/py39/lib/python3.9/site-packages/numpy/core/_methods.py:121: RuntimeWarning: invalid value encountered in divide\n",
      "  ret = um.true_divide(\n"
     ]
    },
    {
     "name": "stdout",
     "output_type": "stream",
     "text": [
      "Fold 2 Accuracy: 0.700\n",
      "  Fold 3/4\n"
     ]
    },
    {
     "name": "stderr",
     "output_type": "stream",
     "text": [
      "/Users/juliette/opt/anaconda3/envs/py39/lib/python3.9/site-packages/numpy/core/fromnumeric.py:3504: RuntimeWarning: Mean of empty slice.\n",
      "  return _methods._mean(a, axis=axis, dtype=dtype,\n",
      "/Users/juliette/opt/anaconda3/envs/py39/lib/python3.9/site-packages/numpy/core/_methods.py:121: RuntimeWarning: invalid value encountered in divide\n",
      "  ret = um.true_divide(\n"
     ]
    },
    {
     "name": "stdout",
     "output_type": "stream",
     "text": [
      "Fold 3 Accuracy: 0.950\n",
      "  Fold 4/4\n"
     ]
    },
    {
     "name": "stderr",
     "output_type": "stream",
     "text": [
      "/Users/juliette/opt/anaconda3/envs/py39/lib/python3.9/site-packages/numpy/core/fromnumeric.py:3504: RuntimeWarning: Mean of empty slice.\n",
      "  return _methods._mean(a, axis=axis, dtype=dtype,\n",
      "/Users/juliette/opt/anaconda3/envs/py39/lib/python3.9/site-packages/numpy/core/_methods.py:121: RuntimeWarning: invalid value encountered in divide\n",
      "  ret = um.true_divide(\n"
     ]
    },
    {
     "name": "stdout",
     "output_type": "stream",
     "text": [
      "Fold 4 Accuracy: 0.750\n",
      "Average Accuracy for VPpdizb: 0.810\n",
      "Processing VPpdizc...\n",
      "  Fold 1/4\n"
     ]
    },
    {
     "name": "stderr",
     "output_type": "stream",
     "text": [
      "/Users/juliette/opt/anaconda3/envs/py39/lib/python3.9/site-packages/numpy/core/fromnumeric.py:3504: RuntimeWarning: Mean of empty slice.\n",
      "  return _methods._mean(a, axis=axis, dtype=dtype,\n",
      "/Users/juliette/opt/anaconda3/envs/py39/lib/python3.9/site-packages/numpy/core/_methods.py:121: RuntimeWarning: invalid value encountered in divide\n",
      "  ret = um.true_divide(\n"
     ]
    },
    {
     "name": "stdout",
     "output_type": "stream",
     "text": [
      "Fold 1 Accuracy: 0.650\n",
      "  Fold 2/4\n"
     ]
    },
    {
     "name": "stderr",
     "output_type": "stream",
     "text": [
      "/Users/juliette/opt/anaconda3/envs/py39/lib/python3.9/site-packages/numpy/core/fromnumeric.py:3504: RuntimeWarning: Mean of empty slice.\n",
      "  return _methods._mean(a, axis=axis, dtype=dtype,\n",
      "/Users/juliette/opt/anaconda3/envs/py39/lib/python3.9/site-packages/numpy/core/_methods.py:121: RuntimeWarning: invalid value encountered in divide\n",
      "  ret = um.true_divide(\n"
     ]
    },
    {
     "name": "stdout",
     "output_type": "stream",
     "text": [
      "Fold 2 Accuracy: 0.650\n",
      "  Fold 3/4\n"
     ]
    },
    {
     "name": "stderr",
     "output_type": "stream",
     "text": [
      "/Users/juliette/opt/anaconda3/envs/py39/lib/python3.9/site-packages/numpy/core/fromnumeric.py:3504: RuntimeWarning: Mean of empty slice.\n",
      "  return _methods._mean(a, axis=axis, dtype=dtype,\n",
      "/Users/juliette/opt/anaconda3/envs/py39/lib/python3.9/site-packages/numpy/core/_methods.py:121: RuntimeWarning: invalid value encountered in divide\n",
      "  ret = um.true_divide(\n"
     ]
    },
    {
     "name": "stdout",
     "output_type": "stream",
     "text": [
      "Fold 3 Accuracy: 0.850\n",
      "  Fold 4/4\n"
     ]
    },
    {
     "name": "stderr",
     "output_type": "stream",
     "text": [
      "/Users/juliette/opt/anaconda3/envs/py39/lib/python3.9/site-packages/numpy/core/fromnumeric.py:3504: RuntimeWarning: Mean of empty slice.\n",
      "  return _methods._mean(a, axis=axis, dtype=dtype,\n",
      "/Users/juliette/opt/anaconda3/envs/py39/lib/python3.9/site-packages/numpy/core/_methods.py:121: RuntimeWarning: invalid value encountered in divide\n",
      "  ret = um.true_divide(\n"
     ]
    },
    {
     "name": "stdout",
     "output_type": "stream",
     "text": [
      "Fold 4 Accuracy: 0.550\n",
      "Average Accuracy for VPpdizc: 0.680\n",
      "Overall Hybrid BCI Accuracy: 0.76 ± 0.04\n"
     ]
    }
   ],
   "source": [
    "import numpy as np\n",
    "import os\n",
    "from sklearn.discriminant_analysis import LinearDiscriminantAnalysis as LDA\n",
    "from mne.time_frequency import psd_array_multitaper\n",
    "import warnings\n",
    "import mne\n",
    "\n",
    "# Suppress warnings\n",
    "mne.set_log_level('warning')\n",
    "\n",
    "# Directory setup\n",
    "file_dir = '/Users/juliette/Desktop/thesis/preprocessing/hybrid_preprocessing'\n",
    "decoding_results_dir = '/Users/juliette/Desktop/thesis/results/alpha+p300'\n",
    "\n",
    "# Parameters\n",
    "min_bin, max_bin = 8, 12  # Alpha range\n",
    "p300_window = (0.3, 0.5)  # P300 time window in seconds, after stimulus\n",
    "baseline_window = (-0.25, 0)  # Baseline window\n",
    "fs = 250  # Sampling rate, adjust if different\n",
    "erp_window = (0, 0.75)  # ERP time window (0 to 0.75 seconds) in seconds\n",
    "baseline_window = (-0.25, 0)  # Baseline period (0.25 s before target)\n",
    "window_size = 2 # Size for the sliding window to extract alpha\n",
    "step_size = 0.5\n",
    "\n",
    "# Initialize results storage\n",
    "results = []\n",
    "\n",
    "# List of subjects\n",
    "subjects = [\"VPpdia\", \"VPpdib\", \"VPpdic\", \"VPpdid\", \"VPpdie\", \"VPpdif\", \"VPpdig\", \"VPpdih\", \"VPpdii\", \"VPpdij\",\n",
    "            \"VPpdik\", \"VPpdil\", \"VPpdim\", \"VPpdin\", \"VPpdio\", \"VPpdip\", \"VPpdiq\", \"VPpdir\", \"VPpdis\", \"VPpdit\",\n",
    "            \"VPpdiu\", \"VPpdiv\", \"VPpdiw\", \"VPpdix\", \"VPpdiy\", \"VPpdiz\", \"VPpdiza\", \"VPpdizb\", \"VPpdizc\"]\n",
    "\n",
    "# Main processing loop\n",
    "for subject in subjects:\n",
    "    print(f\"Processing {subject}...\")\n",
    "\n",
    "    # Load preprocessed data\n",
    "    fn = os.path.join(file_dir, f\"sub-{subject}_task-covert_alpha+p300.npz\")\n",
    "    tmp = np.load(fn)\n",
    "\n",
    "    X = tmp[\"X\"]  # EEG data matrix (trials, channels, samples)\n",
    "    y = tmp[\"y\"]  # Labels (cued side)\n",
    "    z = tmp[\"z\"]  # Target presence (trials, epochs, sides)\n",
    "    V = tmp[\"V\"]  # One code cycle (classes, samples)\n",
    "    fs = tmp[\"fs\"].flatten()[0]\n",
    "       \n",
    "    # Calculates trial length in seconds\n",
    "    trial_length = X.shape[2] / fs\n",
    "    \n",
    "    # Create time vector for P300 analysis\n",
    "    trial_times = np.linspace(0, trial_length, X.shape[2])\n",
    "\n",
    "    # Cross-validation\n",
    "    fold_accuracies = []\n",
    "    n_folds = 4\n",
    "    n_trials = X.shape[0] // n_folds\n",
    "    folds = np.repeat(np.arange(n_folds), n_trials)\n",
    "\n",
    "    for i_fold in range(n_folds):\n",
    "        print(f\"  Fold {i_fold + 1}/{n_folds}\")\n",
    "\n",
    "        # Split train and test data\n",
    "        X_trn, y_trn, z_trn = X[folds != i_fold, :, :], y[folds != i_fold], z[folds != i_fold, :, :]\n",
    "        X_tst, y_tst, z_tst = X[folds == i_fold, :, :], y[folds == i_fold], z[folds == i_fold, :, :]\n",
    "\n",
    "        \n",
    "       # --- Alpha Feature Extraction using Welch's method ---\n",
    "\n",
    "        # Get dataset shapes\n",
    "        num_trials_trn, num_channels_trn, num_samples_trn = X_trn.shape\n",
    "        num_trials_tst, num_channels_tst, num_samples_tst = X_tst.shape\n",
    "\n",
    "        window_samples = int(window_size * fs)\n",
    "        step_samples = int(step_size * fs)\n",
    "\n",
    "        # Compute number of windows per trial\n",
    "        num_windows_trn = (num_samples_trn - window_samples) // step_samples + 1\n",
    "        num_windows_tst = (num_samples_tst - window_samples) // step_samples + 1\n",
    "\n",
    "        # Initialize storage for alpha power\n",
    "        alpha_power_trn = np.zeros((num_trials_trn, num_channels_trn, num_windows_trn))\n",
    "        alpha_power_tst = np.zeros((num_trials_tst, num_channels_tst, num_windows_tst))\n",
    "\n",
    "        # Training data\n",
    "        for trial in range(num_trials_trn):\n",
    "            for i in range(num_windows_trn):\n",
    "                start = i * step_samples\n",
    "                end = start + window_samples\n",
    "                window_data = X_trn[trial, :, start:end]  # (channels, samples)\n",
    "\n",
    "                for ch in range(num_channels_trn):\n",
    "                    freqs, psd = welch(window_data[ch], fs=fs, nperseg=window_samples, scaling='density')\n",
    "                    # Select alpha band and average power\n",
    "                    alpha_mask = (freqs >= min_bin) & (freqs <= max_bin)\n",
    "                    alpha_power_trn[trial, ch, i] = psd[alpha_mask].mean()\n",
    "\n",
    "        alpha_features_trn = alpha_power_trn.mean(axis=2)  # (trials, channels)\n",
    "\n",
    "        # Testing data\n",
    "        for trial in range(num_trials_tst):\n",
    "            for i in range(num_windows_tst):\n",
    "                start = i * step_samples\n",
    "                end = start + window_samples\n",
    "                window_data = X_tst[trial, :, start:end]  # (channels, samples)\n",
    "\n",
    "                for ch in range(num_channels_tst):\n",
    "                    freqs, psd = welch(window_data[ch], fs=fs, nperseg=window_samples, scaling='density')\n",
    "                    # Select alpha band and average power\n",
    "                    alpha_mask = (freqs >= min_bin) & (freqs <= max_bin)\n",
    "                    alpha_power_tst[trial, ch, i] = psd[alpha_mask].mean()\n",
    "\n",
    "        alpha_features_tst = alpha_power_tst.mean(axis=2)  # (trials, channels)\n",
    "\n",
    "\n",
    "        \n",
    "        # --- ERP Feature Extraction (P300) ---\n",
    "        \n",
    "        # Convert time windows to sample indices\n",
    "        erp_samples = (int(erp_window[0] * fs), int(erp_window[1] * fs))\n",
    "        baseline_samples = (int(baseline_window[0] * fs), int(baseline_window[1] * fs))\n",
    "\n",
    "        # Loop over test trials and assign attended and unattended trials based on cued_side\n",
    "        attended_trials = []\n",
    "        unattended_trials = []\n",
    "\n",
    "        for t_idx in range(len(y_tst)):\n",
    "            cued_side = y_tst[t_idx]  # Get cued side (0 or 1)\n",
    "\n",
    "            # Create event vectors & ground truth for cued side\n",
    "            left_targets = z_tst[t_idx][:, 0]  # Left targets\n",
    "            right_targets = z_tst[t_idx][:, 1]  # Right targets\n",
    "\n",
    "            # Attended trials are those where cued_side matches the target\n",
    "            if cued_side == 0:  # If cued side is left\n",
    "                attended_trials.append(left_targets)  # Target is left\n",
    "                unattended_trials.append(right_targets)  # Non-target is right\n",
    "            else:  # If cued side is right\n",
    "                attended_trials.append(right_targets)  # Target is right\n",
    "                unattended_trials.append(left_targets)  # Non-target is left\n",
    "\n",
    "        # Compute ERP by averaging over target-locked epochs\n",
    "        attended_erp = np.mean(X_tst[attended_trials, :, erp_samples[0]:erp_samples[1]], axis=1) # Only the attended trials, all channels, and ERP window\n",
    "        unattended_erp = np.mean(X_tst[unattended_trials, :, erp_samples[0]:erp_samples[1]], axis=1)\n",
    "                \n",
    "        # Baseline correction: subtract mean of baseline period\n",
    "        attended_erp -= np.mean(attended_erp[:, baseline_samples[0]:baseline_samples[1]], axis=1, keepdims=True)\n",
    "        unattended_erp -= np.mean(unattended_erp[:, baseline_samples[0]:baseline_samples[1]], axis=1, keepdims=True)\n",
    "        \n",
    "        # Reshape ERP features to ensure they match the number of trials\n",
    "        # For training set\n",
    "        attended_erp_flat_trn = attended_erp.flatten()\n",
    "        unattended_erp_flat_trn = unattended_erp.flatten()\n",
    "\n",
    "        # For testing set\n",
    "        attended_erp_flat_tst = attended_erp.flatten()\n",
    "        unattended_erp_flat_tst = unattended_erp.flatten()\n",
    "\n",
    "        # Ensure that the feature matrices are consistently sized (trials, features)\n",
    "        attended_features_trn = np.tile(attended_erp_flat_trn, (X_trn.shape[0], 1))\n",
    "        unattended_features_trn = np.tile(unattended_erp_flat_trn, (X_trn.shape[0], 1))\n",
    "\n",
    "        attended_features_tst = np.tile(attended_erp_flat_tst, (X_tst.shape[0], 1))\n",
    "        unattended_features_tst = np.tile(unattended_erp_flat_tst, (X_tst.shape[0], 1))\n",
    "\n",
    "        # Concatenate ERP features (attended, unattended) and alpha features\n",
    "        combined_features_trn = np.column_stack([attended_features_trn, unattended_features_trn, alpha_features_trn])\n",
    "        combined_features_tst = np.column_stack([attended_features_tst, unattended_features_tst, alpha_features_tst])\n",
    "\n",
    "        # Ensure no NaNs are present\n",
    "        combined_features_trn = np.nan_to_num(combined_features_trn, nan=0)\n",
    "        combined_features_tst = np.nan_to_num(combined_features_tst, nan=0)\n",
    "\n",
    "        \n",
    "        # --- Ensemble ---\n",
    "        \n",
    "        # Train LDA\n",
    "        lda = LDA(solver=\"svd\")\n",
    "        lda.fit(combined_features_trn, y_trn)\n",
    "\n",
    "        # Make predictions on the test set\n",
    "        y_pred = lda.predict(combined_features_tst)\n",
    "\n",
    "        # Calculate accuracy\n",
    "        accuracy = np.mean(y_pred == y_tst)\n",
    "        fold_accuracies.append(accuracy)\n",
    "        print(f\"Fold {i_fold + 1} Accuracy: {accuracy:.3f}\")\n",
    "\n",
    "    # Compute subject-level results\n",
    "    accuracy = np.round(np.mean(fold_accuracies), 2)\n",
    "    se = np.round(np.std(fold_accuracies) / np.sqrt(n_folds), 2)\n",
    "    results.append((subject, accuracy, se))\n",
    "    print(f\"Average Accuracy for {subject}: {accuracy:.3f}\")\n",
    "\n",
    "# Save and report results\n",
    "results_array = np.array(\n",
    "    results, dtype=[('subject', 'U10'), ('accuracy', 'f4'), ('standard_error', 'f4')]\n",
    ")\n",
    "\n",
    "overall_accuracy = np.round(results_array['accuracy'].mean(), 2)\n",
    "overall_se = np.round(results_array['standard_error'].mean(), 2)\n",
    "print(f\"Overall Hybrid BCI Accuracy: {overall_accuracy:.2f} ± {overall_se:.2f}\")\n",
    "\n",
    "# Save results\n",
    "if not os.path.exists(decoding_results_dir):\n",
    "    os.makedirs(decoding_results_dir)\n",
    "results_save_path = os.path.join(decoding_results_dir, \"covert_hybrid_alpha_p300_egan_results.npy\")     \n",
    "np.save(results_save_path, results_array)\n"
   ]
  },
  {
   "cell_type": "markdown",
   "id": "3fbc6a93",
   "metadata": {},
   "source": [
    "## Fixing LDA solver efficiency\n",
    "Fixes the epoching"
   ]
  },
  {
   "cell_type": "code",
   "execution_count": 3,
   "id": "e341f673",
   "metadata": {
    "scrolled": false
   },
   "outputs": [],
   "source": [
    "def extract_epochs(X, start_idx=120, end_idx=2520, step_size=30, \n",
    "                   start_sample_offset=-24, end_sample_offset=84, \n",
    "                   amplitude_threshold=40e-6):\n",
    "    \"\"\"\n",
    "    Function to extract epochs from time-series data for ERP features, \n",
    "    baseline-correct each epoch, and identify bad epochs based on amplitude threshold.\n",
    "    \n",
    "    Parameters:\n",
    "    - X: Input data array of shape (n_trials, n_channels, n_samples)\n",
    "    - start_idx: The starting sample index for the first epoch (default=120)\n",
    "    - end_idx: The last sample index where the final epoch starts (default=2520)\n",
    "    - step_size: Step size in samples, corresponding to the sliding window (default=30)\n",
    "    - start_sample_offset: The offset for the start of the time window (default=-24, corresponds to -200 ms)\n",
    "    - end_sample_offset: The offset for the end of the time window (default=84, corresponds to 700 ms)\n",
    "    - amplitude_threshold: Threshold for identifying bad epochs based on amplitude range (default=100)\n",
    "    \n",
    "    Returns:\n",
    "    - output_matrix: A 4D array of extracted and baseline-corrected epochs of shape \n",
    "                     (n_trials, n_epochs, n_channels, window_size)\n",
    "    - bad_epochs_idx: List of indices of bad epochs for each trial and channel \n",
    "                      where amplitude range exceeds the threshold.\n",
    "    \"\"\"\n",
    "    # Check input dimensions\n",
    "    if X.ndim != 3:\n",
    "        raise ValueError(f\"Input X must have 3 dimensions (n_trials, n_channels, n_samples), but got {X.ndim} dimensions.\")\n",
    "    \n",
    "    n_trials, n_channels, n_samples = X.shape\n",
    "    window_size = end_sample_offset + np.abs(start_sample_offset)  # 108 samples\n",
    "    epoch_timestamps = np.arange(start_idx, end_idx, step_size)    # (80,)\n",
    "    n_epochs = len(epoch_timestamps)\n",
    "    \n",
    "    # Initialize the output matrix for the epochs and a list for bad epoch indices\n",
    "    output_matrix = np.zeros((n_trials, n_epochs, n_channels, window_size))\n",
    "    bad_epochs_idx = []  # To store (trial, epoch, channel) indices of bad epochs\n",
    "    \n",
    "    # Loop over trials, channels, and epochs to extract and baseline-correct the windows\n",
    "    for i_trial in range(n_trials):\n",
    "        for i_channel in range(n_channels):\n",
    "            data = X[i_trial, i_channel, :]\n",
    "\n",
    "            for i_epoch, t in enumerate(epoch_timestamps):\n",
    "                epoch_start_idx = t + start_sample_offset  # Start at t - 24 samples (-200 ms)\n",
    "                epoch_end_idx = t + end_sample_offset      # End at t + 84 samples (700 ms)\n",
    "                \n",
    "                # Ensure the window stays within bounds\n",
    "                if epoch_start_idx >= 0 and epoch_end_idx <= n_samples:\n",
    "                    epoch_data = data[epoch_start_idx:epoch_end_idx]\n",
    "                    \n",
    "                    # Baseline correction\n",
    "                    baseline_mean = np.mean(epoch_data[:25])\n",
    "                    epoch_data = epoch_data - baseline_mean\n",
    "                    \n",
    "                    # Store the epoch in the output matrix\n",
    "                    output_matrix[i_trial, i_epoch, i_channel, :] = epoch_data\n",
    "                    \n",
    "                    # Check amplitude range after baseline subtraction\n",
    "                    min_amp, max_amp = np.min(epoch_data), np.max(epoch_data)\n",
    "                    amplitude_range = max_amp - min_amp\n",
    "                    \n",
    "                    # Log bad epochs if amplitude range exceeds threshold\n",
    "                    if amplitude_range > amplitude_threshold:\n",
    "                        bad_epochs_idx.append((i_trial, i_epoch, i_channel))\n",
    "    \n",
    "    # Return the 4D output matrix and the indices of bad epochs\n",
    "    return output_matrix, bad_epochs_idx\n",
    "\n",
    "def mark_bad_epochs(X, z, bad_idx):\n",
    "    \"\"\"\n",
    "    Marks bad epochs in both EEG data (X) and labels (z) by setting them to NaN (or another sentinel, ie -1).\n",
    "\n",
    "    Parameters\n",
    "    ----------\n",
    "    X : ndarray\n",
    "        4D array of shape (n_trials, n_epochs, n_channels, n_timepoints).\n",
    "    z : ndarray\n",
    "        3D array of shape (n_trials, n_epochs, label_dim).\n",
    "    bad_idx : list of tuples\n",
    "        List of (trial, epoch, channel) indices indicating bad epochs.\n",
    "\n",
    "    Returns\n",
    "    -------\n",
    "    X_marked : ndarray\n",
    "        Same shape as X, with bad epochs set to NaN (or a chosen sentinel).\n",
    "    z_marked : ndarray\n",
    "        Same shape as z, with bad epochs set to NaN (or a chosen sentinel).\n",
    "    \"\"\"\n",
    "    # Convert list of (trial, epoch, channel) to a set of (trial, epoch) pairs\n",
    "    bad_trial_epoch_pairs = set((trial, epoch) for trial, epoch, _ in bad_idx)\n",
    "\n",
    "    # Make copies so we don't overwrite the original arrays\n",
    "    X_marked = np.copy(X)\n",
    "    z_marked = np.copy(z).astype(np.float64)\n",
    "\n",
    "    # Mark each bad epoch in both X and z\n",
    "    for trial_idx, epoch_idx in bad_trial_epoch_pairs:\n",
    "        X_marked[trial_idx, epoch_idx, :, :] = np.nan \n",
    "        z_marked[trial_idx, epoch_idx, :]    = np.nan \n",
    "\n",
    "    return X_marked, z_marked\n",
    "\n",
    "def balance_classes(X, y, ratio_0_to_1=1.0):\n",
    "    \n",
    "    \"\"\"\n",
    "    Sub-select X and y based on a specified ratio of 0s to 1s, keeping the original order.\n",
    "\n",
    "    Parameters:\n",
    "    X (numpy.ndarray): Feature matrix of shape (n_samples, n_features).\n",
    "    y (numpy.ndarray): Label vector of shape (n_samples,).\n",
    "    ratio_0_to_1 (float): The desired ratio of 0s to 1s in the balanced dataset.\n",
    "\n",
    "    Returns:\n",
    "    X_balanced, y_balanced: Sub-selected feature matrix and label vector.\n",
    "    \"\"\"\n",
    "    # Step 1: Identify indices of 0s and 1s\n",
    "    indices_0 = np.where(y == 0)[0]\n",
    "    indices_1 = np.where(y == 1)[0]\n",
    "    \n",
    "    # Step 2: Calculate the number of samples to select for each class\n",
    "    num_1s = len(indices_1)\n",
    "    num_0s = min(len(indices_0), int(num_1s * ratio_0_to_1))\n",
    "    \n",
    "    # Step 3: Randomly sample the desired number of 0s and 1s\n",
    "    selected_indices_0 = np.random.choice(indices_0, num_0s, replace=False)\n",
    "    selected_indices_1 = np.random.choice(indices_1, num_1s, replace=False)\n",
    "    \n",
    "    # Step 4: Combine selected indices and sort to preserve original order\n",
    "    balanced_indices = np.sort(np.concatenate([selected_indices_0, selected_indices_1]))\n",
    "    \n",
    "    # Step 5: Sub-select X and y based on the balanced indices\n",
    "    X_balanced = X[balanced_indices]\n",
    "    y_balanced = y[balanced_indices]\n",
    "    \n",
    "    return X_balanced, y_balanced\n",
    "\n",
    "def filter_valid_epochs(X, y, z=None, return_mask=False):\n",
    "    \"\"\"\n",
    "    Filters out epochs where either the features in X or the labels in y contain NaN values.\n",
    "    Optionally, if a z array is provided, it is filtered similarly.\n",
    "    \n",
    "    Parameters:\n",
    "        X (np.ndarray): A 2D numpy array with shape (n_epochs, n_features).\n",
    "        y (np.ndarray): A 1D numpy array with shape (n_epochs,).\n",
    "        z (np.ndarray, optional): An array that will be filtered using the same mask.\n",
    "        return_mask (bool, optional): If True, the boolean mask used for filtering is returned.\n",
    "    \n",
    "    Returns:\n",
    "        filtered_X (np.ndarray): X with only rows that have no NaN values.\n",
    "        filtered_y (np.ndarray): y with only entries corresponding to valid epochs.\n",
    "        filtered_z (np.ndarray or None): Filtered z array (if provided) or None.\n",
    "        mask (np.ndarray, optional): The boolean mask of valid epochs; only returned if return_mask=True.\n",
    "    \"\"\"\n",
    "    # Create a mask for valid labels and features\n",
    "    valid_label_mask = ~np.isnan(y)\n",
    "    valid_feature_mask = ~np.isnan(X).any(axis=1)\n",
    "    combined_mask = valid_label_mask & valid_feature_mask\n",
    "\n",
    "    # Apply the mask to X and y\n",
    "    filtered_X = X[combined_mask]\n",
    "    filtered_y = y[combined_mask]\n",
    "    \n",
    "    if z is not None:\n",
    "        filtered_z = z[combined_mask]\n",
    "    else:\n",
    "        filtered_z = None\n",
    "\n",
    "    if return_mask:\n",
    "        return filtered_X, filtered_y, filtered_z, combined_mask\n",
    "    else:\n",
    "        return filtered_X, filtered_y, filtered_z\n",
    "    \n",
    "def extract_features_from_X(X_matrix, ToI = None):\n",
    "    \"\"\"\n",
    "    Extracts the maximum amplitudes from specified time ranges for each trial, epoch, and channel in the input data.\n",
    "\n",
    "    Parameters:\n",
    "    - X_matrix: A 4D numpy array of shape (n_trials, n_epochs, n_channels, n_samples) representing the input data.\n",
    "    - ToI: A list of tuples, where each tuple contains the start and end indices of a time range of interest.\n",
    "\n",
    "    Returns:\n",
    "    - feature_matrix: A 4D numpy array of shape (n_trials, n_epochs, n_channels, len(ToI)) containing the maximum\n",
    "                      values from the specified time ranges for each trial, epoch, and channel.\n",
    "    \"\"\"\n",
    "    # Extract the shape of the input matrix\n",
    "    n_trials, n_epochs, n_channels, n_samples = X_matrix.shape \n",
    "    \n",
    "    # Initialize the feature matrix to store maximum values for each time range\n",
    "    feature_matrix = np.zeros((n_trials, n_epochs, n_channels, len(ToI)))\n",
    "\n",
    "    # Loop over the time ranges (ToI) and extract the max value for each range\n",
    "    for i_range, (start, end) in enumerate(ToI):\n",
    "        # For each time range, find the maximum values along the last axis (time samples) in the specified range\n",
    "        feature_matrix[ :, :, :, i_range] = np.mean((X_matrix[ :, :, :, start:end]), axis=-1)\n",
    "\n",
    "    # Return the feature matrix\n",
    "    return feature_matrix\n",
    "\n",
    "# Function to apply baseline correction\n",
    "def apply_baseline_correction(epochs, baseline_start_sample, baseline_end_sample):\n",
    "    baseline = np.mean(epochs[:, :, baseline_start_sample:baseline_end_sample], axis=2, keepdims=True)\n",
    "    return epochs - baseline  # Subtract baseline from all samples in the epoch"
   ]
  },
  {
   "cell_type": "markdown",
   "id": "754d0cb6",
   "metadata": {},
   "source": []
  },
  {
   "cell_type": "code",
   "execution_count": 12,
   "id": "eed004bd",
   "metadata": {
    "scrolled": true
   },
   "outputs": [
    {
     "name": "stdout",
     "output_type": "stream",
     "text": [
      "Processing VPpdia...\n",
      "X: (80, 62, 2400)\n",
      "  Fold 1/4\n",
      "Shape of alpha_features_trn: (60, 62)\n",
      "Shape of alpha_features_tst: (20, 62)\n",
      "Shape of epochs_trn: (60, 80, 62, 108)\n",
      "Shape of epochs_tst: (20, 80, 62, 108)\n",
      "Shape of X_clean_trn: (60, 80, 62, 108)\n",
      "Shape of X_clean_tst: (20, 80, 62, 108)\n",
      "Shape of features_trn: (60, 80, 62, 6)\n",
      "Shape of features_tst: (20, 80, 62, 6)\n"
     ]
    },
    {
     "ename": "ValueError",
     "evalue": "operands could not be broadcast together with shapes (60,) (4800,) ",
     "output_type": "error",
     "traceback": [
      "\u001b[0;31m---------------------------------------------------------------------------\u001b[0m",
      "\u001b[0;31mValueError\u001b[0m                                Traceback (most recent call last)",
      "Cell \u001b[0;32mIn[12], line 161\u001b[0m\n\u001b[1;32m    158\u001b[0m X_tst_epochs \u001b[38;5;241m=\u001b[39m features_tst\u001b[38;5;241m.\u001b[39mreshape(\u001b[38;5;241m-\u001b[39m\u001b[38;5;241m1\u001b[39m, features_tst\u001b[38;5;241m.\u001b[39mshape[\u001b[38;5;241m2\u001b[39m] \u001b[38;5;241m*\u001b[39m features_tst\u001b[38;5;241m.\u001b[39mshape[\u001b[38;5;241m3\u001b[39m])\n\u001b[1;32m    160\u001b[0m \u001b[38;5;66;03m# Now filter the epochs with NaN values and bad epochs\u001b[39;00m\n\u001b[0;32m--> 161\u001b[0m X_filtered_trn, y_filtered_trn, z_filtered_trn, combined_mask_trn \u001b[38;5;241m=\u001b[39m \u001b[43mfilter_valid_epochs\u001b[49m\u001b[43m(\u001b[49m\u001b[43mX_trn_epochs\u001b[49m\u001b[43m,\u001b[49m\u001b[43m \u001b[49m\u001b[43my_trn\u001b[49m\u001b[43m,\u001b[49m\u001b[43m \u001b[49m\u001b[43mz_clean_trn\u001b[49m\u001b[43m)\u001b[49m\n\u001b[1;32m    162\u001b[0m X_filtered_tst, y_filtered_tst, z_filtered_tst, combined_mask_tst \u001b[38;5;241m=\u001b[39m filter_valid_epochs(X_tst_epochs, y_tst, z_clean_tst)\n\u001b[1;32m    164\u001b[0m \u001b[38;5;66;03m# Extract labels for training epochs using z and y \u001b[39;00m\n",
      "Cell \u001b[0;32mIn[2], line 155\u001b[0m, in \u001b[0;36mfilter_valid_epochs\u001b[0;34m(X, y, z, return_mask)\u001b[0m\n\u001b[1;32m    153\u001b[0m valid_label_mask \u001b[38;5;241m=\u001b[39m \u001b[38;5;241m~\u001b[39mnp\u001b[38;5;241m.\u001b[39misnan(y)\n\u001b[1;32m    154\u001b[0m valid_feature_mask \u001b[38;5;241m=\u001b[39m \u001b[38;5;241m~\u001b[39mnp\u001b[38;5;241m.\u001b[39misnan(X)\u001b[38;5;241m.\u001b[39many(axis\u001b[38;5;241m=\u001b[39m\u001b[38;5;241m1\u001b[39m)\n\u001b[0;32m--> 155\u001b[0m combined_mask \u001b[38;5;241m=\u001b[39m \u001b[43mvalid_label_mask\u001b[49m\u001b[43m \u001b[49m\u001b[38;5;241;43m&\u001b[39;49m\u001b[43m \u001b[49m\u001b[43mvalid_feature_mask\u001b[49m\n\u001b[1;32m    157\u001b[0m \u001b[38;5;66;03m# Apply the mask to X and y\u001b[39;00m\n\u001b[1;32m    158\u001b[0m filtered_X \u001b[38;5;241m=\u001b[39m X[combined_mask]\n",
      "\u001b[0;31mValueError\u001b[0m: operands could not be broadcast together with shapes (60,) (4800,) "
     ]
    }
   ],
   "source": [
    "import numpy as np\n",
    "import os\n",
    "from sklearn.discriminant_analysis import LinearDiscriminantAnalysis as LDA\n",
    "from mne.time_frequency import psd_array_multitaper\n",
    "import warnings\n",
    "from mne.time_frequency import psd_array_welch\n",
    "\n",
    "import mne\n",
    "\n",
    "# Suppress warnings\n",
    "mne.set_log_level('warning')\n",
    "\n",
    "# Directory setup\n",
    "file_dir = '/Users/juliette/Desktop/thesis/preprocessing/hybrid_preprocessing'\n",
    "decoding_results_dir = '/Users/juliette/Desktop/thesis/results/alpha+p300'\n",
    "\n",
    "\n",
    "# Parameters\n",
    "min_bin, max_bin = 8, 13  # Alpha range\n",
    "p300_window = (0.3, 0.5)  # P300 time window in seconds, after stimulus\n",
    "baseline_window = (-0.5, 0)\n",
    "erp_window = (0, 0.75)  # ERP time window\n",
    "window_size = 2  # Alpha window size in seconds\n",
    "step_size = 0.5\n",
    "rejection_threshold = 60e-6\n",
    "\n",
    "\n",
    "\n",
    "# Initialize results storage\n",
    "results = []\n",
    "\n",
    "# List of subjects\n",
    "subjects = [\"VPpdia\", \"VPpdib\", \"VPpdic\", \"VPpdid\", \"VPpdie\", \"VPpdif\", \"VPpdig\", \"VPpdih\", \"VPpdii\", \"VPpdij\",\n",
    "            \"VPpdik\", \"VPpdil\", \"VPpdim\", \"VPpdin\", \"VPpdio\", \"VPpdip\", \"VPpdiq\", \"VPpdir\", \"VPpdis\", \"VPpdit\",\n",
    "            \"VPpdiu\", \"VPpdiv\", \"VPpdiw\", \"VPpdix\", \"VPpdiy\", \"VPpdiz\", \"VPpdiza\", \"VPpdizb\", \"VPpdizc\"]\n",
    "\n",
    "# Main processing loop\n",
    "for subject in subjects:\n",
    "    print(f\"Processing {subject}...\")\n",
    "\n",
    "    fn = os.path.join(file_dir, f\"sub-{subject}_task-covert_c-VEP+P300_ICA.npz\")\n",
    "    tmp = np.load(fn)\n",
    "\n",
    "    X = tmp[\"X\"]\n",
    "    print(\"X:\", X.shape)\n",
    "    y = tmp[\"y\"]\n",
    "    z = tmp[\"z\"]\n",
    "    V = tmp[\"V\"]\n",
    "    fs = tmp[\"fs\"].flatten()[0]\n",
    "\n",
    "    trial_length = X.shape[2] / fs\n",
    "    trial_times = np.linspace(0, trial_length, X.shape[2])\n",
    "\n",
    "    fold_accuracies = []\n",
    "    n_folds = 4\n",
    "    n_trials = X.shape[0] // n_folds\n",
    "    folds = np.repeat(np.arange(n_folds), n_trials)\n",
    "    lda = LDA()\n",
    "\n",
    "    for i_fold in range(n_folds):\n",
    "        print(f\"  Fold {i_fold + 1}/{n_folds}\")\n",
    "\n",
    "        # Split into train and test set\n",
    "        X_trn, y_trn, z_trn = X[folds != i_fold], y[folds != i_fold], z[folds != i_fold]\n",
    "        X_tst, y_tst, z_tst = X[folds == i_fold], y[folds == i_fold], z[folds == i_fold]\n",
    "\n",
    "        \n",
    "        # --- Alpha Feature Extraction ---\n",
    "        \n",
    "        # Get dataset shapes\n",
    "        num_trials_trn, num_channels_trn, num_samples_trn = X_trn.shape\n",
    "        num_trials_tst, num_channels_tst, num_samples_tst = X_tst.shape\n",
    "\n",
    "        # Define the window steps for the samples\n",
    "        window_samples = int(window_size * fs) # How many samples there are in a 2 second sliding window\n",
    "        step_samples = int(step_size * fs) # # Moves the window forward by 0.5 seconds\n",
    "\n",
    "        # Compute number of windows per trial\n",
    "        num_windows_trn = (num_samples_trn - window_samples) // step_samples + 1\n",
    "        num_windows_tst = (num_samples_tst - window_samples) // step_samples + 1\n",
    "\n",
    "        # Initialize storage for alpha band-pass power\n",
    "        alpha_power_trn = np.zeros((num_trials_trn, num_channels_trn, num_windows_trn))\n",
    "        alpha_power_tst = np.zeros((num_trials_tst, num_channels_tst, num_windows_tst))\n",
    "\n",
    "        # Process training data\n",
    "        # Loop over all trials\n",
    "        for trial in range(num_trials_trn):\n",
    "            for i in range(num_windows_trn):\n",
    "                # Start and end of the current window to extract this window\n",
    "                start = i * step_samples\n",
    "                end = start + window_samples\n",
    "                window_data = X_trn[trial, :, start:end]  # For this trial, all channels and selected time window. Shape: (channels, window_samples)\n",
    "                \n",
    "                # Compute PSD using multitaper method for every window\n",
    "                psd, freqs = psd_array_welch(window_data, sfreq=fs, fmin=min_bin, fmax=max_bin, n_fft=window_samples, n_overlap=0, average='mean')\n",
    "\n",
    "                # Average power in alpha band over the frequency range, store it with current trial, all channels and this window\n",
    "                alpha_power_trn[trial, :, i] = psd.mean(axis=1)  # (channels,)\n",
    "\n",
    "        # Average across windows for final feature extraction: final alpha power feature per trial and channel\n",
    "        alpha_features_trn = alpha_power_trn.mean(axis=2)  # Shape (trials, channels)\n",
    "\n",
    "        # Process testing data\n",
    "        for trial in range(num_trials_tst):\n",
    "            for i in range(num_windows_tst):\n",
    "                \n",
    "                # Start and end of the current window to extract this window\n",
    "                start = i * step_samples\n",
    "                end = start + window_samples\n",
    "                window_data = X_tst[trial, :, start:end]  # (channels, window_samples)\n",
    "\n",
    "                # Compute PSD using multitaper method for every window\n",
    "                psd, freqs = psd_array_welch(window_data, sfreq=fs, fmin=min_bin, fmax=max_bin, n_fft=window_samples, n_overlap=0, average='mean')\n",
    "\n",
    "                # Average power in alpha band over the frequency range, store it with current trial, all channels and this window\n",
    "                alpha_power_tst[trial, :, i] = psd.mean(axis=1)  # (channels,)\n",
    "\n",
    "        # Average across windows for final feature extraction --> final alpha power feature per trial and channel.\n",
    "        alpha_features_tst = alpha_power_tst.mean(axis=2)  # Shape: (trials, channels)\n",
    "        \n",
    "        print(\"Shape of alpha_features_trn:\", alpha_features_trn.shape)\n",
    "        print(\"Shape of alpha_features_tst:\", alpha_features_tst.shape)\n",
    "\n",
    "\n",
    "        # --- P300 ---\n",
    "        \n",
    "        # - Obtaining target-locked epochs - \n",
    "        # Extract epochs\n",
    "        epochs_trn, bad_epochs_trn = extract_epochs(X_trn, amplitude_threshold=rejection_threshold)\n",
    "        epochs_tst, bad_epochs_tst = extract_epochs(X_tst, amplitude_threshold=rejection_threshold)\n",
    "        print(\"Shape of epochs_trn:\", epochs_trn.shape)\n",
    "        print(\"Shape of epochs_tst:\", epochs_tst.shape)\n",
    "\n",
    "        # Mark bad epochs in both EEG data and labels\n",
    "        X_clean_trn, z_clean_trn = mark_bad_epochs(epochs_trn, z_trn, bad_epochs_trn)\n",
    "        X_clean_tst, z_clean_tst = mark_bad_epochs(epochs_tst, z_tst, bad_epochs_tst)\n",
    "        print(\"Shape of X_clean_trn:\", X_clean_trn.shape)\n",
    "        print(\"Shape of X_clean_tst:\", X_clean_tst.shape)\n",
    "        \n",
    "        # Extract features from valid epochs. Shape: (trials, epochs, channels, samples)\n",
    "        ToI = [(30, 38), (38, 48), (48, 57), (57, 69), (69, 87), (87, 108)]\n",
    "        features_trn = extract_features_from_X(X_clean_trn, ToI)\n",
    "        features_tst = extract_features_from_X(X_clean_tst, ToI)\n",
    "        print(\"Shape of features_trn:\", features_trn.shape)\n",
    "        print(\"Shape of features_tst:\", features_tst.shape)\n",
    "        \n",
    "        # - Decoding -\n",
    "\n",
    "        # Separate attended and unattended trials for training and testing sets\n",
    "        attended_trials_trn = []\n",
    "        unattended_trials_trn = []\n",
    "        attended_trials_tst = []\n",
    "        unattended_trials_tst = []\n",
    "        \n",
    "        # Flatten training trials into epochs: shape becomes [n_trials * epochs, channel * features]       \n",
    "        X_trn_epochs = features_trn.reshape(-1, features_trn.shape[2] * features_trn.shape[3])\n",
    "        X_tst_epochs = features_tst.reshape(-1, features_tst.shape[2] * features_tst.shape[3])\n",
    "\n",
    "        # Now filter the epochs with NaN values and bad epochs\n",
    "        X_filtered_trn, y_filtered_trn, z_filtered_trn, combined_mask_trn = filter_valid_epochs(X_trn_epochs, y_trn, z_clean_trn)\n",
    "        X_filtered_tst, y_filtered_tst, z_filtered_tst, combined_mask_tst = filter_valid_epochs(X_tst_epochs, y_tst, z_clean_tst)\n",
    "\n",
    "        # Extract labels for training epochs using z and y \n",
    "        trial_indices_trn = np.arange(len(y_trn))  # indices for trials\n",
    "        y_trn_epochs = z_trn[trial_indices_trn, :, y_trn].reshape(-1) # Shape becomes \n",
    "        \n",
    "        print(\"Shape of y_trn_epochs:\", y_trn_epochs.shape)\n",
    "\n",
    "        # Testing trials\n",
    "        for t_idx in range(len(y_tst)):\n",
    "            cued_side = y_tst[t_idx]  # Get cued side (0 or 1)\n",
    "\n",
    "            # Create event vectors & ground truth for cued side\n",
    "            left_targets = z_tst[t_idx][:, 0]  # Left targets\n",
    "            right_targets = z_tst[t_idx][:, 1]  # Right targets\n",
    "\n",
    "            # Attended trials are those where cued_side matches the target\n",
    "            if cued_side == 0:  # If cued side is left\n",
    "                attended_trials_tst.append(left_targets)  # Target is left\n",
    "                unattended_trials_tst.append(right_targets)  # Non-target is right\n",
    "            else:  # If cued side is right\n",
    "                attended_trials_tst.append(right_targets)  # Target is right\n",
    "                unattended_trials_tst.append(left_targets)  # Non-target is left\n",
    "\n",
    "        # Average target-locked epochs for attended and unattended targets (training set)\n",
    "        avg_attended_epochs_trn = np.mean(attended_trials_trn, axis=0)\n",
    "        avg_unattended_epochs_trn = np.mean(unattended_trials_trn, axis=0)\n",
    "\n",
    "        # Average target-locked epochs for attended and unattended targets (test set)\n",
    "        avg_attended_epochs_tst = np.mean(attended_trials_tst, axis=0)\n",
    "        avg_unattended_epochs_tst = np.mean(unattended_trials_tst, axis=0)\n",
    "\n",
    "#         # Apply baseline correction to the averaged epochs (after averaging trials)\n",
    "#         baseline_samples = (int(baseline_window[0] * fs), int(baseline_window[1] * fs))\n",
    "\n",
    "#         # Ensure avg_attended_epochs_trn is 2D before applying baseline correction\n",
    "#         if avg_attended_epochs_trn.ndim == 1:\n",
    "#             avg_attended_epochs_trn = avg_attended_epochs_trn.reshape(1, -1)  # Reshape to 2D if it's 1D\n",
    "\n",
    "#         if avg_unattended_epochs_trn.ndim == 1:\n",
    "#             avg_unattended_epochs_trn = avg_unattended_epochs_trn.reshape(1, -1)  # Reshape to 2D if it's 1D\n",
    "\n",
    "#         # Apply baseline correction\n",
    "#         avg_attended_epochs_trn -= np.mean(avg_attended_epochs_trn[:, baseline_samples[0]:baseline_samples[1]], axis=1, keepdims=True)\n",
    "#         avg_unattended_epochs_trn -= np.mean(avg_unattended_epochs_trn[:, baseline_samples[0]:baseline_samples[1]], axis=1, keepdims=True)\n",
    "\n",
    "#         # Apply the same to the test set\n",
    "#         if avg_attended_epochs_tst.ndim == 1:\n",
    "#             avg_attended_epochs_tst = avg_attended_epochs_tst.reshape(1, -1)  # Reshape to 2D if it's 1D\n",
    "\n",
    "#         if avg_unattended_epochs_tst.ndim == 1:\n",
    "#             avg_unattended_epochs_tst = avg_unattended_epochs_tst.reshape(1, -1)  # Reshape to 2D if it's 1D\n",
    "\n",
    "#         # Apply baseline correction\n",
    "#         avg_attended_epochs_tst -= np.mean(avg_attended_epochs_tst[:, baseline_samples[0]:baseline_samples[1]], axis=1, keepdims=True)\n",
    "#         avg_unattended_epochs_tst -= np.mean(avg_unattended_epochs_tst[:, baseline_samples[0]:baseline_samples[1]], axis=1, keepdims=True)\n",
    "\n",
    "\n",
    "        # --- Combine Decoding ---\n",
    "        # Concatenate alpha and P300 features for training and testing\n",
    "        print(\"avg_attended_epochs_trn.shape\", avg_attended_epochs_trn.shape)\n",
    "        print(\"avg_unattended_epochs_trn.shape\", avg_unattended_epochs_trn.shape)\n",
    "        print(\"alpha_features_trn.shape\", alpha_features_trn.shape)\n",
    "        features_trn = features_trn.reshape(features_trn.shape[0], -1)\n",
    "        features_tst = features_tst.reshape(features_tst.shape[0], -1)\n",
    "\n",
    "        # Flatten the ERP features if they are 3D (trials, channels, features)\n",
    "        if features_trn.ndim == 3:\n",
    "            features_trn = features_trn.reshape(features_trn.shape[0], -1)\n",
    "            features_tst = features_tst.reshape(features_tst.shape[0], -1)\n",
    "\n",
    "        # Combine alpha and ERP features\n",
    "        X_train_combined = np.concatenate((alpha_features_trn, features_trn), axis=1)\n",
    "        X_test_combined = np.concatenate((alpha_features_tst, features_tst), axis=1)\n",
    "\n",
    "        # Use the cued side labels as target labels (0 = left, 1 = right)\n",
    "\n",
    "        # Remove trials with NaN values in alpha or P300 features\n",
    "        # Ensure no NaNs are present\n",
    "        combined_features_trn = np.nan_to_num(X_train_combined, nan=0)\n",
    "        combined_features_tst = np.nan_to_num(X_test_combined, nan=0)\n",
    "        \n",
    "        # --- Train LDA classifier ---\n",
    "        lda.fit(combined_features_trn, y_trn)\n",
    "\n",
    "        # --- Testing ---\n",
    "        y_pred = lda.predict(combined_features_tst)\n",
    "        \n",
    "        # Compute accuracy for this fold\n",
    "        accuracy = np.mean(y_pred == y_tst)\n",
    "        fold_accuracies.append(accuracy)\n",
    "        print(f\"    Fold accuracy: {accuracy:.2f}\")\n",
    "        \n",
    "    # Save subject-level results\n",
    "    acc = np.round(np.mean(fold_accuracies), 2)\n",
    "    se = np.round(np.std(fold_accuracies) / np.sqrt(n_folds), 2)\n",
    "    results.append((subject, acc, se))\n",
    "    print(f\"{subject}: Accuracy = {acc:.2f}, SE = {se:.2f}\")\n",
    "\n",
    "# Save all results\n",
    "results = np.array(results, dtype=object)\n",
    "os.makedirs(decoding_results_dir, exist_ok=True)\n",
    "np.save(os.path.join(decoding_results_dir, \"hybrid_accuracy.npy\"), results)\n",
    "print(\"All done!\")\n"
   ]
  },
  {
   "cell_type": "markdown",
   "id": "cb024b9a",
   "metadata": {},
   "source": [
    "# Steps from Egan's paper\n",
    "\n",
    "1. Preprocessing\n",
    "The paper also proposes preprocessing steps, however I follow the preprocessing steps that we already did.\n",
    "\n",
    "2. Epoching\n",
    "Create trial-length epochs for alpha, these span the entire trial (20 seconds), they start 0.5 seconds before the trial until 0.5 seconds after the trial. For the P300 aalysis, create target-locked epochs, starting 0.25 seconds before the target and ending 1 second after the target.\n",
    "\n",
    "3. Frequency Analysis for Alpha Band\n",
    "Perform frequency analysis using a 2-second rectangular sliding window across each trial-length epoch in steps of 0.5 seconds.\n",
    "\n",
    "For each window, apply a Fast Fourier Transform (FFT) to the data from each electrode.\n",
    "\n",
    "Extract the average amplitude between 8–13 Hz (alpha band) for each step. Average the features within a selected set of electrodes to obtain the  alpha values that will be used for classification.\n",
    "\n",
    "4. ERP Feature Extraction for P300\n",
    "Separate target-locked epochs for attended and unattended stimuli. Average the target-locked epochs across occurrences of attended and unattended targets. Baseline correct the ERP by subtracting the average of the 0.5 seconds preceding the appearance of the target from the remaining data (0–0.75 s).\n",
    "\n",
    "5. Feature Fusion\n",
    "Combine the frequency domain features from the alpha-band analysis with the ERP features from the P300 analysis.\n",
    "\n",
    "Ensure that the features are concatenated in a way that is suitable for classification, typically forming a combined feature vector for each trial.\n",
    "\n",
    "6. Classification\n",
    "Train an LDA classifier using the hybrid feature set (alpha-band + P300 ERP features), possibly with ledoit wolf regularization.\n",
    "\n",
    "Use cross-validation to evaluate classification performance and avoid overfitting.\n",
    "\n",
    "7. Evaluation\n",
    "Evaluate the classification performance using appropriate metrics such as accuracy, precision, recall, F1 score, or ROC curves."
   ]
  },
  {
   "cell_type": "code",
   "execution_count": 9,
   "id": "be35a3d2",
   "metadata": {
    "scrolled": true
   },
   "outputs": [
    {
     "name": "stdout",
     "output_type": "stream",
     "text": [
      "Processing VPpdik...\n",
      "  Fold 1/4\n",
      "Shape of epochs_trn: (60, 80, 63, 108)\n",
      "Shape of epochs_tst: (20, 80, 63, 108)\n",
      "Shape of X_clean_trn: (60, 80, 63, 108)\n",
      "Shape of X_clean_tst: (20, 80, 63, 108)\n",
      "Shape of features_trn: (60, 80, 63, 6)\n",
      "Shape of features_tst: (20, 80, 63, 6)\n",
      "Shape of X_trn_epochs (this is fed into LDA): (4800, 378)\n",
      "Shape of y_trn_epochs (this is fed into LDA): (4800,)\n",
      "Shape of combined_features_trn: (60, 65)\n",
      "Shape of combined_features_tst: (20, 65)\n",
      "Fold 1 Accuracy: 0.500\n",
      "  Fold 2/4\n",
      "Shape of epochs_trn: (60, 80, 63, 108)\n",
      "Shape of epochs_tst: (20, 80, 63, 108)\n",
      "Shape of X_clean_trn: (60, 80, 63, 108)\n",
      "Shape of X_clean_tst: (20, 80, 63, 108)\n",
      "Shape of features_trn: (60, 80, 63, 6)\n",
      "Shape of features_tst: (20, 80, 63, 6)\n",
      "Shape of X_trn_epochs (this is fed into LDA): (4800, 378)\n",
      "Shape of y_trn_epochs (this is fed into LDA): (4800,)\n",
      "Shape of combined_features_trn: (60, 65)\n",
      "Shape of combined_features_tst: (20, 65)\n",
      "Fold 2 Accuracy: 0.650\n",
      "  Fold 3/4\n",
      "Shape of epochs_trn: (60, 80, 63, 108)\n",
      "Shape of epochs_tst: (20, 80, 63, 108)\n",
      "Shape of X_clean_trn: (60, 80, 63, 108)\n",
      "Shape of X_clean_tst: (20, 80, 63, 108)\n",
      "Shape of features_trn: (60, 80, 63, 6)\n",
      "Shape of features_tst: (20, 80, 63, 6)\n",
      "Shape of X_trn_epochs (this is fed into LDA): (4800, 378)\n",
      "Shape of y_trn_epochs (this is fed into LDA): (4800,)\n",
      "Shape of combined_features_trn: (60, 65)\n",
      "Shape of combined_features_tst: (20, 65)\n",
      "Fold 3 Accuracy: 0.500\n",
      "  Fold 4/4\n",
      "Shape of epochs_trn: (60, 80, 63, 108)\n",
      "Shape of epochs_tst: (20, 80, 63, 108)\n",
      "Shape of X_clean_trn: (60, 80, 63, 108)\n",
      "Shape of X_clean_tst: (20, 80, 63, 108)\n",
      "Shape of features_trn: (60, 80, 63, 6)\n",
      "Shape of features_tst: (20, 80, 63, 6)\n",
      "Shape of X_trn_epochs (this is fed into LDA): (4800, 378)\n",
      "Shape of y_trn_epochs (this is fed into LDA): (4800,)\n",
      "Shape of combined_features_trn: (60, 65)\n",
      "Shape of combined_features_tst: (20, 65)\n",
      "Fold 4 Accuracy: 0.550\n",
      "Average Accuracy for VPpdik: 0.550\n",
      "Processing VPpdil...\n",
      "  Fold 1/4\n",
      "Shape of epochs_trn: (60, 80, 63, 108)\n",
      "Shape of epochs_tst: (20, 80, 63, 108)\n",
      "Shape of X_clean_trn: (60, 80, 63, 108)\n",
      "Shape of X_clean_tst: (20, 80, 63, 108)\n",
      "Shape of features_trn: (60, 80, 63, 6)\n",
      "Shape of features_tst: (20, 80, 63, 6)\n",
      "Shape of X_trn_epochs (this is fed into LDA): (4800, 378)\n",
      "Shape of y_trn_epochs (this is fed into LDA): (4800,)\n",
      "Shape of combined_features_trn: (60, 65)\n",
      "Shape of combined_features_tst: (20, 65)\n",
      "Fold 1 Accuracy: 0.850\n",
      "  Fold 2/4\n",
      "Shape of epochs_trn: (60, 80, 63, 108)\n",
      "Shape of epochs_tst: (20, 80, 63, 108)\n",
      "Shape of X_clean_trn: (60, 80, 63, 108)\n",
      "Shape of X_clean_tst: (20, 80, 63, 108)\n",
      "Shape of features_trn: (60, 80, 63, 6)\n",
      "Shape of features_tst: (20, 80, 63, 6)\n",
      "Shape of X_trn_epochs (this is fed into LDA): (4800, 378)\n",
      "Shape of y_trn_epochs (this is fed into LDA): (4800,)\n",
      "Shape of combined_features_trn: (60, 65)\n",
      "Shape of combined_features_tst: (20, 65)\n",
      "Fold 2 Accuracy: 0.500\n",
      "  Fold 3/4\n",
      "Shape of epochs_trn: (60, 80, 63, 108)\n",
      "Shape of epochs_tst: (20, 80, 63, 108)\n",
      "Shape of X_clean_trn: (60, 80, 63, 108)\n",
      "Shape of X_clean_tst: (20, 80, 63, 108)\n",
      "Shape of features_trn: (60, 80, 63, 6)\n",
      "Shape of features_tst: (20, 80, 63, 6)\n",
      "Shape of X_trn_epochs (this is fed into LDA): (4800, 378)\n",
      "Shape of y_trn_epochs (this is fed into LDA): (4800,)\n",
      "Shape of combined_features_trn: (60, 65)\n",
      "Shape of combined_features_tst: (20, 65)\n",
      "Fold 3 Accuracy: 1.000\n",
      "  Fold 4/4\n",
      "Shape of epochs_trn: (60, 80, 63, 108)\n",
      "Shape of epochs_tst: (20, 80, 63, 108)\n",
      "Shape of X_clean_trn: (60, 80, 63, 108)\n",
      "Shape of X_clean_tst: (20, 80, 63, 108)\n",
      "Shape of features_trn: (60, 80, 63, 6)\n",
      "Shape of features_tst: (20, 80, 63, 6)\n",
      "Shape of X_trn_epochs (this is fed into LDA): (4800, 378)\n",
      "Shape of y_trn_epochs (this is fed into LDA): (4800,)\n",
      "Shape of combined_features_trn: (60, 65)\n",
      "Shape of combined_features_tst: (20, 65)\n",
      "Fold 4 Accuracy: 1.000\n",
      "Average Accuracy for VPpdil: 0.840\n",
      "Processing VPpdim...\n",
      "  Fold 1/4\n",
      "Shape of epochs_trn: (60, 80, 64, 108)\n",
      "Shape of epochs_tst: (20, 80, 64, 108)\n",
      "Shape of X_clean_trn: (60, 80, 64, 108)\n",
      "Shape of X_clean_tst: (20, 80, 64, 108)\n",
      "Shape of features_trn: (60, 80, 64, 6)\n",
      "Shape of features_tst: (20, 80, 64, 6)\n",
      "Shape of X_trn_epochs (this is fed into LDA): (4800, 384)\n",
      "Shape of y_trn_epochs (this is fed into LDA): (4800,)\n",
      "Shape of combined_features_trn: (60, 66)\n",
      "Shape of combined_features_tst: (20, 66)\n",
      "Fold 1 Accuracy: 0.700\n",
      "  Fold 2/4\n",
      "Shape of epochs_trn: (60, 80, 64, 108)\n",
      "Shape of epochs_tst: (20, 80, 64, 108)\n",
      "Shape of X_clean_trn: (60, 80, 64, 108)\n",
      "Shape of X_clean_tst: (20, 80, 64, 108)\n",
      "Shape of features_trn: (60, 80, 64, 6)\n",
      "Shape of features_tst: (20, 80, 64, 6)\n",
      "Shape of X_trn_epochs (this is fed into LDA): (4800, 384)\n",
      "Shape of y_trn_epochs (this is fed into LDA): (4800,)\n"
     ]
    },
    {
     "name": "stderr",
     "output_type": "stream",
     "text": [
      "/var/folders/qx/1c8hj9_92533cb1kgn4q_yt80000gn/T/ipykernel_23207/2882666468.py:172: ConstantInputWarning: An input array is constant; the correlation coefficient is not defined.\n",
      "  corr_left, _ = pearsonr(epoch_scores, left_targets)\n",
      "/var/folders/qx/1c8hj9_92533cb1kgn4q_yt80000gn/T/ipykernel_23207/2882666468.py:173: ConstantInputWarning: An input array is constant; the correlation coefficient is not defined.\n",
      "  corr_right, _ = pearsonr(epoch_scores, right_targets)\n",
      "/var/folders/qx/1c8hj9_92533cb1kgn4q_yt80000gn/T/ipykernel_23207/2882666468.py:172: ConstantInputWarning: An input array is constant; the correlation coefficient is not defined.\n",
      "  corr_left, _ = pearsonr(epoch_scores, left_targets)\n",
      "/var/folders/qx/1c8hj9_92533cb1kgn4q_yt80000gn/T/ipykernel_23207/2882666468.py:173: ConstantInputWarning: An input array is constant; the correlation coefficient is not defined.\n",
      "  corr_right, _ = pearsonr(epoch_scores, right_targets)\n",
      "/var/folders/qx/1c8hj9_92533cb1kgn4q_yt80000gn/T/ipykernel_23207/2882666468.py:172: ConstantInputWarning: An input array is constant; the correlation coefficient is not defined.\n",
      "  corr_left, _ = pearsonr(epoch_scores, left_targets)\n",
      "/var/folders/qx/1c8hj9_92533cb1kgn4q_yt80000gn/T/ipykernel_23207/2882666468.py:173: ConstantInputWarning: An input array is constant; the correlation coefficient is not defined.\n",
      "  corr_right, _ = pearsonr(epoch_scores, right_targets)\n",
      "/var/folders/qx/1c8hj9_92533cb1kgn4q_yt80000gn/T/ipykernel_23207/2882666468.py:172: ConstantInputWarning: An input array is constant; the correlation coefficient is not defined.\n",
      "  corr_left, _ = pearsonr(epoch_scores, left_targets)\n",
      "/var/folders/qx/1c8hj9_92533cb1kgn4q_yt80000gn/T/ipykernel_23207/2882666468.py:173: ConstantInputWarning: An input array is constant; the correlation coefficient is not defined.\n",
      "  corr_right, _ = pearsonr(epoch_scores, right_targets)\n",
      "/var/folders/qx/1c8hj9_92533cb1kgn4q_yt80000gn/T/ipykernel_23207/2882666468.py:172: ConstantInputWarning: An input array is constant; the correlation coefficient is not defined.\n",
      "  corr_left, _ = pearsonr(epoch_scores, left_targets)\n",
      "/var/folders/qx/1c8hj9_92533cb1kgn4q_yt80000gn/T/ipykernel_23207/2882666468.py:173: ConstantInputWarning: An input array is constant; the correlation coefficient is not defined.\n",
      "  corr_right, _ = pearsonr(epoch_scores, right_targets)\n",
      "/var/folders/qx/1c8hj9_92533cb1kgn4q_yt80000gn/T/ipykernel_23207/2882666468.py:172: ConstantInputWarning: An input array is constant; the correlation coefficient is not defined.\n",
      "  corr_left, _ = pearsonr(epoch_scores, left_targets)\n",
      "/var/folders/qx/1c8hj9_92533cb1kgn4q_yt80000gn/T/ipykernel_23207/2882666468.py:173: ConstantInputWarning: An input array is constant; the correlation coefficient is not defined.\n",
      "  corr_right, _ = pearsonr(epoch_scores, right_targets)\n",
      "/var/folders/qx/1c8hj9_92533cb1kgn4q_yt80000gn/T/ipykernel_23207/2882666468.py:172: ConstantInputWarning: An input array is constant; the correlation coefficient is not defined.\n",
      "  corr_left, _ = pearsonr(epoch_scores, left_targets)\n",
      "/var/folders/qx/1c8hj9_92533cb1kgn4q_yt80000gn/T/ipykernel_23207/2882666468.py:173: ConstantInputWarning: An input array is constant; the correlation coefficient is not defined.\n",
      "  corr_right, _ = pearsonr(epoch_scores, right_targets)\n",
      "/var/folders/qx/1c8hj9_92533cb1kgn4q_yt80000gn/T/ipykernel_23207/2882666468.py:172: ConstantInputWarning: An input array is constant; the correlation coefficient is not defined.\n",
      "  corr_left, _ = pearsonr(epoch_scores, left_targets)\n",
      "/var/folders/qx/1c8hj9_92533cb1kgn4q_yt80000gn/T/ipykernel_23207/2882666468.py:173: ConstantInputWarning: An input array is constant; the correlation coefficient is not defined.\n",
      "  corr_right, _ = pearsonr(epoch_scores, right_targets)\n"
     ]
    },
    {
     "name": "stdout",
     "output_type": "stream",
     "text": [
      "Shape of combined_features_trn: (60, 66)\n",
      "Shape of combined_features_tst: (20, 66)\n",
      "Fold 2 Accuracy: 0.500\n",
      "  Fold 3/4\n",
      "Shape of epochs_trn: (60, 80, 64, 108)\n",
      "Shape of epochs_tst: (20, 80, 64, 108)\n",
      "Shape of X_clean_trn: (60, 80, 64, 108)\n",
      "Shape of X_clean_tst: (20, 80, 64, 108)\n",
      "Shape of features_trn: (60, 80, 64, 6)\n",
      "Shape of features_tst: (20, 80, 64, 6)\n",
      "Shape of X_trn_epochs (this is fed into LDA): (4800, 384)\n",
      "Shape of y_trn_epochs (this is fed into LDA): (4800,)\n"
     ]
    },
    {
     "name": "stderr",
     "output_type": "stream",
     "text": [
      "/var/folders/qx/1c8hj9_92533cb1kgn4q_yt80000gn/T/ipykernel_23207/2882666468.py:172: ConstantInputWarning: An input array is constant; the correlation coefficient is not defined.\n",
      "  corr_left, _ = pearsonr(epoch_scores, left_targets)\n",
      "/var/folders/qx/1c8hj9_92533cb1kgn4q_yt80000gn/T/ipykernel_23207/2882666468.py:173: ConstantInputWarning: An input array is constant; the correlation coefficient is not defined.\n",
      "  corr_right, _ = pearsonr(epoch_scores, right_targets)\n",
      "/var/folders/qx/1c8hj9_92533cb1kgn4q_yt80000gn/T/ipykernel_23207/2882666468.py:172: ConstantInputWarning: An input array is constant; the correlation coefficient is not defined.\n",
      "  corr_left, _ = pearsonr(epoch_scores, left_targets)\n",
      "/var/folders/qx/1c8hj9_92533cb1kgn4q_yt80000gn/T/ipykernel_23207/2882666468.py:173: ConstantInputWarning: An input array is constant; the correlation coefficient is not defined.\n",
      "  corr_right, _ = pearsonr(epoch_scores, right_targets)\n",
      "/var/folders/qx/1c8hj9_92533cb1kgn4q_yt80000gn/T/ipykernel_23207/2882666468.py:172: ConstantInputWarning: An input array is constant; the correlation coefficient is not defined.\n",
      "  corr_left, _ = pearsonr(epoch_scores, left_targets)\n",
      "/var/folders/qx/1c8hj9_92533cb1kgn4q_yt80000gn/T/ipykernel_23207/2882666468.py:173: ConstantInputWarning: An input array is constant; the correlation coefficient is not defined.\n",
      "  corr_right, _ = pearsonr(epoch_scores, right_targets)\n",
      "/var/folders/qx/1c8hj9_92533cb1kgn4q_yt80000gn/T/ipykernel_23207/2882666468.py:172: ConstantInputWarning: An input array is constant; the correlation coefficient is not defined.\n",
      "  corr_left, _ = pearsonr(epoch_scores, left_targets)\n",
      "/var/folders/qx/1c8hj9_92533cb1kgn4q_yt80000gn/T/ipykernel_23207/2882666468.py:173: ConstantInputWarning: An input array is constant; the correlation coefficient is not defined.\n",
      "  corr_right, _ = pearsonr(epoch_scores, right_targets)\n",
      "/var/folders/qx/1c8hj9_92533cb1kgn4q_yt80000gn/T/ipykernel_23207/2882666468.py:172: ConstantInputWarning: An input array is constant; the correlation coefficient is not defined.\n",
      "  corr_left, _ = pearsonr(epoch_scores, left_targets)\n",
      "/var/folders/qx/1c8hj9_92533cb1kgn4q_yt80000gn/T/ipykernel_23207/2882666468.py:173: ConstantInputWarning: An input array is constant; the correlation coefficient is not defined.\n",
      "  corr_right, _ = pearsonr(epoch_scores, right_targets)\n"
     ]
    },
    {
     "name": "stdout",
     "output_type": "stream",
     "text": [
      "Shape of combined_features_trn: (60, 66)\n",
      "Shape of combined_features_tst: (20, 66)\n",
      "Fold 3 Accuracy: 0.950\n",
      "  Fold 4/4\n",
      "Shape of epochs_trn: (60, 80, 64, 108)\n",
      "Shape of epochs_tst: (20, 80, 64, 108)\n",
      "Shape of X_clean_trn: (60, 80, 64, 108)\n",
      "Shape of X_clean_tst: (20, 80, 64, 108)\n",
      "Shape of features_trn: (60, 80, 64, 6)\n",
      "Shape of features_tst: (20, 80, 64, 6)\n",
      "Shape of X_trn_epochs (this is fed into LDA): (4800, 384)\n",
      "Shape of y_trn_epochs (this is fed into LDA): (4800,)\n"
     ]
    },
    {
     "name": "stderr",
     "output_type": "stream",
     "text": [
      "/var/folders/qx/1c8hj9_92533cb1kgn4q_yt80000gn/T/ipykernel_23207/2882666468.py:172: ConstantInputWarning: An input array is constant; the correlation coefficient is not defined.\n",
      "  corr_left, _ = pearsonr(epoch_scores, left_targets)\n",
      "/var/folders/qx/1c8hj9_92533cb1kgn4q_yt80000gn/T/ipykernel_23207/2882666468.py:173: ConstantInputWarning: An input array is constant; the correlation coefficient is not defined.\n",
      "  corr_right, _ = pearsonr(epoch_scores, right_targets)\n",
      "/var/folders/qx/1c8hj9_92533cb1kgn4q_yt80000gn/T/ipykernel_23207/2882666468.py:172: ConstantInputWarning: An input array is constant; the correlation coefficient is not defined.\n",
      "  corr_left, _ = pearsonr(epoch_scores, left_targets)\n",
      "/var/folders/qx/1c8hj9_92533cb1kgn4q_yt80000gn/T/ipykernel_23207/2882666468.py:173: ConstantInputWarning: An input array is constant; the correlation coefficient is not defined.\n",
      "  corr_right, _ = pearsonr(epoch_scores, right_targets)\n",
      "/var/folders/qx/1c8hj9_92533cb1kgn4q_yt80000gn/T/ipykernel_23207/2882666468.py:172: ConstantInputWarning: An input array is constant; the correlation coefficient is not defined.\n",
      "  corr_left, _ = pearsonr(epoch_scores, left_targets)\n",
      "/var/folders/qx/1c8hj9_92533cb1kgn4q_yt80000gn/T/ipykernel_23207/2882666468.py:173: ConstantInputWarning: An input array is constant; the correlation coefficient is not defined.\n",
      "  corr_right, _ = pearsonr(epoch_scores, right_targets)\n",
      "/var/folders/qx/1c8hj9_92533cb1kgn4q_yt80000gn/T/ipykernel_23207/2882666468.py:172: ConstantInputWarning: An input array is constant; the correlation coefficient is not defined.\n",
      "  corr_left, _ = pearsonr(epoch_scores, left_targets)\n",
      "/var/folders/qx/1c8hj9_92533cb1kgn4q_yt80000gn/T/ipykernel_23207/2882666468.py:173: ConstantInputWarning: An input array is constant; the correlation coefficient is not defined.\n",
      "  corr_right, _ = pearsonr(epoch_scores, right_targets)\n",
      "/var/folders/qx/1c8hj9_92533cb1kgn4q_yt80000gn/T/ipykernel_23207/2882666468.py:172: ConstantInputWarning: An input array is constant; the correlation coefficient is not defined.\n",
      "  corr_left, _ = pearsonr(epoch_scores, left_targets)\n",
      "/var/folders/qx/1c8hj9_92533cb1kgn4q_yt80000gn/T/ipykernel_23207/2882666468.py:173: ConstantInputWarning: An input array is constant; the correlation coefficient is not defined.\n",
      "  corr_right, _ = pearsonr(epoch_scores, right_targets)\n"
     ]
    },
    {
     "name": "stdout",
     "output_type": "stream",
     "text": [
      "Shape of combined_features_trn: (60, 66)\n",
      "Shape of combined_features_tst: (20, 66)\n",
      "Fold 4 Accuracy: 0.500\n",
      "Average Accuracy for VPpdim: 0.660\n",
      "Processing VPpdin...\n",
      "  Fold 1/4\n",
      "Shape of epochs_trn: (60, 80, 62, 108)\n",
      "Shape of epochs_tst: (20, 80, 62, 108)\n",
      "Shape of X_clean_trn: (60, 80, 62, 108)\n",
      "Shape of X_clean_tst: (20, 80, 62, 108)\n",
      "Shape of features_trn: (60, 80, 62, 6)\n",
      "Shape of features_tst: (20, 80, 62, 6)\n",
      "Shape of X_trn_epochs (this is fed into LDA): (4800, 372)\n",
      "Shape of y_trn_epochs (this is fed into LDA): (4800,)\n",
      "Shape of combined_features_trn: (60, 64)\n",
      "Shape of combined_features_tst: (20, 64)\n",
      "Fold 1 Accuracy: 0.500\n",
      "  Fold 2/4\n",
      "Shape of epochs_trn: (60, 80, 62, 108)\n",
      "Shape of epochs_tst: (20, 80, 62, 108)\n",
      "Shape of X_clean_trn: (60, 80, 62, 108)\n",
      "Shape of X_clean_tst: (20, 80, 62, 108)\n",
      "Shape of features_trn: (60, 80, 62, 6)\n",
      "Shape of features_tst: (20, 80, 62, 6)\n",
      "Shape of X_trn_epochs (this is fed into LDA): (4800, 372)\n",
      "Shape of y_trn_epochs (this is fed into LDA): (4800,)\n",
      "Shape of combined_features_trn: (60, 64)\n",
      "Shape of combined_features_tst: (20, 64)\n",
      "Fold 2 Accuracy: 0.500\n",
      "  Fold 3/4\n",
      "Shape of epochs_trn: (60, 80, 62, 108)\n",
      "Shape of epochs_tst: (20, 80, 62, 108)\n",
      "Shape of X_clean_trn: (60, 80, 62, 108)\n",
      "Shape of X_clean_tst: (20, 80, 62, 108)\n",
      "Shape of features_trn: (60, 80, 62, 6)\n",
      "Shape of features_tst: (20, 80, 62, 6)\n",
      "Shape of X_trn_epochs (this is fed into LDA): (4800, 372)\n",
      "Shape of y_trn_epochs (this is fed into LDA): (4800,)\n",
      "Shape of combined_features_trn: (60, 64)\n",
      "Shape of combined_features_tst: (20, 64)\n",
      "Fold 3 Accuracy: 0.700\n",
      "  Fold 4/4\n",
      "Shape of epochs_trn: (60, 80, 62, 108)\n",
      "Shape of epochs_tst: (20, 80, 62, 108)\n",
      "Shape of X_clean_trn: (60, 80, 62, 108)\n",
      "Shape of X_clean_tst: (20, 80, 62, 108)\n",
      "Shape of features_trn: (60, 80, 62, 6)\n",
      "Shape of features_tst: (20, 80, 62, 6)\n",
      "Shape of X_trn_epochs (this is fed into LDA): (4800, 372)\n",
      "Shape of y_trn_epochs (this is fed into LDA): (4800,)\n",
      "Shape of combined_features_trn: (60, 64)\n",
      "Shape of combined_features_tst: (20, 64)\n",
      "Fold 4 Accuracy: 0.500\n",
      "Average Accuracy for VPpdin: 0.550\n",
      "Processing VPpdio...\n",
      "  Fold 1/4\n",
      "Shape of epochs_trn: (60, 80, 64, 108)\n",
      "Shape of epochs_tst: (20, 80, 64, 108)\n",
      "Shape of X_clean_trn: (60, 80, 64, 108)\n",
      "Shape of X_clean_tst: (20, 80, 64, 108)\n",
      "Shape of features_trn: (60, 80, 64, 6)\n",
      "Shape of features_tst: (20, 80, 64, 6)\n",
      "Shape of X_trn_epochs (this is fed into LDA): (4800, 384)\n",
      "Shape of y_trn_epochs (this is fed into LDA): (4800,)\n"
     ]
    },
    {
     "name": "stderr",
     "output_type": "stream",
     "text": [
      "/var/folders/qx/1c8hj9_92533cb1kgn4q_yt80000gn/T/ipykernel_23207/2882666468.py:172: ConstantInputWarning: An input array is constant; the correlation coefficient is not defined.\n",
      "  corr_left, _ = pearsonr(epoch_scores, left_targets)\n",
      "/var/folders/qx/1c8hj9_92533cb1kgn4q_yt80000gn/T/ipykernel_23207/2882666468.py:173: ConstantInputWarning: An input array is constant; the correlation coefficient is not defined.\n",
      "  corr_right, _ = pearsonr(epoch_scores, right_targets)\n",
      "/var/folders/qx/1c8hj9_92533cb1kgn4q_yt80000gn/T/ipykernel_23207/2882666468.py:172: ConstantInputWarning: An input array is constant; the correlation coefficient is not defined.\n",
      "  corr_left, _ = pearsonr(epoch_scores, left_targets)\n",
      "/var/folders/qx/1c8hj9_92533cb1kgn4q_yt80000gn/T/ipykernel_23207/2882666468.py:173: ConstantInputWarning: An input array is constant; the correlation coefficient is not defined.\n",
      "  corr_right, _ = pearsonr(epoch_scores, right_targets)\n",
      "/var/folders/qx/1c8hj9_92533cb1kgn4q_yt80000gn/T/ipykernel_23207/2882666468.py:172: ConstantInputWarning: An input array is constant; the correlation coefficient is not defined.\n",
      "  corr_left, _ = pearsonr(epoch_scores, left_targets)\n",
      "/var/folders/qx/1c8hj9_92533cb1kgn4q_yt80000gn/T/ipykernel_23207/2882666468.py:173: ConstantInputWarning: An input array is constant; the correlation coefficient is not defined.\n",
      "  corr_right, _ = pearsonr(epoch_scores, right_targets)\n",
      "/var/folders/qx/1c8hj9_92533cb1kgn4q_yt80000gn/T/ipykernel_23207/2882666468.py:172: ConstantInputWarning: An input array is constant; the correlation coefficient is not defined.\n",
      "  corr_left, _ = pearsonr(epoch_scores, left_targets)\n",
      "/var/folders/qx/1c8hj9_92533cb1kgn4q_yt80000gn/T/ipykernel_23207/2882666468.py:173: ConstantInputWarning: An input array is constant; the correlation coefficient is not defined.\n",
      "  corr_right, _ = pearsonr(epoch_scores, right_targets)\n",
      "/var/folders/qx/1c8hj9_92533cb1kgn4q_yt80000gn/T/ipykernel_23207/2882666468.py:172: ConstantInputWarning: An input array is constant; the correlation coefficient is not defined.\n",
      "  corr_left, _ = pearsonr(epoch_scores, left_targets)\n",
      "/var/folders/qx/1c8hj9_92533cb1kgn4q_yt80000gn/T/ipykernel_23207/2882666468.py:173: ConstantInputWarning: An input array is constant; the correlation coefficient is not defined.\n",
      "  corr_right, _ = pearsonr(epoch_scores, right_targets)\n",
      "/var/folders/qx/1c8hj9_92533cb1kgn4q_yt80000gn/T/ipykernel_23207/2882666468.py:172: ConstantInputWarning: An input array is constant; the correlation coefficient is not defined.\n",
      "  corr_left, _ = pearsonr(epoch_scores, left_targets)\n",
      "/var/folders/qx/1c8hj9_92533cb1kgn4q_yt80000gn/T/ipykernel_23207/2882666468.py:173: ConstantInputWarning: An input array is constant; the correlation coefficient is not defined.\n",
      "  corr_right, _ = pearsonr(epoch_scores, right_targets)\n",
      "/var/folders/qx/1c8hj9_92533cb1kgn4q_yt80000gn/T/ipykernel_23207/2882666468.py:172: ConstantInputWarning: An input array is constant; the correlation coefficient is not defined.\n",
      "  corr_left, _ = pearsonr(epoch_scores, left_targets)\n",
      "/var/folders/qx/1c8hj9_92533cb1kgn4q_yt80000gn/T/ipykernel_23207/2882666468.py:173: ConstantInputWarning: An input array is constant; the correlation coefficient is not defined.\n",
      "  corr_right, _ = pearsonr(epoch_scores, right_targets)\n",
      "/var/folders/qx/1c8hj9_92533cb1kgn4q_yt80000gn/T/ipykernel_23207/2882666468.py:172: ConstantInputWarning: An input array is constant; the correlation coefficient is not defined.\n",
      "  corr_left, _ = pearsonr(epoch_scores, left_targets)\n",
      "/var/folders/qx/1c8hj9_92533cb1kgn4q_yt80000gn/T/ipykernel_23207/2882666468.py:173: ConstantInputWarning: An input array is constant; the correlation coefficient is not defined.\n",
      "  corr_right, _ = pearsonr(epoch_scores, right_targets)\n",
      "/var/folders/qx/1c8hj9_92533cb1kgn4q_yt80000gn/T/ipykernel_23207/2882666468.py:172: ConstantInputWarning: An input array is constant; the correlation coefficient is not defined.\n",
      "  corr_left, _ = pearsonr(epoch_scores, left_targets)\n",
      "/var/folders/qx/1c8hj9_92533cb1kgn4q_yt80000gn/T/ipykernel_23207/2882666468.py:173: ConstantInputWarning: An input array is constant; the correlation coefficient is not defined.\n",
      "  corr_right, _ = pearsonr(epoch_scores, right_targets)\n",
      "/var/folders/qx/1c8hj9_92533cb1kgn4q_yt80000gn/T/ipykernel_23207/2882666468.py:172: ConstantInputWarning: An input array is constant; the correlation coefficient is not defined.\n",
      "  corr_left, _ = pearsonr(epoch_scores, left_targets)\n",
      "/var/folders/qx/1c8hj9_92533cb1kgn4q_yt80000gn/T/ipykernel_23207/2882666468.py:173: ConstantInputWarning: An input array is constant; the correlation coefficient is not defined.\n",
      "  corr_right, _ = pearsonr(epoch_scores, right_targets)\n",
      "/var/folders/qx/1c8hj9_92533cb1kgn4q_yt80000gn/T/ipykernel_23207/2882666468.py:172: ConstantInputWarning: An input array is constant; the correlation coefficient is not defined.\n",
      "  corr_left, _ = pearsonr(epoch_scores, left_targets)\n",
      "/var/folders/qx/1c8hj9_92533cb1kgn4q_yt80000gn/T/ipykernel_23207/2882666468.py:173: ConstantInputWarning: An input array is constant; the correlation coefficient is not defined.\n",
      "  corr_right, _ = pearsonr(epoch_scores, right_targets)\n",
      "/var/folders/qx/1c8hj9_92533cb1kgn4q_yt80000gn/T/ipykernel_23207/2882666468.py:172: ConstantInputWarning: An input array is constant; the correlation coefficient is not defined.\n",
      "  corr_left, _ = pearsonr(epoch_scores, left_targets)\n",
      "/var/folders/qx/1c8hj9_92533cb1kgn4q_yt80000gn/T/ipykernel_23207/2882666468.py:173: ConstantInputWarning: An input array is constant; the correlation coefficient is not defined.\n",
      "  corr_right, _ = pearsonr(epoch_scores, right_targets)\n",
      "/var/folders/qx/1c8hj9_92533cb1kgn4q_yt80000gn/T/ipykernel_23207/2882666468.py:172: ConstantInputWarning: An input array is constant; the correlation coefficient is not defined.\n",
      "  corr_left, _ = pearsonr(epoch_scores, left_targets)\n",
      "/var/folders/qx/1c8hj9_92533cb1kgn4q_yt80000gn/T/ipykernel_23207/2882666468.py:173: ConstantInputWarning: An input array is constant; the correlation coefficient is not defined.\n",
      "  corr_right, _ = pearsonr(epoch_scores, right_targets)\n",
      "/var/folders/qx/1c8hj9_92533cb1kgn4q_yt80000gn/T/ipykernel_23207/2882666468.py:172: ConstantInputWarning: An input array is constant; the correlation coefficient is not defined.\n",
      "  corr_left, _ = pearsonr(epoch_scores, left_targets)\n",
      "/var/folders/qx/1c8hj9_92533cb1kgn4q_yt80000gn/T/ipykernel_23207/2882666468.py:173: ConstantInputWarning: An input array is constant; the correlation coefficient is not defined.\n",
      "  corr_right, _ = pearsonr(epoch_scores, right_targets)\n",
      "/var/folders/qx/1c8hj9_92533cb1kgn4q_yt80000gn/T/ipykernel_23207/2882666468.py:172: ConstantInputWarning: An input array is constant; the correlation coefficient is not defined.\n",
      "  corr_left, _ = pearsonr(epoch_scores, left_targets)\n",
      "/var/folders/qx/1c8hj9_92533cb1kgn4q_yt80000gn/T/ipykernel_23207/2882666468.py:173: ConstantInputWarning: An input array is constant; the correlation coefficient is not defined.\n",
      "  corr_right, _ = pearsonr(epoch_scores, right_targets)\n",
      "/var/folders/qx/1c8hj9_92533cb1kgn4q_yt80000gn/T/ipykernel_23207/2882666468.py:172: ConstantInputWarning: An input array is constant; the correlation coefficient is not defined.\n",
      "  corr_left, _ = pearsonr(epoch_scores, left_targets)\n",
      "/var/folders/qx/1c8hj9_92533cb1kgn4q_yt80000gn/T/ipykernel_23207/2882666468.py:173: ConstantInputWarning: An input array is constant; the correlation coefficient is not defined.\n",
      "  corr_right, _ = pearsonr(epoch_scores, right_targets)\n",
      "/var/folders/qx/1c8hj9_92533cb1kgn4q_yt80000gn/T/ipykernel_23207/2882666468.py:172: ConstantInputWarning: An input array is constant; the correlation coefficient is not defined.\n",
      "  corr_left, _ = pearsonr(epoch_scores, left_targets)\n",
      "/var/folders/qx/1c8hj9_92533cb1kgn4q_yt80000gn/T/ipykernel_23207/2882666468.py:173: ConstantInputWarning: An input array is constant; the correlation coefficient is not defined.\n",
      "  corr_right, _ = pearsonr(epoch_scores, right_targets)\n",
      "/var/folders/qx/1c8hj9_92533cb1kgn4q_yt80000gn/T/ipykernel_23207/2882666468.py:172: ConstantInputWarning: An input array is constant; the correlation coefficient is not defined.\n",
      "  corr_left, _ = pearsonr(epoch_scores, left_targets)\n",
      "/var/folders/qx/1c8hj9_92533cb1kgn4q_yt80000gn/T/ipykernel_23207/2882666468.py:173: ConstantInputWarning: An input array is constant; the correlation coefficient is not defined.\n",
      "  corr_right, _ = pearsonr(epoch_scores, right_targets)\n",
      "/var/folders/qx/1c8hj9_92533cb1kgn4q_yt80000gn/T/ipykernel_23207/2882666468.py:172: ConstantInputWarning: An input array is constant; the correlation coefficient is not defined.\n",
      "  corr_left, _ = pearsonr(epoch_scores, left_targets)\n",
      "/var/folders/qx/1c8hj9_92533cb1kgn4q_yt80000gn/T/ipykernel_23207/2882666468.py:173: ConstantInputWarning: An input array is constant; the correlation coefficient is not defined.\n",
      "  corr_right, _ = pearsonr(epoch_scores, right_targets)\n"
     ]
    },
    {
     "name": "stdout",
     "output_type": "stream",
     "text": [
      "Shape of combined_features_trn: (60, 66)\n",
      "Shape of combined_features_tst: (20, 66)\n",
      "Fold 1 Accuracy: 0.950\n",
      "  Fold 2/4\n",
      "Shape of epochs_trn: (60, 80, 64, 108)\n",
      "Shape of epochs_tst: (20, 80, 64, 108)\n",
      "Shape of X_clean_trn: (60, 80, 64, 108)\n",
      "Shape of X_clean_tst: (20, 80, 64, 108)\n",
      "Shape of features_trn: (60, 80, 64, 6)\n",
      "Shape of features_tst: (20, 80, 64, 6)\n",
      "Shape of X_trn_epochs (this is fed into LDA): (4800, 384)\n",
      "Shape of y_trn_epochs (this is fed into LDA): (4800,)\n"
     ]
    },
    {
     "name": "stderr",
     "output_type": "stream",
     "text": [
      "/var/folders/qx/1c8hj9_92533cb1kgn4q_yt80000gn/T/ipykernel_23207/2882666468.py:172: ConstantInputWarning: An input array is constant; the correlation coefficient is not defined.\n",
      "  corr_left, _ = pearsonr(epoch_scores, left_targets)\n",
      "/var/folders/qx/1c8hj9_92533cb1kgn4q_yt80000gn/T/ipykernel_23207/2882666468.py:173: ConstantInputWarning: An input array is constant; the correlation coefficient is not defined.\n",
      "  corr_right, _ = pearsonr(epoch_scores, right_targets)\n",
      "/var/folders/qx/1c8hj9_92533cb1kgn4q_yt80000gn/T/ipykernel_23207/2882666468.py:172: ConstantInputWarning: An input array is constant; the correlation coefficient is not defined.\n",
      "  corr_left, _ = pearsonr(epoch_scores, left_targets)\n",
      "/var/folders/qx/1c8hj9_92533cb1kgn4q_yt80000gn/T/ipykernel_23207/2882666468.py:173: ConstantInputWarning: An input array is constant; the correlation coefficient is not defined.\n",
      "  corr_right, _ = pearsonr(epoch_scores, right_targets)\n",
      "/var/folders/qx/1c8hj9_92533cb1kgn4q_yt80000gn/T/ipykernel_23207/2882666468.py:172: ConstantInputWarning: An input array is constant; the correlation coefficient is not defined.\n",
      "  corr_left, _ = pearsonr(epoch_scores, left_targets)\n",
      "/var/folders/qx/1c8hj9_92533cb1kgn4q_yt80000gn/T/ipykernel_23207/2882666468.py:173: ConstantInputWarning: An input array is constant; the correlation coefficient is not defined.\n",
      "  corr_right, _ = pearsonr(epoch_scores, right_targets)\n",
      "/var/folders/qx/1c8hj9_92533cb1kgn4q_yt80000gn/T/ipykernel_23207/2882666468.py:172: ConstantInputWarning: An input array is constant; the correlation coefficient is not defined.\n",
      "  corr_left, _ = pearsonr(epoch_scores, left_targets)\n",
      "/var/folders/qx/1c8hj9_92533cb1kgn4q_yt80000gn/T/ipykernel_23207/2882666468.py:173: ConstantInputWarning: An input array is constant; the correlation coefficient is not defined.\n",
      "  corr_right, _ = pearsonr(epoch_scores, right_targets)\n",
      "/var/folders/qx/1c8hj9_92533cb1kgn4q_yt80000gn/T/ipykernel_23207/2882666468.py:172: ConstantInputWarning: An input array is constant; the correlation coefficient is not defined.\n",
      "  corr_left, _ = pearsonr(epoch_scores, left_targets)\n",
      "/var/folders/qx/1c8hj9_92533cb1kgn4q_yt80000gn/T/ipykernel_23207/2882666468.py:173: ConstantInputWarning: An input array is constant; the correlation coefficient is not defined.\n",
      "  corr_right, _ = pearsonr(epoch_scores, right_targets)\n",
      "/var/folders/qx/1c8hj9_92533cb1kgn4q_yt80000gn/T/ipykernel_23207/2882666468.py:172: ConstantInputWarning: An input array is constant; the correlation coefficient is not defined.\n",
      "  corr_left, _ = pearsonr(epoch_scores, left_targets)\n",
      "/var/folders/qx/1c8hj9_92533cb1kgn4q_yt80000gn/T/ipykernel_23207/2882666468.py:173: ConstantInputWarning: An input array is constant; the correlation coefficient is not defined.\n",
      "  corr_right, _ = pearsonr(epoch_scores, right_targets)\n",
      "/var/folders/qx/1c8hj9_92533cb1kgn4q_yt80000gn/T/ipykernel_23207/2882666468.py:172: ConstantInputWarning: An input array is constant; the correlation coefficient is not defined.\n",
      "  corr_left, _ = pearsonr(epoch_scores, left_targets)\n",
      "/var/folders/qx/1c8hj9_92533cb1kgn4q_yt80000gn/T/ipykernel_23207/2882666468.py:173: ConstantInputWarning: An input array is constant; the correlation coefficient is not defined.\n",
      "  corr_right, _ = pearsonr(epoch_scores, right_targets)\n",
      "/var/folders/qx/1c8hj9_92533cb1kgn4q_yt80000gn/T/ipykernel_23207/2882666468.py:172: ConstantInputWarning: An input array is constant; the correlation coefficient is not defined.\n",
      "  corr_left, _ = pearsonr(epoch_scores, left_targets)\n",
      "/var/folders/qx/1c8hj9_92533cb1kgn4q_yt80000gn/T/ipykernel_23207/2882666468.py:173: ConstantInputWarning: An input array is constant; the correlation coefficient is not defined.\n",
      "  corr_right, _ = pearsonr(epoch_scores, right_targets)\n",
      "/var/folders/qx/1c8hj9_92533cb1kgn4q_yt80000gn/T/ipykernel_23207/2882666468.py:172: ConstantInputWarning: An input array is constant; the correlation coefficient is not defined.\n",
      "  corr_left, _ = pearsonr(epoch_scores, left_targets)\n",
      "/var/folders/qx/1c8hj9_92533cb1kgn4q_yt80000gn/T/ipykernel_23207/2882666468.py:173: ConstantInputWarning: An input array is constant; the correlation coefficient is not defined.\n",
      "  corr_right, _ = pearsonr(epoch_scores, right_targets)\n",
      "/var/folders/qx/1c8hj9_92533cb1kgn4q_yt80000gn/T/ipykernel_23207/2882666468.py:172: ConstantInputWarning: An input array is constant; the correlation coefficient is not defined.\n",
      "  corr_left, _ = pearsonr(epoch_scores, left_targets)\n",
      "/var/folders/qx/1c8hj9_92533cb1kgn4q_yt80000gn/T/ipykernel_23207/2882666468.py:173: ConstantInputWarning: An input array is constant; the correlation coefficient is not defined.\n",
      "  corr_right, _ = pearsonr(epoch_scores, right_targets)\n",
      "/var/folders/qx/1c8hj9_92533cb1kgn4q_yt80000gn/T/ipykernel_23207/2882666468.py:172: ConstantInputWarning: An input array is constant; the correlation coefficient is not defined.\n",
      "  corr_left, _ = pearsonr(epoch_scores, left_targets)\n",
      "/var/folders/qx/1c8hj9_92533cb1kgn4q_yt80000gn/T/ipykernel_23207/2882666468.py:173: ConstantInputWarning: An input array is constant; the correlation coefficient is not defined.\n",
      "  corr_right, _ = pearsonr(epoch_scores, right_targets)\n",
      "/var/folders/qx/1c8hj9_92533cb1kgn4q_yt80000gn/T/ipykernel_23207/2882666468.py:172: ConstantInputWarning: An input array is constant; the correlation coefficient is not defined.\n",
      "  corr_left, _ = pearsonr(epoch_scores, left_targets)\n",
      "/var/folders/qx/1c8hj9_92533cb1kgn4q_yt80000gn/T/ipykernel_23207/2882666468.py:173: ConstantInputWarning: An input array is constant; the correlation coefficient is not defined.\n",
      "  corr_right, _ = pearsonr(epoch_scores, right_targets)\n",
      "/var/folders/qx/1c8hj9_92533cb1kgn4q_yt80000gn/T/ipykernel_23207/2882666468.py:172: ConstantInputWarning: An input array is constant; the correlation coefficient is not defined.\n",
      "  corr_left, _ = pearsonr(epoch_scores, left_targets)\n",
      "/var/folders/qx/1c8hj9_92533cb1kgn4q_yt80000gn/T/ipykernel_23207/2882666468.py:173: ConstantInputWarning: An input array is constant; the correlation coefficient is not defined.\n",
      "  corr_right, _ = pearsonr(epoch_scores, right_targets)\n",
      "/var/folders/qx/1c8hj9_92533cb1kgn4q_yt80000gn/T/ipykernel_23207/2882666468.py:172: ConstantInputWarning: An input array is constant; the correlation coefficient is not defined.\n",
      "  corr_left, _ = pearsonr(epoch_scores, left_targets)\n",
      "/var/folders/qx/1c8hj9_92533cb1kgn4q_yt80000gn/T/ipykernel_23207/2882666468.py:173: ConstantInputWarning: An input array is constant; the correlation coefficient is not defined.\n",
      "  corr_right, _ = pearsonr(epoch_scores, right_targets)\n",
      "/var/folders/qx/1c8hj9_92533cb1kgn4q_yt80000gn/T/ipykernel_23207/2882666468.py:172: ConstantInputWarning: An input array is constant; the correlation coefficient is not defined.\n",
      "  corr_left, _ = pearsonr(epoch_scores, left_targets)\n",
      "/var/folders/qx/1c8hj9_92533cb1kgn4q_yt80000gn/T/ipykernel_23207/2882666468.py:173: ConstantInputWarning: An input array is constant; the correlation coefficient is not defined.\n",
      "  corr_right, _ = pearsonr(epoch_scores, right_targets)\n",
      "/var/folders/qx/1c8hj9_92533cb1kgn4q_yt80000gn/T/ipykernel_23207/2882666468.py:172: ConstantInputWarning: An input array is constant; the correlation coefficient is not defined.\n",
      "  corr_left, _ = pearsonr(epoch_scores, left_targets)\n",
      "/var/folders/qx/1c8hj9_92533cb1kgn4q_yt80000gn/T/ipykernel_23207/2882666468.py:173: ConstantInputWarning: An input array is constant; the correlation coefficient is not defined.\n",
      "  corr_right, _ = pearsonr(epoch_scores, right_targets)\n",
      "/var/folders/qx/1c8hj9_92533cb1kgn4q_yt80000gn/T/ipykernel_23207/2882666468.py:172: ConstantInputWarning: An input array is constant; the correlation coefficient is not defined.\n",
      "  corr_left, _ = pearsonr(epoch_scores, left_targets)\n",
      "/var/folders/qx/1c8hj9_92533cb1kgn4q_yt80000gn/T/ipykernel_23207/2882666468.py:173: ConstantInputWarning: An input array is constant; the correlation coefficient is not defined.\n",
      "  corr_right, _ = pearsonr(epoch_scores, right_targets)\n"
     ]
    },
    {
     "name": "stdout",
     "output_type": "stream",
     "text": [
      "Shape of combined_features_trn: (60, 66)\n",
      "Shape of combined_features_tst: (20, 66)\n",
      "Fold 2 Accuracy: 0.950\n",
      "  Fold 3/4\n",
      "Shape of epochs_trn: (60, 80, 64, 108)\n",
      "Shape of epochs_tst: (20, 80, 64, 108)\n",
      "Shape of X_clean_trn: (60, 80, 64, 108)\n",
      "Shape of X_clean_tst: (20, 80, 64, 108)\n",
      "Shape of features_trn: (60, 80, 64, 6)\n",
      "Shape of features_tst: (20, 80, 64, 6)\n",
      "Shape of X_trn_epochs (this is fed into LDA): (4800, 384)\n",
      "Shape of y_trn_epochs (this is fed into LDA): (4800,)\n"
     ]
    },
    {
     "name": "stderr",
     "output_type": "stream",
     "text": [
      "/var/folders/qx/1c8hj9_92533cb1kgn4q_yt80000gn/T/ipykernel_23207/2882666468.py:172: ConstantInputWarning: An input array is constant; the correlation coefficient is not defined.\n",
      "  corr_left, _ = pearsonr(epoch_scores, left_targets)\n",
      "/var/folders/qx/1c8hj9_92533cb1kgn4q_yt80000gn/T/ipykernel_23207/2882666468.py:173: ConstantInputWarning: An input array is constant; the correlation coefficient is not defined.\n",
      "  corr_right, _ = pearsonr(epoch_scores, right_targets)\n",
      "/var/folders/qx/1c8hj9_92533cb1kgn4q_yt80000gn/T/ipykernel_23207/2882666468.py:172: ConstantInputWarning: An input array is constant; the correlation coefficient is not defined.\n",
      "  corr_left, _ = pearsonr(epoch_scores, left_targets)\n",
      "/var/folders/qx/1c8hj9_92533cb1kgn4q_yt80000gn/T/ipykernel_23207/2882666468.py:173: ConstantInputWarning: An input array is constant; the correlation coefficient is not defined.\n",
      "  corr_right, _ = pearsonr(epoch_scores, right_targets)\n",
      "/var/folders/qx/1c8hj9_92533cb1kgn4q_yt80000gn/T/ipykernel_23207/2882666468.py:172: ConstantInputWarning: An input array is constant; the correlation coefficient is not defined.\n",
      "  corr_left, _ = pearsonr(epoch_scores, left_targets)\n",
      "/var/folders/qx/1c8hj9_92533cb1kgn4q_yt80000gn/T/ipykernel_23207/2882666468.py:173: ConstantInputWarning: An input array is constant; the correlation coefficient is not defined.\n",
      "  corr_right, _ = pearsonr(epoch_scores, right_targets)\n",
      "/var/folders/qx/1c8hj9_92533cb1kgn4q_yt80000gn/T/ipykernel_23207/2882666468.py:172: ConstantInputWarning: An input array is constant; the correlation coefficient is not defined.\n",
      "  corr_left, _ = pearsonr(epoch_scores, left_targets)\n",
      "/var/folders/qx/1c8hj9_92533cb1kgn4q_yt80000gn/T/ipykernel_23207/2882666468.py:173: ConstantInputWarning: An input array is constant; the correlation coefficient is not defined.\n",
      "  corr_right, _ = pearsonr(epoch_scores, right_targets)\n",
      "/var/folders/qx/1c8hj9_92533cb1kgn4q_yt80000gn/T/ipykernel_23207/2882666468.py:172: ConstantInputWarning: An input array is constant; the correlation coefficient is not defined.\n",
      "  corr_left, _ = pearsonr(epoch_scores, left_targets)\n",
      "/var/folders/qx/1c8hj9_92533cb1kgn4q_yt80000gn/T/ipykernel_23207/2882666468.py:173: ConstantInputWarning: An input array is constant; the correlation coefficient is not defined.\n",
      "  corr_right, _ = pearsonr(epoch_scores, right_targets)\n",
      "/var/folders/qx/1c8hj9_92533cb1kgn4q_yt80000gn/T/ipykernel_23207/2882666468.py:172: ConstantInputWarning: An input array is constant; the correlation coefficient is not defined.\n",
      "  corr_left, _ = pearsonr(epoch_scores, left_targets)\n",
      "/var/folders/qx/1c8hj9_92533cb1kgn4q_yt80000gn/T/ipykernel_23207/2882666468.py:173: ConstantInputWarning: An input array is constant; the correlation coefficient is not defined.\n",
      "  corr_right, _ = pearsonr(epoch_scores, right_targets)\n",
      "/var/folders/qx/1c8hj9_92533cb1kgn4q_yt80000gn/T/ipykernel_23207/2882666468.py:172: ConstantInputWarning: An input array is constant; the correlation coefficient is not defined.\n",
      "  corr_left, _ = pearsonr(epoch_scores, left_targets)\n",
      "/var/folders/qx/1c8hj9_92533cb1kgn4q_yt80000gn/T/ipykernel_23207/2882666468.py:173: ConstantInputWarning: An input array is constant; the correlation coefficient is not defined.\n",
      "  corr_right, _ = pearsonr(epoch_scores, right_targets)\n",
      "/var/folders/qx/1c8hj9_92533cb1kgn4q_yt80000gn/T/ipykernel_23207/2882666468.py:172: ConstantInputWarning: An input array is constant; the correlation coefficient is not defined.\n",
      "  corr_left, _ = pearsonr(epoch_scores, left_targets)\n",
      "/var/folders/qx/1c8hj9_92533cb1kgn4q_yt80000gn/T/ipykernel_23207/2882666468.py:173: ConstantInputWarning: An input array is constant; the correlation coefficient is not defined.\n",
      "  corr_right, _ = pearsonr(epoch_scores, right_targets)\n",
      "/var/folders/qx/1c8hj9_92533cb1kgn4q_yt80000gn/T/ipykernel_23207/2882666468.py:172: ConstantInputWarning: An input array is constant; the correlation coefficient is not defined.\n",
      "  corr_left, _ = pearsonr(epoch_scores, left_targets)\n",
      "/var/folders/qx/1c8hj9_92533cb1kgn4q_yt80000gn/T/ipykernel_23207/2882666468.py:173: ConstantInputWarning: An input array is constant; the correlation coefficient is not defined.\n",
      "  corr_right, _ = pearsonr(epoch_scores, right_targets)\n",
      "/var/folders/qx/1c8hj9_92533cb1kgn4q_yt80000gn/T/ipykernel_23207/2882666468.py:172: ConstantInputWarning: An input array is constant; the correlation coefficient is not defined.\n",
      "  corr_left, _ = pearsonr(epoch_scores, left_targets)\n",
      "/var/folders/qx/1c8hj9_92533cb1kgn4q_yt80000gn/T/ipykernel_23207/2882666468.py:173: ConstantInputWarning: An input array is constant; the correlation coefficient is not defined.\n",
      "  corr_right, _ = pearsonr(epoch_scores, right_targets)\n",
      "/var/folders/qx/1c8hj9_92533cb1kgn4q_yt80000gn/T/ipykernel_23207/2882666468.py:172: ConstantInputWarning: An input array is constant; the correlation coefficient is not defined.\n",
      "  corr_left, _ = pearsonr(epoch_scores, left_targets)\n",
      "/var/folders/qx/1c8hj9_92533cb1kgn4q_yt80000gn/T/ipykernel_23207/2882666468.py:173: ConstantInputWarning: An input array is constant; the correlation coefficient is not defined.\n",
      "  corr_right, _ = pearsonr(epoch_scores, right_targets)\n",
      "/var/folders/qx/1c8hj9_92533cb1kgn4q_yt80000gn/T/ipykernel_23207/2882666468.py:172: ConstantInputWarning: An input array is constant; the correlation coefficient is not defined.\n",
      "  corr_left, _ = pearsonr(epoch_scores, left_targets)\n",
      "/var/folders/qx/1c8hj9_92533cb1kgn4q_yt80000gn/T/ipykernel_23207/2882666468.py:173: ConstantInputWarning: An input array is constant; the correlation coefficient is not defined.\n",
      "  corr_right, _ = pearsonr(epoch_scores, right_targets)\n",
      "/var/folders/qx/1c8hj9_92533cb1kgn4q_yt80000gn/T/ipykernel_23207/2882666468.py:172: ConstantInputWarning: An input array is constant; the correlation coefficient is not defined.\n",
      "  corr_left, _ = pearsonr(epoch_scores, left_targets)\n",
      "/var/folders/qx/1c8hj9_92533cb1kgn4q_yt80000gn/T/ipykernel_23207/2882666468.py:173: ConstantInputWarning: An input array is constant; the correlation coefficient is not defined.\n",
      "  corr_right, _ = pearsonr(epoch_scores, right_targets)\n",
      "/var/folders/qx/1c8hj9_92533cb1kgn4q_yt80000gn/T/ipykernel_23207/2882666468.py:172: ConstantInputWarning: An input array is constant; the correlation coefficient is not defined.\n",
      "  corr_left, _ = pearsonr(epoch_scores, left_targets)\n",
      "/var/folders/qx/1c8hj9_92533cb1kgn4q_yt80000gn/T/ipykernel_23207/2882666468.py:173: ConstantInputWarning: An input array is constant; the correlation coefficient is not defined.\n",
      "  corr_right, _ = pearsonr(epoch_scores, right_targets)\n",
      "/var/folders/qx/1c8hj9_92533cb1kgn4q_yt80000gn/T/ipykernel_23207/2882666468.py:172: ConstantInputWarning: An input array is constant; the correlation coefficient is not defined.\n",
      "  corr_left, _ = pearsonr(epoch_scores, left_targets)\n",
      "/var/folders/qx/1c8hj9_92533cb1kgn4q_yt80000gn/T/ipykernel_23207/2882666468.py:173: ConstantInputWarning: An input array is constant; the correlation coefficient is not defined.\n",
      "  corr_right, _ = pearsonr(epoch_scores, right_targets)\n",
      "/var/folders/qx/1c8hj9_92533cb1kgn4q_yt80000gn/T/ipykernel_23207/2882666468.py:172: ConstantInputWarning: An input array is constant; the correlation coefficient is not defined.\n",
      "  corr_left, _ = pearsonr(epoch_scores, left_targets)\n",
      "/var/folders/qx/1c8hj9_92533cb1kgn4q_yt80000gn/T/ipykernel_23207/2882666468.py:173: ConstantInputWarning: An input array is constant; the correlation coefficient is not defined.\n",
      "  corr_right, _ = pearsonr(epoch_scores, right_targets)\n",
      "/var/folders/qx/1c8hj9_92533cb1kgn4q_yt80000gn/T/ipykernel_23207/2882666468.py:172: ConstantInputWarning: An input array is constant; the correlation coefficient is not defined.\n",
      "  corr_left, _ = pearsonr(epoch_scores, left_targets)\n",
      "/var/folders/qx/1c8hj9_92533cb1kgn4q_yt80000gn/T/ipykernel_23207/2882666468.py:173: ConstantInputWarning: An input array is constant; the correlation coefficient is not defined.\n",
      "  corr_right, _ = pearsonr(epoch_scores, right_targets)\n",
      "/var/folders/qx/1c8hj9_92533cb1kgn4q_yt80000gn/T/ipykernel_23207/2882666468.py:172: ConstantInputWarning: An input array is constant; the correlation coefficient is not defined.\n",
      "  corr_left, _ = pearsonr(epoch_scores, left_targets)\n",
      "/var/folders/qx/1c8hj9_92533cb1kgn4q_yt80000gn/T/ipykernel_23207/2882666468.py:173: ConstantInputWarning: An input array is constant; the correlation coefficient is not defined.\n",
      "  corr_right, _ = pearsonr(epoch_scores, right_targets)\n",
      "/var/folders/qx/1c8hj9_92533cb1kgn4q_yt80000gn/T/ipykernel_23207/2882666468.py:172: ConstantInputWarning: An input array is constant; the correlation coefficient is not defined.\n",
      "  corr_left, _ = pearsonr(epoch_scores, left_targets)\n",
      "/var/folders/qx/1c8hj9_92533cb1kgn4q_yt80000gn/T/ipykernel_23207/2882666468.py:173: ConstantInputWarning: An input array is constant; the correlation coefficient is not defined.\n",
      "  corr_right, _ = pearsonr(epoch_scores, right_targets)\n",
      "/var/folders/qx/1c8hj9_92533cb1kgn4q_yt80000gn/T/ipykernel_23207/2882666468.py:172: ConstantInputWarning: An input array is constant; the correlation coefficient is not defined.\n",
      "  corr_left, _ = pearsonr(epoch_scores, left_targets)\n",
      "/var/folders/qx/1c8hj9_92533cb1kgn4q_yt80000gn/T/ipykernel_23207/2882666468.py:173: ConstantInputWarning: An input array is constant; the correlation coefficient is not defined.\n",
      "  corr_right, _ = pearsonr(epoch_scores, right_targets)\n"
     ]
    },
    {
     "name": "stdout",
     "output_type": "stream",
     "text": [
      "Shape of combined_features_trn: (60, 66)\n",
      "Shape of combined_features_tst: (20, 66)\n",
      "Fold 3 Accuracy: 0.800\n",
      "  Fold 4/4\n",
      "Shape of epochs_trn: (60, 80, 64, 108)\n",
      "Shape of epochs_tst: (20, 80, 64, 108)\n",
      "Shape of X_clean_trn: (60, 80, 64, 108)\n",
      "Shape of X_clean_tst: (20, 80, 64, 108)\n",
      "Shape of features_trn: (60, 80, 64, 6)\n",
      "Shape of features_tst: (20, 80, 64, 6)\n",
      "Shape of X_trn_epochs (this is fed into LDA): (4800, 384)\n",
      "Shape of y_trn_epochs (this is fed into LDA): (4800,)\n"
     ]
    },
    {
     "name": "stderr",
     "output_type": "stream",
     "text": [
      "/var/folders/qx/1c8hj9_92533cb1kgn4q_yt80000gn/T/ipykernel_23207/2882666468.py:172: ConstantInputWarning: An input array is constant; the correlation coefficient is not defined.\n",
      "  corr_left, _ = pearsonr(epoch_scores, left_targets)\n",
      "/var/folders/qx/1c8hj9_92533cb1kgn4q_yt80000gn/T/ipykernel_23207/2882666468.py:173: ConstantInputWarning: An input array is constant; the correlation coefficient is not defined.\n",
      "  corr_right, _ = pearsonr(epoch_scores, right_targets)\n",
      "/var/folders/qx/1c8hj9_92533cb1kgn4q_yt80000gn/T/ipykernel_23207/2882666468.py:172: ConstantInputWarning: An input array is constant; the correlation coefficient is not defined.\n",
      "  corr_left, _ = pearsonr(epoch_scores, left_targets)\n",
      "/var/folders/qx/1c8hj9_92533cb1kgn4q_yt80000gn/T/ipykernel_23207/2882666468.py:173: ConstantInputWarning: An input array is constant; the correlation coefficient is not defined.\n",
      "  corr_right, _ = pearsonr(epoch_scores, right_targets)\n",
      "/var/folders/qx/1c8hj9_92533cb1kgn4q_yt80000gn/T/ipykernel_23207/2882666468.py:172: ConstantInputWarning: An input array is constant; the correlation coefficient is not defined.\n",
      "  corr_left, _ = pearsonr(epoch_scores, left_targets)\n",
      "/var/folders/qx/1c8hj9_92533cb1kgn4q_yt80000gn/T/ipykernel_23207/2882666468.py:173: ConstantInputWarning: An input array is constant; the correlation coefficient is not defined.\n",
      "  corr_right, _ = pearsonr(epoch_scores, right_targets)\n",
      "/var/folders/qx/1c8hj9_92533cb1kgn4q_yt80000gn/T/ipykernel_23207/2882666468.py:172: ConstantInputWarning: An input array is constant; the correlation coefficient is not defined.\n",
      "  corr_left, _ = pearsonr(epoch_scores, left_targets)\n",
      "/var/folders/qx/1c8hj9_92533cb1kgn4q_yt80000gn/T/ipykernel_23207/2882666468.py:173: ConstantInputWarning: An input array is constant; the correlation coefficient is not defined.\n",
      "  corr_right, _ = pearsonr(epoch_scores, right_targets)\n",
      "/var/folders/qx/1c8hj9_92533cb1kgn4q_yt80000gn/T/ipykernel_23207/2882666468.py:172: ConstantInputWarning: An input array is constant; the correlation coefficient is not defined.\n",
      "  corr_left, _ = pearsonr(epoch_scores, left_targets)\n",
      "/var/folders/qx/1c8hj9_92533cb1kgn4q_yt80000gn/T/ipykernel_23207/2882666468.py:173: ConstantInputWarning: An input array is constant; the correlation coefficient is not defined.\n",
      "  corr_right, _ = pearsonr(epoch_scores, right_targets)\n",
      "/var/folders/qx/1c8hj9_92533cb1kgn4q_yt80000gn/T/ipykernel_23207/2882666468.py:172: ConstantInputWarning: An input array is constant; the correlation coefficient is not defined.\n",
      "  corr_left, _ = pearsonr(epoch_scores, left_targets)\n",
      "/var/folders/qx/1c8hj9_92533cb1kgn4q_yt80000gn/T/ipykernel_23207/2882666468.py:173: ConstantInputWarning: An input array is constant; the correlation coefficient is not defined.\n",
      "  corr_right, _ = pearsonr(epoch_scores, right_targets)\n",
      "/var/folders/qx/1c8hj9_92533cb1kgn4q_yt80000gn/T/ipykernel_23207/2882666468.py:172: ConstantInputWarning: An input array is constant; the correlation coefficient is not defined.\n",
      "  corr_left, _ = pearsonr(epoch_scores, left_targets)\n",
      "/var/folders/qx/1c8hj9_92533cb1kgn4q_yt80000gn/T/ipykernel_23207/2882666468.py:173: ConstantInputWarning: An input array is constant; the correlation coefficient is not defined.\n",
      "  corr_right, _ = pearsonr(epoch_scores, right_targets)\n",
      "/var/folders/qx/1c8hj9_92533cb1kgn4q_yt80000gn/T/ipykernel_23207/2882666468.py:172: ConstantInputWarning: An input array is constant; the correlation coefficient is not defined.\n",
      "  corr_left, _ = pearsonr(epoch_scores, left_targets)\n",
      "/var/folders/qx/1c8hj9_92533cb1kgn4q_yt80000gn/T/ipykernel_23207/2882666468.py:173: ConstantInputWarning: An input array is constant; the correlation coefficient is not defined.\n",
      "  corr_right, _ = pearsonr(epoch_scores, right_targets)\n",
      "/var/folders/qx/1c8hj9_92533cb1kgn4q_yt80000gn/T/ipykernel_23207/2882666468.py:172: ConstantInputWarning: An input array is constant; the correlation coefficient is not defined.\n",
      "  corr_left, _ = pearsonr(epoch_scores, left_targets)\n",
      "/var/folders/qx/1c8hj9_92533cb1kgn4q_yt80000gn/T/ipykernel_23207/2882666468.py:173: ConstantInputWarning: An input array is constant; the correlation coefficient is not defined.\n",
      "  corr_right, _ = pearsonr(epoch_scores, right_targets)\n",
      "/var/folders/qx/1c8hj9_92533cb1kgn4q_yt80000gn/T/ipykernel_23207/2882666468.py:172: ConstantInputWarning: An input array is constant; the correlation coefficient is not defined.\n",
      "  corr_left, _ = pearsonr(epoch_scores, left_targets)\n",
      "/var/folders/qx/1c8hj9_92533cb1kgn4q_yt80000gn/T/ipykernel_23207/2882666468.py:173: ConstantInputWarning: An input array is constant; the correlation coefficient is not defined.\n",
      "  corr_right, _ = pearsonr(epoch_scores, right_targets)\n",
      "/var/folders/qx/1c8hj9_92533cb1kgn4q_yt80000gn/T/ipykernel_23207/2882666468.py:172: ConstantInputWarning: An input array is constant; the correlation coefficient is not defined.\n",
      "  corr_left, _ = pearsonr(epoch_scores, left_targets)\n",
      "/var/folders/qx/1c8hj9_92533cb1kgn4q_yt80000gn/T/ipykernel_23207/2882666468.py:173: ConstantInputWarning: An input array is constant; the correlation coefficient is not defined.\n",
      "  corr_right, _ = pearsonr(epoch_scores, right_targets)\n",
      "/var/folders/qx/1c8hj9_92533cb1kgn4q_yt80000gn/T/ipykernel_23207/2882666468.py:172: ConstantInputWarning: An input array is constant; the correlation coefficient is not defined.\n",
      "  corr_left, _ = pearsonr(epoch_scores, left_targets)\n",
      "/var/folders/qx/1c8hj9_92533cb1kgn4q_yt80000gn/T/ipykernel_23207/2882666468.py:173: ConstantInputWarning: An input array is constant; the correlation coefficient is not defined.\n",
      "  corr_right, _ = pearsonr(epoch_scores, right_targets)\n",
      "/var/folders/qx/1c8hj9_92533cb1kgn4q_yt80000gn/T/ipykernel_23207/2882666468.py:172: ConstantInputWarning: An input array is constant; the correlation coefficient is not defined.\n",
      "  corr_left, _ = pearsonr(epoch_scores, left_targets)\n",
      "/var/folders/qx/1c8hj9_92533cb1kgn4q_yt80000gn/T/ipykernel_23207/2882666468.py:173: ConstantInputWarning: An input array is constant; the correlation coefficient is not defined.\n",
      "  corr_right, _ = pearsonr(epoch_scores, right_targets)\n",
      "/var/folders/qx/1c8hj9_92533cb1kgn4q_yt80000gn/T/ipykernel_23207/2882666468.py:172: ConstantInputWarning: An input array is constant; the correlation coefficient is not defined.\n",
      "  corr_left, _ = pearsonr(epoch_scores, left_targets)\n",
      "/var/folders/qx/1c8hj9_92533cb1kgn4q_yt80000gn/T/ipykernel_23207/2882666468.py:173: ConstantInputWarning: An input array is constant; the correlation coefficient is not defined.\n",
      "  corr_right, _ = pearsonr(epoch_scores, right_targets)\n",
      "/var/folders/qx/1c8hj9_92533cb1kgn4q_yt80000gn/T/ipykernel_23207/2882666468.py:172: ConstantInputWarning: An input array is constant; the correlation coefficient is not defined.\n",
      "  corr_left, _ = pearsonr(epoch_scores, left_targets)\n",
      "/var/folders/qx/1c8hj9_92533cb1kgn4q_yt80000gn/T/ipykernel_23207/2882666468.py:173: ConstantInputWarning: An input array is constant; the correlation coefficient is not defined.\n",
      "  corr_right, _ = pearsonr(epoch_scores, right_targets)\n",
      "/var/folders/qx/1c8hj9_92533cb1kgn4q_yt80000gn/T/ipykernel_23207/2882666468.py:172: ConstantInputWarning: An input array is constant; the correlation coefficient is not defined.\n",
      "  corr_left, _ = pearsonr(epoch_scores, left_targets)\n",
      "/var/folders/qx/1c8hj9_92533cb1kgn4q_yt80000gn/T/ipykernel_23207/2882666468.py:173: ConstantInputWarning: An input array is constant; the correlation coefficient is not defined.\n",
      "  corr_right, _ = pearsonr(epoch_scores, right_targets)\n",
      "/var/folders/qx/1c8hj9_92533cb1kgn4q_yt80000gn/T/ipykernel_23207/2882666468.py:172: ConstantInputWarning: An input array is constant; the correlation coefficient is not defined.\n",
      "  corr_left, _ = pearsonr(epoch_scores, left_targets)\n",
      "/var/folders/qx/1c8hj9_92533cb1kgn4q_yt80000gn/T/ipykernel_23207/2882666468.py:173: ConstantInputWarning: An input array is constant; the correlation coefficient is not defined.\n",
      "  corr_right, _ = pearsonr(epoch_scores, right_targets)\n",
      "/var/folders/qx/1c8hj9_92533cb1kgn4q_yt80000gn/T/ipykernel_23207/2882666468.py:172: ConstantInputWarning: An input array is constant; the correlation coefficient is not defined.\n",
      "  corr_left, _ = pearsonr(epoch_scores, left_targets)\n",
      "/var/folders/qx/1c8hj9_92533cb1kgn4q_yt80000gn/T/ipykernel_23207/2882666468.py:173: ConstantInputWarning: An input array is constant; the correlation coefficient is not defined.\n",
      "  corr_right, _ = pearsonr(epoch_scores, right_targets)\n"
     ]
    },
    {
     "name": "stdout",
     "output_type": "stream",
     "text": [
      "Shape of combined_features_trn: (60, 66)\n",
      "Shape of combined_features_tst: (20, 66)\n",
      "Fold 4 Accuracy: 0.750\n",
      "Average Accuracy for VPpdio: 0.860\n",
      "Processing VPpdip...\n",
      "  Fold 1/4\n",
      "Shape of epochs_trn: (60, 80, 64, 108)\n",
      "Shape of epochs_tst: (20, 80, 64, 108)\n",
      "Shape of X_clean_trn: (60, 80, 64, 108)\n",
      "Shape of X_clean_tst: (20, 80, 64, 108)\n",
      "Shape of features_trn: (60, 80, 64, 6)\n",
      "Shape of features_tst: (20, 80, 64, 6)\n",
      "Shape of X_trn_epochs (this is fed into LDA): (4800, 384)\n",
      "Shape of y_trn_epochs (this is fed into LDA): (4800,)\n",
      "Shape of combined_features_trn: (60, 66)\n",
      "Shape of combined_features_tst: (20, 66)\n",
      "Fold 1 Accuracy: 0.500\n",
      "  Fold 2/4\n",
      "Shape of epochs_trn: (60, 80, 64, 108)\n",
      "Shape of epochs_tst: (20, 80, 64, 108)\n",
      "Shape of X_clean_trn: (60, 80, 64, 108)\n",
      "Shape of X_clean_tst: (20, 80, 64, 108)\n",
      "Shape of features_trn: (60, 80, 64, 6)\n",
      "Shape of features_tst: (20, 80, 64, 6)\n",
      "Shape of X_trn_epochs (this is fed into LDA): (4800, 384)\n",
      "Shape of y_trn_epochs (this is fed into LDA): (4800,)\n",
      "Shape of combined_features_trn: (60, 66)\n",
      "Shape of combined_features_tst: (20, 66)\n",
      "Fold 2 Accuracy: 0.500\n",
      "  Fold 3/4\n",
      "Shape of epochs_trn: (60, 80, 64, 108)\n",
      "Shape of epochs_tst: (20, 80, 64, 108)\n",
      "Shape of X_clean_trn: (60, 80, 64, 108)\n",
      "Shape of X_clean_tst: (20, 80, 64, 108)\n",
      "Shape of features_trn: (60, 80, 64, 6)\n",
      "Shape of features_tst: (20, 80, 64, 6)\n",
      "Shape of X_trn_epochs (this is fed into LDA): (4800, 384)\n",
      "Shape of y_trn_epochs (this is fed into LDA): (4800,)\n",
      "Shape of combined_features_trn: (60, 66)\n",
      "Shape of combined_features_tst: (20, 66)\n",
      "Fold 3 Accuracy: 0.550\n",
      "  Fold 4/4\n",
      "Shape of epochs_trn: (60, 80, 64, 108)\n",
      "Shape of epochs_tst: (20, 80, 64, 108)\n",
      "Shape of X_clean_trn: (60, 80, 64, 108)\n",
      "Shape of X_clean_tst: (20, 80, 64, 108)\n",
      "Shape of features_trn: (60, 80, 64, 6)\n",
      "Shape of features_tst: (20, 80, 64, 6)\n",
      "Shape of X_trn_epochs (this is fed into LDA): (4800, 384)\n",
      "Shape of y_trn_epochs (this is fed into LDA): (4800,)\n",
      "Shape of combined_features_trn: (60, 66)\n",
      "Shape of combined_features_tst: (20, 66)\n",
      "Fold 4 Accuracy: 0.500\n",
      "Average Accuracy for VPpdip: 0.510\n",
      "Processing VPpdiq...\n",
      "  Fold 1/4\n",
      "Shape of epochs_trn: (60, 80, 64, 108)\n",
      "Shape of epochs_tst: (20, 80, 64, 108)\n",
      "Shape of X_clean_trn: (60, 80, 64, 108)\n",
      "Shape of X_clean_tst: (20, 80, 64, 108)\n",
      "Shape of features_trn: (60, 80, 64, 6)\n",
      "Shape of features_tst: (20, 80, 64, 6)\n",
      "Shape of X_trn_epochs (this is fed into LDA): (4800, 384)\n",
      "Shape of y_trn_epochs (this is fed into LDA): (4800,)\n",
      "Shape of combined_features_trn: (60, 66)\n",
      "Shape of combined_features_tst: (20, 66)\n",
      "Fold 1 Accuracy: 0.500\n",
      "  Fold 2/4\n",
      "Shape of epochs_trn: (60, 80, 64, 108)\n",
      "Shape of epochs_tst: (20, 80, 64, 108)\n",
      "Shape of X_clean_trn: (60, 80, 64, 108)\n",
      "Shape of X_clean_tst: (20, 80, 64, 108)\n",
      "Shape of features_trn: (60, 80, 64, 6)\n",
      "Shape of features_tst: (20, 80, 64, 6)\n",
      "Shape of X_trn_epochs (this is fed into LDA): (4800, 384)\n",
      "Shape of y_trn_epochs (this is fed into LDA): (4800,)\n",
      "Shape of combined_features_trn: (60, 66)\n",
      "Shape of combined_features_tst: (20, 66)\n",
      "Fold 2 Accuracy: 0.500\n",
      "  Fold 3/4\n",
      "Shape of epochs_trn: (60, 80, 64, 108)\n",
      "Shape of epochs_tst: (20, 80, 64, 108)\n",
      "Shape of X_clean_trn: (60, 80, 64, 108)\n",
      "Shape of X_clean_tst: (20, 80, 64, 108)\n",
      "Shape of features_trn: (60, 80, 64, 6)\n",
      "Shape of features_tst: (20, 80, 64, 6)\n",
      "Shape of X_trn_epochs (this is fed into LDA): (4800, 384)\n",
      "Shape of y_trn_epochs (this is fed into LDA): (4800,)\n",
      "Shape of combined_features_trn: (60, 66)\n",
      "Shape of combined_features_tst: (20, 66)\n",
      "Fold 3 Accuracy: 0.500\n",
      "  Fold 4/4\n",
      "Shape of epochs_trn: (60, 80, 64, 108)\n",
      "Shape of epochs_tst: (20, 80, 64, 108)\n",
      "Shape of X_clean_trn: (60, 80, 64, 108)\n",
      "Shape of X_clean_tst: (20, 80, 64, 108)\n",
      "Shape of features_trn: (60, 80, 64, 6)\n",
      "Shape of features_tst: (20, 80, 64, 6)\n",
      "Shape of X_trn_epochs (this is fed into LDA): (4800, 384)\n",
      "Shape of y_trn_epochs (this is fed into LDA): (4800,)\n",
      "Shape of combined_features_trn: (60, 66)\n",
      "Shape of combined_features_tst: (20, 66)\n",
      "Fold 4 Accuracy: 0.500\n",
      "Average Accuracy for VPpdiq: 0.500\n",
      "Processing VPpdir...\n",
      "  Fold 1/4\n",
      "Shape of epochs_trn: (60, 80, 64, 108)\n",
      "Shape of epochs_tst: (20, 80, 64, 108)\n",
      "Shape of X_clean_trn: (60, 80, 64, 108)\n",
      "Shape of X_clean_tst: (20, 80, 64, 108)\n",
      "Shape of features_trn: (60, 80, 64, 6)\n",
      "Shape of features_tst: (20, 80, 64, 6)\n",
      "Shape of X_trn_epochs (this is fed into LDA): (4800, 384)\n",
      "Shape of y_trn_epochs (this is fed into LDA): (4800,)\n"
     ]
    },
    {
     "name": "stderr",
     "output_type": "stream",
     "text": [
      "/var/folders/qx/1c8hj9_92533cb1kgn4q_yt80000gn/T/ipykernel_23207/2882666468.py:172: ConstantInputWarning: An input array is constant; the correlation coefficient is not defined.\n",
      "  corr_left, _ = pearsonr(epoch_scores, left_targets)\n",
      "/var/folders/qx/1c8hj9_92533cb1kgn4q_yt80000gn/T/ipykernel_23207/2882666468.py:173: ConstantInputWarning: An input array is constant; the correlation coefficient is not defined.\n",
      "  corr_right, _ = pearsonr(epoch_scores, right_targets)\n",
      "/var/folders/qx/1c8hj9_92533cb1kgn4q_yt80000gn/T/ipykernel_23207/2882666468.py:172: ConstantInputWarning: An input array is constant; the correlation coefficient is not defined.\n",
      "  corr_left, _ = pearsonr(epoch_scores, left_targets)\n",
      "/var/folders/qx/1c8hj9_92533cb1kgn4q_yt80000gn/T/ipykernel_23207/2882666468.py:173: ConstantInputWarning: An input array is constant; the correlation coefficient is not defined.\n",
      "  corr_right, _ = pearsonr(epoch_scores, right_targets)\n",
      "/var/folders/qx/1c8hj9_92533cb1kgn4q_yt80000gn/T/ipykernel_23207/2882666468.py:172: ConstantInputWarning: An input array is constant; the correlation coefficient is not defined.\n",
      "  corr_left, _ = pearsonr(epoch_scores, left_targets)\n",
      "/var/folders/qx/1c8hj9_92533cb1kgn4q_yt80000gn/T/ipykernel_23207/2882666468.py:173: ConstantInputWarning: An input array is constant; the correlation coefficient is not defined.\n",
      "  corr_right, _ = pearsonr(epoch_scores, right_targets)\n",
      "/var/folders/qx/1c8hj9_92533cb1kgn4q_yt80000gn/T/ipykernel_23207/2882666468.py:172: ConstantInputWarning: An input array is constant; the correlation coefficient is not defined.\n",
      "  corr_left, _ = pearsonr(epoch_scores, left_targets)\n",
      "/var/folders/qx/1c8hj9_92533cb1kgn4q_yt80000gn/T/ipykernel_23207/2882666468.py:173: ConstantInputWarning: An input array is constant; the correlation coefficient is not defined.\n",
      "  corr_right, _ = pearsonr(epoch_scores, right_targets)\n",
      "/var/folders/qx/1c8hj9_92533cb1kgn4q_yt80000gn/T/ipykernel_23207/2882666468.py:172: ConstantInputWarning: An input array is constant; the correlation coefficient is not defined.\n",
      "  corr_left, _ = pearsonr(epoch_scores, left_targets)\n",
      "/var/folders/qx/1c8hj9_92533cb1kgn4q_yt80000gn/T/ipykernel_23207/2882666468.py:173: ConstantInputWarning: An input array is constant; the correlation coefficient is not defined.\n",
      "  corr_right, _ = pearsonr(epoch_scores, right_targets)\n",
      "/var/folders/qx/1c8hj9_92533cb1kgn4q_yt80000gn/T/ipykernel_23207/2882666468.py:172: ConstantInputWarning: An input array is constant; the correlation coefficient is not defined.\n",
      "  corr_left, _ = pearsonr(epoch_scores, left_targets)\n",
      "/var/folders/qx/1c8hj9_92533cb1kgn4q_yt80000gn/T/ipykernel_23207/2882666468.py:173: ConstantInputWarning: An input array is constant; the correlation coefficient is not defined.\n",
      "  corr_right, _ = pearsonr(epoch_scores, right_targets)\n",
      "/var/folders/qx/1c8hj9_92533cb1kgn4q_yt80000gn/T/ipykernel_23207/2882666468.py:172: ConstantInputWarning: An input array is constant; the correlation coefficient is not defined.\n",
      "  corr_left, _ = pearsonr(epoch_scores, left_targets)\n",
      "/var/folders/qx/1c8hj9_92533cb1kgn4q_yt80000gn/T/ipykernel_23207/2882666468.py:173: ConstantInputWarning: An input array is constant; the correlation coefficient is not defined.\n",
      "  corr_right, _ = pearsonr(epoch_scores, right_targets)\n",
      "/var/folders/qx/1c8hj9_92533cb1kgn4q_yt80000gn/T/ipykernel_23207/2882666468.py:172: ConstantInputWarning: An input array is constant; the correlation coefficient is not defined.\n",
      "  corr_left, _ = pearsonr(epoch_scores, left_targets)\n",
      "/var/folders/qx/1c8hj9_92533cb1kgn4q_yt80000gn/T/ipykernel_23207/2882666468.py:173: ConstantInputWarning: An input array is constant; the correlation coefficient is not defined.\n",
      "  corr_right, _ = pearsonr(epoch_scores, right_targets)\n",
      "/var/folders/qx/1c8hj9_92533cb1kgn4q_yt80000gn/T/ipykernel_23207/2882666468.py:172: ConstantInputWarning: An input array is constant; the correlation coefficient is not defined.\n",
      "  corr_left, _ = pearsonr(epoch_scores, left_targets)\n",
      "/var/folders/qx/1c8hj9_92533cb1kgn4q_yt80000gn/T/ipykernel_23207/2882666468.py:173: ConstantInputWarning: An input array is constant; the correlation coefficient is not defined.\n",
      "  corr_right, _ = pearsonr(epoch_scores, right_targets)\n"
     ]
    },
    {
     "name": "stdout",
     "output_type": "stream",
     "text": [
      "Shape of combined_features_trn: (60, 66)\n",
      "Shape of combined_features_tst: (20, 66)\n",
      "Fold 1 Accuracy: 0.800\n",
      "  Fold 2/4\n",
      "Shape of epochs_trn: (60, 80, 64, 108)\n",
      "Shape of epochs_tst: (20, 80, 64, 108)\n",
      "Shape of X_clean_trn: (60, 80, 64, 108)\n",
      "Shape of X_clean_tst: (20, 80, 64, 108)\n",
      "Shape of features_trn: (60, 80, 64, 6)\n",
      "Shape of features_tst: (20, 80, 64, 6)\n",
      "Shape of X_trn_epochs (this is fed into LDA): (4800, 384)\n",
      "Shape of y_trn_epochs (this is fed into LDA): (4800,)\n"
     ]
    },
    {
     "name": "stderr",
     "output_type": "stream",
     "text": [
      "/var/folders/qx/1c8hj9_92533cb1kgn4q_yt80000gn/T/ipykernel_23207/2882666468.py:172: ConstantInputWarning: An input array is constant; the correlation coefficient is not defined.\n",
      "  corr_left, _ = pearsonr(epoch_scores, left_targets)\n",
      "/var/folders/qx/1c8hj9_92533cb1kgn4q_yt80000gn/T/ipykernel_23207/2882666468.py:173: ConstantInputWarning: An input array is constant; the correlation coefficient is not defined.\n",
      "  corr_right, _ = pearsonr(epoch_scores, right_targets)\n",
      "/var/folders/qx/1c8hj9_92533cb1kgn4q_yt80000gn/T/ipykernel_23207/2882666468.py:172: ConstantInputWarning: An input array is constant; the correlation coefficient is not defined.\n",
      "  corr_left, _ = pearsonr(epoch_scores, left_targets)\n",
      "/var/folders/qx/1c8hj9_92533cb1kgn4q_yt80000gn/T/ipykernel_23207/2882666468.py:173: ConstantInputWarning: An input array is constant; the correlation coefficient is not defined.\n",
      "  corr_right, _ = pearsonr(epoch_scores, right_targets)\n",
      "/var/folders/qx/1c8hj9_92533cb1kgn4q_yt80000gn/T/ipykernel_23207/2882666468.py:172: ConstantInputWarning: An input array is constant; the correlation coefficient is not defined.\n",
      "  corr_left, _ = pearsonr(epoch_scores, left_targets)\n",
      "/var/folders/qx/1c8hj9_92533cb1kgn4q_yt80000gn/T/ipykernel_23207/2882666468.py:173: ConstantInputWarning: An input array is constant; the correlation coefficient is not defined.\n",
      "  corr_right, _ = pearsonr(epoch_scores, right_targets)\n",
      "/var/folders/qx/1c8hj9_92533cb1kgn4q_yt80000gn/T/ipykernel_23207/2882666468.py:172: ConstantInputWarning: An input array is constant; the correlation coefficient is not defined.\n",
      "  corr_left, _ = pearsonr(epoch_scores, left_targets)\n",
      "/var/folders/qx/1c8hj9_92533cb1kgn4q_yt80000gn/T/ipykernel_23207/2882666468.py:173: ConstantInputWarning: An input array is constant; the correlation coefficient is not defined.\n",
      "  corr_right, _ = pearsonr(epoch_scores, right_targets)\n",
      "/var/folders/qx/1c8hj9_92533cb1kgn4q_yt80000gn/T/ipykernel_23207/2882666468.py:172: ConstantInputWarning: An input array is constant; the correlation coefficient is not defined.\n",
      "  corr_left, _ = pearsonr(epoch_scores, left_targets)\n",
      "/var/folders/qx/1c8hj9_92533cb1kgn4q_yt80000gn/T/ipykernel_23207/2882666468.py:173: ConstantInputWarning: An input array is constant; the correlation coefficient is not defined.\n",
      "  corr_right, _ = pearsonr(epoch_scores, right_targets)\n",
      "/var/folders/qx/1c8hj9_92533cb1kgn4q_yt80000gn/T/ipykernel_23207/2882666468.py:172: ConstantInputWarning: An input array is constant; the correlation coefficient is not defined.\n",
      "  corr_left, _ = pearsonr(epoch_scores, left_targets)\n",
      "/var/folders/qx/1c8hj9_92533cb1kgn4q_yt80000gn/T/ipykernel_23207/2882666468.py:173: ConstantInputWarning: An input array is constant; the correlation coefficient is not defined.\n",
      "  corr_right, _ = pearsonr(epoch_scores, right_targets)\n",
      "/var/folders/qx/1c8hj9_92533cb1kgn4q_yt80000gn/T/ipykernel_23207/2882666468.py:172: ConstantInputWarning: An input array is constant; the correlation coefficient is not defined.\n",
      "  corr_left, _ = pearsonr(epoch_scores, left_targets)\n",
      "/var/folders/qx/1c8hj9_92533cb1kgn4q_yt80000gn/T/ipykernel_23207/2882666468.py:173: ConstantInputWarning: An input array is constant; the correlation coefficient is not defined.\n",
      "  corr_right, _ = pearsonr(epoch_scores, right_targets)\n",
      "/var/folders/qx/1c8hj9_92533cb1kgn4q_yt80000gn/T/ipykernel_23207/2882666468.py:172: ConstantInputWarning: An input array is constant; the correlation coefficient is not defined.\n",
      "  corr_left, _ = pearsonr(epoch_scores, left_targets)\n",
      "/var/folders/qx/1c8hj9_92533cb1kgn4q_yt80000gn/T/ipykernel_23207/2882666468.py:173: ConstantInputWarning: An input array is constant; the correlation coefficient is not defined.\n",
      "  corr_right, _ = pearsonr(epoch_scores, right_targets)\n",
      "/var/folders/qx/1c8hj9_92533cb1kgn4q_yt80000gn/T/ipykernel_23207/2882666468.py:172: ConstantInputWarning: An input array is constant; the correlation coefficient is not defined.\n",
      "  corr_left, _ = pearsonr(epoch_scores, left_targets)\n",
      "/var/folders/qx/1c8hj9_92533cb1kgn4q_yt80000gn/T/ipykernel_23207/2882666468.py:173: ConstantInputWarning: An input array is constant; the correlation coefficient is not defined.\n",
      "  corr_right, _ = pearsonr(epoch_scores, right_targets)\n",
      "/var/folders/qx/1c8hj9_92533cb1kgn4q_yt80000gn/T/ipykernel_23207/2882666468.py:172: ConstantInputWarning: An input array is constant; the correlation coefficient is not defined.\n",
      "  corr_left, _ = pearsonr(epoch_scores, left_targets)\n",
      "/var/folders/qx/1c8hj9_92533cb1kgn4q_yt80000gn/T/ipykernel_23207/2882666468.py:173: ConstantInputWarning: An input array is constant; the correlation coefficient is not defined.\n",
      "  corr_right, _ = pearsonr(epoch_scores, right_targets)\n",
      "/var/folders/qx/1c8hj9_92533cb1kgn4q_yt80000gn/T/ipykernel_23207/2882666468.py:172: ConstantInputWarning: An input array is constant; the correlation coefficient is not defined.\n",
      "  corr_left, _ = pearsonr(epoch_scores, left_targets)\n",
      "/var/folders/qx/1c8hj9_92533cb1kgn4q_yt80000gn/T/ipykernel_23207/2882666468.py:173: ConstantInputWarning: An input array is constant; the correlation coefficient is not defined.\n",
      "  corr_right, _ = pearsonr(epoch_scores, right_targets)\n",
      "/var/folders/qx/1c8hj9_92533cb1kgn4q_yt80000gn/T/ipykernel_23207/2882666468.py:172: ConstantInputWarning: An input array is constant; the correlation coefficient is not defined.\n",
      "  corr_left, _ = pearsonr(epoch_scores, left_targets)\n",
      "/var/folders/qx/1c8hj9_92533cb1kgn4q_yt80000gn/T/ipykernel_23207/2882666468.py:173: ConstantInputWarning: An input array is constant; the correlation coefficient is not defined.\n",
      "  corr_right, _ = pearsonr(epoch_scores, right_targets)\n",
      "/var/folders/qx/1c8hj9_92533cb1kgn4q_yt80000gn/T/ipykernel_23207/2882666468.py:172: ConstantInputWarning: An input array is constant; the correlation coefficient is not defined.\n",
      "  corr_left, _ = pearsonr(epoch_scores, left_targets)\n",
      "/var/folders/qx/1c8hj9_92533cb1kgn4q_yt80000gn/T/ipykernel_23207/2882666468.py:173: ConstantInputWarning: An input array is constant; the correlation coefficient is not defined.\n",
      "  corr_right, _ = pearsonr(epoch_scores, right_targets)\n",
      "/var/folders/qx/1c8hj9_92533cb1kgn4q_yt80000gn/T/ipykernel_23207/2882666468.py:172: ConstantInputWarning: An input array is constant; the correlation coefficient is not defined.\n",
      "  corr_left, _ = pearsonr(epoch_scores, left_targets)\n",
      "/var/folders/qx/1c8hj9_92533cb1kgn4q_yt80000gn/T/ipykernel_23207/2882666468.py:173: ConstantInputWarning: An input array is constant; the correlation coefficient is not defined.\n",
      "  corr_right, _ = pearsonr(epoch_scores, right_targets)\n",
      "/var/folders/qx/1c8hj9_92533cb1kgn4q_yt80000gn/T/ipykernel_23207/2882666468.py:172: ConstantInputWarning: An input array is constant; the correlation coefficient is not defined.\n",
      "  corr_left, _ = pearsonr(epoch_scores, left_targets)\n",
      "/var/folders/qx/1c8hj9_92533cb1kgn4q_yt80000gn/T/ipykernel_23207/2882666468.py:173: ConstantInputWarning: An input array is constant; the correlation coefficient is not defined.\n",
      "  corr_right, _ = pearsonr(epoch_scores, right_targets)\n",
      "/var/folders/qx/1c8hj9_92533cb1kgn4q_yt80000gn/T/ipykernel_23207/2882666468.py:172: ConstantInputWarning: An input array is constant; the correlation coefficient is not defined.\n",
      "  corr_left, _ = pearsonr(epoch_scores, left_targets)\n",
      "/var/folders/qx/1c8hj9_92533cb1kgn4q_yt80000gn/T/ipykernel_23207/2882666468.py:173: ConstantInputWarning: An input array is constant; the correlation coefficient is not defined.\n",
      "  corr_right, _ = pearsonr(epoch_scores, right_targets)\n"
     ]
    },
    {
     "name": "stdout",
     "output_type": "stream",
     "text": [
      "Shape of combined_features_trn: (60, 66)\n",
      "Shape of combined_features_tst: (20, 66)\n",
      "Fold 2 Accuracy: 0.850\n",
      "  Fold 3/4\n",
      "Shape of epochs_trn: (60, 80, 64, 108)\n",
      "Shape of epochs_tst: (20, 80, 64, 108)\n",
      "Shape of X_clean_trn: (60, 80, 64, 108)\n",
      "Shape of X_clean_tst: (20, 80, 64, 108)\n",
      "Shape of features_trn: (60, 80, 64, 6)\n",
      "Shape of features_tst: (20, 80, 64, 6)\n",
      "Shape of X_trn_epochs (this is fed into LDA): (4800, 384)\n",
      "Shape of y_trn_epochs (this is fed into LDA): (4800,)\n"
     ]
    },
    {
     "name": "stderr",
     "output_type": "stream",
     "text": [
      "/var/folders/qx/1c8hj9_92533cb1kgn4q_yt80000gn/T/ipykernel_23207/2882666468.py:172: ConstantInputWarning: An input array is constant; the correlation coefficient is not defined.\n",
      "  corr_left, _ = pearsonr(epoch_scores, left_targets)\n",
      "/var/folders/qx/1c8hj9_92533cb1kgn4q_yt80000gn/T/ipykernel_23207/2882666468.py:173: ConstantInputWarning: An input array is constant; the correlation coefficient is not defined.\n",
      "  corr_right, _ = pearsonr(epoch_scores, right_targets)\n",
      "/var/folders/qx/1c8hj9_92533cb1kgn4q_yt80000gn/T/ipykernel_23207/2882666468.py:172: ConstantInputWarning: An input array is constant; the correlation coefficient is not defined.\n",
      "  corr_left, _ = pearsonr(epoch_scores, left_targets)\n",
      "/var/folders/qx/1c8hj9_92533cb1kgn4q_yt80000gn/T/ipykernel_23207/2882666468.py:173: ConstantInputWarning: An input array is constant; the correlation coefficient is not defined.\n",
      "  corr_right, _ = pearsonr(epoch_scores, right_targets)\n",
      "/var/folders/qx/1c8hj9_92533cb1kgn4q_yt80000gn/T/ipykernel_23207/2882666468.py:172: ConstantInputWarning: An input array is constant; the correlation coefficient is not defined.\n",
      "  corr_left, _ = pearsonr(epoch_scores, left_targets)\n",
      "/var/folders/qx/1c8hj9_92533cb1kgn4q_yt80000gn/T/ipykernel_23207/2882666468.py:173: ConstantInputWarning: An input array is constant; the correlation coefficient is not defined.\n",
      "  corr_right, _ = pearsonr(epoch_scores, right_targets)\n",
      "/var/folders/qx/1c8hj9_92533cb1kgn4q_yt80000gn/T/ipykernel_23207/2882666468.py:172: ConstantInputWarning: An input array is constant; the correlation coefficient is not defined.\n",
      "  corr_left, _ = pearsonr(epoch_scores, left_targets)\n",
      "/var/folders/qx/1c8hj9_92533cb1kgn4q_yt80000gn/T/ipykernel_23207/2882666468.py:173: ConstantInputWarning: An input array is constant; the correlation coefficient is not defined.\n",
      "  corr_right, _ = pearsonr(epoch_scores, right_targets)\n",
      "/var/folders/qx/1c8hj9_92533cb1kgn4q_yt80000gn/T/ipykernel_23207/2882666468.py:172: ConstantInputWarning: An input array is constant; the correlation coefficient is not defined.\n",
      "  corr_left, _ = pearsonr(epoch_scores, left_targets)\n",
      "/var/folders/qx/1c8hj9_92533cb1kgn4q_yt80000gn/T/ipykernel_23207/2882666468.py:173: ConstantInputWarning: An input array is constant; the correlation coefficient is not defined.\n",
      "  corr_right, _ = pearsonr(epoch_scores, right_targets)\n",
      "/var/folders/qx/1c8hj9_92533cb1kgn4q_yt80000gn/T/ipykernel_23207/2882666468.py:172: ConstantInputWarning: An input array is constant; the correlation coefficient is not defined.\n",
      "  corr_left, _ = pearsonr(epoch_scores, left_targets)\n",
      "/var/folders/qx/1c8hj9_92533cb1kgn4q_yt80000gn/T/ipykernel_23207/2882666468.py:173: ConstantInputWarning: An input array is constant; the correlation coefficient is not defined.\n",
      "  corr_right, _ = pearsonr(epoch_scores, right_targets)\n",
      "/var/folders/qx/1c8hj9_92533cb1kgn4q_yt80000gn/T/ipykernel_23207/2882666468.py:172: ConstantInputWarning: An input array is constant; the correlation coefficient is not defined.\n",
      "  corr_left, _ = pearsonr(epoch_scores, left_targets)\n",
      "/var/folders/qx/1c8hj9_92533cb1kgn4q_yt80000gn/T/ipykernel_23207/2882666468.py:173: ConstantInputWarning: An input array is constant; the correlation coefficient is not defined.\n",
      "  corr_right, _ = pearsonr(epoch_scores, right_targets)\n",
      "/var/folders/qx/1c8hj9_92533cb1kgn4q_yt80000gn/T/ipykernel_23207/2882666468.py:172: ConstantInputWarning: An input array is constant; the correlation coefficient is not defined.\n",
      "  corr_left, _ = pearsonr(epoch_scores, left_targets)\n",
      "/var/folders/qx/1c8hj9_92533cb1kgn4q_yt80000gn/T/ipykernel_23207/2882666468.py:173: ConstantInputWarning: An input array is constant; the correlation coefficient is not defined.\n",
      "  corr_right, _ = pearsonr(epoch_scores, right_targets)\n",
      "/var/folders/qx/1c8hj9_92533cb1kgn4q_yt80000gn/T/ipykernel_23207/2882666468.py:172: ConstantInputWarning: An input array is constant; the correlation coefficient is not defined.\n",
      "  corr_left, _ = pearsonr(epoch_scores, left_targets)\n",
      "/var/folders/qx/1c8hj9_92533cb1kgn4q_yt80000gn/T/ipykernel_23207/2882666468.py:173: ConstantInputWarning: An input array is constant; the correlation coefficient is not defined.\n",
      "  corr_right, _ = pearsonr(epoch_scores, right_targets)\n",
      "/var/folders/qx/1c8hj9_92533cb1kgn4q_yt80000gn/T/ipykernel_23207/2882666468.py:172: ConstantInputWarning: An input array is constant; the correlation coefficient is not defined.\n",
      "  corr_left, _ = pearsonr(epoch_scores, left_targets)\n",
      "/var/folders/qx/1c8hj9_92533cb1kgn4q_yt80000gn/T/ipykernel_23207/2882666468.py:173: ConstantInputWarning: An input array is constant; the correlation coefficient is not defined.\n",
      "  corr_right, _ = pearsonr(epoch_scores, right_targets)\n",
      "/var/folders/qx/1c8hj9_92533cb1kgn4q_yt80000gn/T/ipykernel_23207/2882666468.py:172: ConstantInputWarning: An input array is constant; the correlation coefficient is not defined.\n",
      "  corr_left, _ = pearsonr(epoch_scores, left_targets)\n",
      "/var/folders/qx/1c8hj9_92533cb1kgn4q_yt80000gn/T/ipykernel_23207/2882666468.py:173: ConstantInputWarning: An input array is constant; the correlation coefficient is not defined.\n",
      "  corr_right, _ = pearsonr(epoch_scores, right_targets)\n",
      "/var/folders/qx/1c8hj9_92533cb1kgn4q_yt80000gn/T/ipykernel_23207/2882666468.py:172: ConstantInputWarning: An input array is constant; the correlation coefficient is not defined.\n",
      "  corr_left, _ = pearsonr(epoch_scores, left_targets)\n",
      "/var/folders/qx/1c8hj9_92533cb1kgn4q_yt80000gn/T/ipykernel_23207/2882666468.py:173: ConstantInputWarning: An input array is constant; the correlation coefficient is not defined.\n",
      "  corr_right, _ = pearsonr(epoch_scores, right_targets)\n",
      "/var/folders/qx/1c8hj9_92533cb1kgn4q_yt80000gn/T/ipykernel_23207/2882666468.py:172: ConstantInputWarning: An input array is constant; the correlation coefficient is not defined.\n",
      "  corr_left, _ = pearsonr(epoch_scores, left_targets)\n",
      "/var/folders/qx/1c8hj9_92533cb1kgn4q_yt80000gn/T/ipykernel_23207/2882666468.py:173: ConstantInputWarning: An input array is constant; the correlation coefficient is not defined.\n",
      "  corr_right, _ = pearsonr(epoch_scores, right_targets)\n"
     ]
    },
    {
     "name": "stdout",
     "output_type": "stream",
     "text": [
      "Shape of combined_features_trn: (60, 66)\n",
      "Shape of combined_features_tst: (20, 66)\n",
      "Fold 3 Accuracy: 0.750\n",
      "  Fold 4/4\n",
      "Shape of epochs_trn: (60, 80, 64, 108)\n",
      "Shape of epochs_tst: (20, 80, 64, 108)\n",
      "Shape of X_clean_trn: (60, 80, 64, 108)\n",
      "Shape of X_clean_tst: (20, 80, 64, 108)\n",
      "Shape of features_trn: (60, 80, 64, 6)\n",
      "Shape of features_tst: (20, 80, 64, 6)\n",
      "Shape of X_trn_epochs (this is fed into LDA): (4800, 384)\n",
      "Shape of y_trn_epochs (this is fed into LDA): (4800,)\n"
     ]
    },
    {
     "name": "stderr",
     "output_type": "stream",
     "text": [
      "/var/folders/qx/1c8hj9_92533cb1kgn4q_yt80000gn/T/ipykernel_23207/2882666468.py:172: ConstantInputWarning: An input array is constant; the correlation coefficient is not defined.\n",
      "  corr_left, _ = pearsonr(epoch_scores, left_targets)\n",
      "/var/folders/qx/1c8hj9_92533cb1kgn4q_yt80000gn/T/ipykernel_23207/2882666468.py:173: ConstantInputWarning: An input array is constant; the correlation coefficient is not defined.\n",
      "  corr_right, _ = pearsonr(epoch_scores, right_targets)\n",
      "/var/folders/qx/1c8hj9_92533cb1kgn4q_yt80000gn/T/ipykernel_23207/2882666468.py:172: ConstantInputWarning: An input array is constant; the correlation coefficient is not defined.\n",
      "  corr_left, _ = pearsonr(epoch_scores, left_targets)\n",
      "/var/folders/qx/1c8hj9_92533cb1kgn4q_yt80000gn/T/ipykernel_23207/2882666468.py:173: ConstantInputWarning: An input array is constant; the correlation coefficient is not defined.\n",
      "  corr_right, _ = pearsonr(epoch_scores, right_targets)\n",
      "/var/folders/qx/1c8hj9_92533cb1kgn4q_yt80000gn/T/ipykernel_23207/2882666468.py:172: ConstantInputWarning: An input array is constant; the correlation coefficient is not defined.\n",
      "  corr_left, _ = pearsonr(epoch_scores, left_targets)\n",
      "/var/folders/qx/1c8hj9_92533cb1kgn4q_yt80000gn/T/ipykernel_23207/2882666468.py:173: ConstantInputWarning: An input array is constant; the correlation coefficient is not defined.\n",
      "  corr_right, _ = pearsonr(epoch_scores, right_targets)\n",
      "/var/folders/qx/1c8hj9_92533cb1kgn4q_yt80000gn/T/ipykernel_23207/2882666468.py:172: ConstantInputWarning: An input array is constant; the correlation coefficient is not defined.\n",
      "  corr_left, _ = pearsonr(epoch_scores, left_targets)\n",
      "/var/folders/qx/1c8hj9_92533cb1kgn4q_yt80000gn/T/ipykernel_23207/2882666468.py:173: ConstantInputWarning: An input array is constant; the correlation coefficient is not defined.\n",
      "  corr_right, _ = pearsonr(epoch_scores, right_targets)\n",
      "/var/folders/qx/1c8hj9_92533cb1kgn4q_yt80000gn/T/ipykernel_23207/2882666468.py:172: ConstantInputWarning: An input array is constant; the correlation coefficient is not defined.\n",
      "  corr_left, _ = pearsonr(epoch_scores, left_targets)\n",
      "/var/folders/qx/1c8hj9_92533cb1kgn4q_yt80000gn/T/ipykernel_23207/2882666468.py:173: ConstantInputWarning: An input array is constant; the correlation coefficient is not defined.\n",
      "  corr_right, _ = pearsonr(epoch_scores, right_targets)\n",
      "/var/folders/qx/1c8hj9_92533cb1kgn4q_yt80000gn/T/ipykernel_23207/2882666468.py:172: ConstantInputWarning: An input array is constant; the correlation coefficient is not defined.\n",
      "  corr_left, _ = pearsonr(epoch_scores, left_targets)\n",
      "/var/folders/qx/1c8hj9_92533cb1kgn4q_yt80000gn/T/ipykernel_23207/2882666468.py:173: ConstantInputWarning: An input array is constant; the correlation coefficient is not defined.\n",
      "  corr_right, _ = pearsonr(epoch_scores, right_targets)\n",
      "/var/folders/qx/1c8hj9_92533cb1kgn4q_yt80000gn/T/ipykernel_23207/2882666468.py:172: ConstantInputWarning: An input array is constant; the correlation coefficient is not defined.\n",
      "  corr_left, _ = pearsonr(epoch_scores, left_targets)\n",
      "/var/folders/qx/1c8hj9_92533cb1kgn4q_yt80000gn/T/ipykernel_23207/2882666468.py:173: ConstantInputWarning: An input array is constant; the correlation coefficient is not defined.\n",
      "  corr_right, _ = pearsonr(epoch_scores, right_targets)\n",
      "/var/folders/qx/1c8hj9_92533cb1kgn4q_yt80000gn/T/ipykernel_23207/2882666468.py:172: ConstantInputWarning: An input array is constant; the correlation coefficient is not defined.\n",
      "  corr_left, _ = pearsonr(epoch_scores, left_targets)\n",
      "/var/folders/qx/1c8hj9_92533cb1kgn4q_yt80000gn/T/ipykernel_23207/2882666468.py:173: ConstantInputWarning: An input array is constant; the correlation coefficient is not defined.\n",
      "  corr_right, _ = pearsonr(epoch_scores, right_targets)\n",
      "/var/folders/qx/1c8hj9_92533cb1kgn4q_yt80000gn/T/ipykernel_23207/2882666468.py:172: ConstantInputWarning: An input array is constant; the correlation coefficient is not defined.\n",
      "  corr_left, _ = pearsonr(epoch_scores, left_targets)\n",
      "/var/folders/qx/1c8hj9_92533cb1kgn4q_yt80000gn/T/ipykernel_23207/2882666468.py:173: ConstantInputWarning: An input array is constant; the correlation coefficient is not defined.\n",
      "  corr_right, _ = pearsonr(epoch_scores, right_targets)\n",
      "/var/folders/qx/1c8hj9_92533cb1kgn4q_yt80000gn/T/ipykernel_23207/2882666468.py:172: ConstantInputWarning: An input array is constant; the correlation coefficient is not defined.\n",
      "  corr_left, _ = pearsonr(epoch_scores, left_targets)\n",
      "/var/folders/qx/1c8hj9_92533cb1kgn4q_yt80000gn/T/ipykernel_23207/2882666468.py:173: ConstantInputWarning: An input array is constant; the correlation coefficient is not defined.\n",
      "  corr_right, _ = pearsonr(epoch_scores, right_targets)\n",
      "/var/folders/qx/1c8hj9_92533cb1kgn4q_yt80000gn/T/ipykernel_23207/2882666468.py:172: ConstantInputWarning: An input array is constant; the correlation coefficient is not defined.\n",
      "  corr_left, _ = pearsonr(epoch_scores, left_targets)\n",
      "/var/folders/qx/1c8hj9_92533cb1kgn4q_yt80000gn/T/ipykernel_23207/2882666468.py:173: ConstantInputWarning: An input array is constant; the correlation coefficient is not defined.\n",
      "  corr_right, _ = pearsonr(epoch_scores, right_targets)\n",
      "/var/folders/qx/1c8hj9_92533cb1kgn4q_yt80000gn/T/ipykernel_23207/2882666468.py:172: ConstantInputWarning: An input array is constant; the correlation coefficient is not defined.\n",
      "  corr_left, _ = pearsonr(epoch_scores, left_targets)\n",
      "/var/folders/qx/1c8hj9_92533cb1kgn4q_yt80000gn/T/ipykernel_23207/2882666468.py:173: ConstantInputWarning: An input array is constant; the correlation coefficient is not defined.\n",
      "  corr_right, _ = pearsonr(epoch_scores, right_targets)\n",
      "/var/folders/qx/1c8hj9_92533cb1kgn4q_yt80000gn/T/ipykernel_23207/2882666468.py:172: ConstantInputWarning: An input array is constant; the correlation coefficient is not defined.\n",
      "  corr_left, _ = pearsonr(epoch_scores, left_targets)\n",
      "/var/folders/qx/1c8hj9_92533cb1kgn4q_yt80000gn/T/ipykernel_23207/2882666468.py:173: ConstantInputWarning: An input array is constant; the correlation coefficient is not defined.\n",
      "  corr_right, _ = pearsonr(epoch_scores, right_targets)\n",
      "/var/folders/qx/1c8hj9_92533cb1kgn4q_yt80000gn/T/ipykernel_23207/2882666468.py:172: ConstantInputWarning: An input array is constant; the correlation coefficient is not defined.\n",
      "  corr_left, _ = pearsonr(epoch_scores, left_targets)\n",
      "/var/folders/qx/1c8hj9_92533cb1kgn4q_yt80000gn/T/ipykernel_23207/2882666468.py:173: ConstantInputWarning: An input array is constant; the correlation coefficient is not defined.\n",
      "  corr_right, _ = pearsonr(epoch_scores, right_targets)\n",
      "/var/folders/qx/1c8hj9_92533cb1kgn4q_yt80000gn/T/ipykernel_23207/2882666468.py:172: ConstantInputWarning: An input array is constant; the correlation coefficient is not defined.\n",
      "  corr_left, _ = pearsonr(epoch_scores, left_targets)\n",
      "/var/folders/qx/1c8hj9_92533cb1kgn4q_yt80000gn/T/ipykernel_23207/2882666468.py:173: ConstantInputWarning: An input array is constant; the correlation coefficient is not defined.\n",
      "  corr_right, _ = pearsonr(epoch_scores, right_targets)\n",
      "/var/folders/qx/1c8hj9_92533cb1kgn4q_yt80000gn/T/ipykernel_23207/2882666468.py:172: ConstantInputWarning: An input array is constant; the correlation coefficient is not defined.\n",
      "  corr_left, _ = pearsonr(epoch_scores, left_targets)\n",
      "/var/folders/qx/1c8hj9_92533cb1kgn4q_yt80000gn/T/ipykernel_23207/2882666468.py:173: ConstantInputWarning: An input array is constant; the correlation coefficient is not defined.\n",
      "  corr_right, _ = pearsonr(epoch_scores, right_targets)\n",
      "/var/folders/qx/1c8hj9_92533cb1kgn4q_yt80000gn/T/ipykernel_23207/2882666468.py:172: ConstantInputWarning: An input array is constant; the correlation coefficient is not defined.\n",
      "  corr_left, _ = pearsonr(epoch_scores, left_targets)\n",
      "/var/folders/qx/1c8hj9_92533cb1kgn4q_yt80000gn/T/ipykernel_23207/2882666468.py:173: ConstantInputWarning: An input array is constant; the correlation coefficient is not defined.\n",
      "  corr_right, _ = pearsonr(epoch_scores, right_targets)\n",
      "/var/folders/qx/1c8hj9_92533cb1kgn4q_yt80000gn/T/ipykernel_23207/2882666468.py:172: ConstantInputWarning: An input array is constant; the correlation coefficient is not defined.\n",
      "  corr_left, _ = pearsonr(epoch_scores, left_targets)\n",
      "/var/folders/qx/1c8hj9_92533cb1kgn4q_yt80000gn/T/ipykernel_23207/2882666468.py:173: ConstantInputWarning: An input array is constant; the correlation coefficient is not defined.\n",
      "  corr_right, _ = pearsonr(epoch_scores, right_targets)\n"
     ]
    },
    {
     "name": "stdout",
     "output_type": "stream",
     "text": [
      "Shape of combined_features_trn: (60, 66)\n",
      "Shape of combined_features_tst: (20, 66)\n",
      "Fold 4 Accuracy: 0.850\n",
      "Average Accuracy for VPpdir: 0.810\n",
      "Processing VPpdis...\n",
      "  Fold 1/4\n",
      "Shape of epochs_trn: (60, 80, 64, 108)\n",
      "Shape of epochs_tst: (20, 80, 64, 108)\n",
      "Shape of X_clean_trn: (60, 80, 64, 108)\n",
      "Shape of X_clean_tst: (20, 80, 64, 108)\n",
      "Shape of features_trn: (60, 80, 64, 6)\n",
      "Shape of features_tst: (20, 80, 64, 6)\n",
      "Shape of X_trn_epochs (this is fed into LDA): (4800, 384)\n",
      "Shape of y_trn_epochs (this is fed into LDA): (4800,)\n",
      "Shape of combined_features_trn: (60, 66)\n",
      "Shape of combined_features_tst: (20, 66)\n",
      "Fold 1 Accuracy: 0.500\n",
      "  Fold 2/4\n",
      "Shape of epochs_trn: (60, 80, 64, 108)\n",
      "Shape of epochs_tst: (20, 80, 64, 108)\n",
      "Shape of X_clean_trn: (60, 80, 64, 108)\n",
      "Shape of X_clean_tst: (20, 80, 64, 108)\n",
      "Shape of features_trn: (60, 80, 64, 6)\n",
      "Shape of features_tst: (20, 80, 64, 6)\n",
      "Shape of X_trn_epochs (this is fed into LDA): (4800, 384)\n",
      "Shape of y_trn_epochs (this is fed into LDA): (4800,)\n",
      "Shape of combined_features_trn: (60, 66)\n",
      "Shape of combined_features_tst: (20, 66)\n",
      "Fold 2 Accuracy: 0.500\n",
      "  Fold 3/4\n",
      "Shape of epochs_trn: (60, 80, 64, 108)\n",
      "Shape of epochs_tst: (20, 80, 64, 108)\n",
      "Shape of X_clean_trn: (60, 80, 64, 108)\n",
      "Shape of X_clean_tst: (20, 80, 64, 108)\n",
      "Shape of features_trn: (60, 80, 64, 6)\n",
      "Shape of features_tst: (20, 80, 64, 6)\n",
      "Shape of X_trn_epochs (this is fed into LDA): (4800, 384)\n",
      "Shape of y_trn_epochs (this is fed into LDA): (4800,)\n",
      "Shape of combined_features_trn: (60, 66)\n",
      "Shape of combined_features_tst: (20, 66)\n",
      "Fold 3 Accuracy: 1.000\n",
      "  Fold 4/4\n",
      "Shape of epochs_trn: (60, 80, 64, 108)\n",
      "Shape of epochs_tst: (20, 80, 64, 108)\n",
      "Shape of X_clean_trn: (60, 80, 64, 108)\n",
      "Shape of X_clean_tst: (20, 80, 64, 108)\n",
      "Shape of features_trn: (60, 80, 64, 6)\n",
      "Shape of features_tst: (20, 80, 64, 6)\n",
      "Shape of X_trn_epochs (this is fed into LDA): (4800, 384)\n",
      "Shape of y_trn_epochs (this is fed into LDA): (4800,)\n",
      "Shape of combined_features_trn: (60, 66)\n",
      "Shape of combined_features_tst: (20, 66)\n",
      "Fold 4 Accuracy: 0.800\n",
      "Average Accuracy for VPpdis: 0.700\n",
      "Processing VPpdit...\n",
      "  Fold 1/4\n",
      "Shape of epochs_trn: (60, 80, 64, 108)\n",
      "Shape of epochs_tst: (20, 80, 64, 108)\n",
      "Shape of X_clean_trn: (60, 80, 64, 108)\n",
      "Shape of X_clean_tst: (20, 80, 64, 108)\n",
      "Shape of features_trn: (60, 80, 64, 6)\n",
      "Shape of features_tst: (20, 80, 64, 6)\n",
      "Shape of X_trn_epochs (this is fed into LDA): (4800, 384)\n",
      "Shape of y_trn_epochs (this is fed into LDA): (4800,)\n",
      "Shape of combined_features_trn: (60, 66)\n",
      "Shape of combined_features_tst: (20, 66)\n",
      "Fold 1 Accuracy: 0.500\n",
      "  Fold 2/4\n",
      "Shape of epochs_trn: (60, 80, 64, 108)\n",
      "Shape of epochs_tst: (20, 80, 64, 108)\n",
      "Shape of X_clean_trn: (60, 80, 64, 108)\n",
      "Shape of X_clean_tst: (20, 80, 64, 108)\n",
      "Shape of features_trn: (60, 80, 64, 6)\n",
      "Shape of features_tst: (20, 80, 64, 6)\n",
      "Shape of X_trn_epochs (this is fed into LDA): (4800, 384)\n",
      "Shape of y_trn_epochs (this is fed into LDA): (4800,)\n",
      "Shape of combined_features_trn: (60, 66)\n",
      "Shape of combined_features_tst: (20, 66)\n",
      "Fold 2 Accuracy: 0.950\n",
      "  Fold 3/4\n",
      "Shape of epochs_trn: (60, 80, 64, 108)\n",
      "Shape of epochs_tst: (20, 80, 64, 108)\n",
      "Shape of X_clean_trn: (60, 80, 64, 108)\n",
      "Shape of X_clean_tst: (20, 80, 64, 108)\n",
      "Shape of features_trn: (60, 80, 64, 6)\n",
      "Shape of features_tst: (20, 80, 64, 6)\n",
      "Shape of X_trn_epochs (this is fed into LDA): (4800, 384)\n",
      "Shape of y_trn_epochs (this is fed into LDA): (4800,)\n",
      "Shape of combined_features_trn: (60, 66)\n",
      "Shape of combined_features_tst: (20, 66)\n",
      "Fold 3 Accuracy: 0.700\n",
      "  Fold 4/4\n",
      "Shape of epochs_trn: (60, 80, 64, 108)\n",
      "Shape of epochs_tst: (20, 80, 64, 108)\n",
      "Shape of X_clean_trn: (60, 80, 64, 108)\n",
      "Shape of X_clean_tst: (20, 80, 64, 108)\n",
      "Shape of features_trn: (60, 80, 64, 6)\n",
      "Shape of features_tst: (20, 80, 64, 6)\n",
      "Shape of X_trn_epochs (this is fed into LDA): (4800, 384)\n",
      "Shape of y_trn_epochs (this is fed into LDA): (4800,)\n",
      "Shape of combined_features_trn: (60, 66)\n",
      "Shape of combined_features_tst: (20, 66)\n",
      "Fold 4 Accuracy: 1.000\n",
      "Average Accuracy for VPpdit: 0.790\n",
      "Overall LDA accuracy with PSD: 0.68 ± 0.05\n"
     ]
    }
   ],
   "source": [
    "import numpy as np\n",
    "import os\n",
    "from sklearn.discriminant_analysis import LinearDiscriminantAnalysis as LDA\n",
    "from mne.time_frequency import psd_array_multitaper\n",
    "import warnings\n",
    "import mne\n",
    "from sklearn.covariance import LedoitWolf\n",
    "from scipy.signal import welch\n",
    "from sklearn.metrics import precision_recall_curve, auc\n",
    "from scipy.stats import pearsonr\n",
    "\n",
    "\n",
    "\n",
    "# Suppress all warnings\n",
    "mne.set_log_level('warning')\n",
    "\n",
    "# Directory containing the preprocessed data\n",
    "file_dir = '/Users/juliette/Desktop/thesis/preprocessing/hybrid_preprocessing'\n",
    "decoding_results_dir = '/Users/juliette/Desktop/thesis/results/alpha+p300'\n",
    "\n",
    "# Define the alpha range for PSD calculation\n",
    "min_bin = 8\n",
    "max_bin = 12\n",
    "rejection_threshold = 60e-6\n",
    "discard_threshold = 20\n",
    "\n",
    "\n",
    "# Initialize results storage\n",
    "results = []\n",
    "fold_pr_auc = []\n",
    "fold_correct_trials = []\n",
    "\n",
    "# List of subjects\n",
    "subjects = [\"VPpdia\", \"VPpdib\", \"VPpdic\", \"VPpdid\", \"VPpdie\", \"VPpdif\", \"VPpdig\", \"VPpdih\", \"VPpdii\", \"VPpdij\",\n",
    "            \"VPpdik\", \"VPpdil\", \"VPpdim\", \"VPpdin\", \"VPpdio\", \"VPpdip\", \"VPpdiq\", \"VPpdir\", \"VPpdis\", \"VPpdit\",\n",
    "            \"VPpdiu\", \"VPpdiv\", \"VPpdiw\", \"VPpdix\", \"VPpdiy\", \"VPpdiz\", \"VPpdiza\", \"VPpdizb\", \"VPpdizc\"]\n",
    "\n",
    "subjects = [\"VPpdik\", \"VPpdil\", \"VPpdim\", \"VPpdin\", \"VPpdio\", \"VPpdip\", \"VPpdiq\", \"VPpdir\", \"VPpdis\", \"VPpdit\"]\n",
    "# Load Data for each subject\n",
    "for subject in subjects:\n",
    "    print(f\"Processing {subject}...\")\n",
    "    # Load preprocessed data\n",
    "    fn = os.path.join(file_dir, f\"sub-{subject}_task-covert_c-VEP+P300_ICA.npz\")\n",
    "    tmp = np.load(fn)\n",
    "\n",
    "    X = tmp[\"X\"]  # EEG data matrix (trials, channels, samples)\n",
    "    y = tmp[\"y\"]  # Labels\n",
    "    z = tmp[\"z\"]  # Target presence (trials, epochs, sides)\n",
    "    V = tmp[\"V\"]  # One code cycle (classes, samples)\n",
    "    fs = tmp[\"fs\"].flatten()[0]\n",
    "    nyquist_freq = fs // 2\n",
    "\n",
    "    # Cross-validation\n",
    "    fold_accuracies = []\n",
    "    n_folds = 4\n",
    "    n_trials = X.shape[0] // n_folds\n",
    "    folds = np.repeat(np.arange(n_folds), n_trials)\n",
    "\n",
    "    new_feature_vectors = []\n",
    "\n",
    "    for i_fold in range(n_folds):\n",
    "        print(f\"  Fold {i_fold + 1}/{n_folds}\")\n",
    "\n",
    "        # Split train and test data\n",
    "        X_trn, y_trn, z_trn = X[folds != i_fold, :, :], y[folds != i_fold], z[folds != i_fold, :, :]\n",
    "        X_tst, y_tst, z_tst = X[folds == i_fold, :, :], y[folds == i_fold], z[folds == i_fold, :, :]\n",
    "\n",
    "        \n",
    "        # --- P300 ---\n",
    "        # - Obtaining target-locked epochs - \n",
    "        \n",
    "        # Extract epochs\n",
    "        epochs_trn, bad_epochs_trn = extract_epochs(X_trn, amplitude_threshold=rejection_threshold)\n",
    "        epochs_tst, bad_epochs_tst = extract_epochs(X_tst, amplitude_threshold=rejection_threshold)\n",
    "        print(\"Shape of epochs_trn:\", epochs_trn.shape)\n",
    "        print(\"Shape of epochs_tst:\", epochs_tst.shape)\n",
    "\n",
    "        # Mark bad epochs in both EEG data and labels\n",
    "        X_clean_trn, z_clean_trn = mark_bad_epochs(epochs_trn, z_trn, bad_epochs_trn)\n",
    "        X_clean_tst, z_clean_tst = mark_bad_epochs(epochs_tst, z_tst, bad_epochs_tst)\n",
    "        print(\"Shape of X_clean_trn:\", X_clean_trn.shape)\n",
    "        print(\"Shape of X_clean_tst:\", X_clean_tst.shape)\n",
    "        \n",
    "        # Extract features from valid epochs. Shape: (trials, epochs, channels, samples)\n",
    "        ToI = [(30, 38), (38, 48), (48, 57), (57, 69), (69, 87), (87, 108)]\n",
    "        features_trn = extract_features_from_X(X_clean_trn, ToI)\n",
    "        features_tst = extract_features_from_X(X_clean_tst, ToI)\n",
    "        print(\"Shape of features_trn:\", features_trn.shape)\n",
    "        print(\"Shape of features_tst:\", features_tst.shape)\n",
    "        \n",
    "        # - Training -\n",
    "        # Flatten training trials into epochs: shape becomes (n_trials * epochs, channel * features)\n",
    "        features_trn = features_trn.reshape(-1, features_trn.shape[2] * features_trn.shape[3])\n",
    "        \n",
    "        # Extract labels for training epochs using z and y \n",
    "        trial_indices_trn = np.arange(len(y_trn))  # indices for trials\n",
    "        y_trn_epochs = z_trn[trial_indices_trn, :, y_trn].reshape(-1)\n",
    "        \n",
    "        X_trn_epochs = np.nan_to_num(features_trn, nan=0)\n",
    "        y_trn_epochs = np.nan_to_num(y_trn_epochs, nan=0)\n",
    "        \n",
    "        print(\"Shape of X_trn_epochs (this is fed into LDA):\", X_trn_epochs.shape)\n",
    "        print(\"Shape of y_trn_epochs (this is fed into LDA):\", y_trn_epochs.shape)\n",
    "        \n",
    "        # Fit LDA\n",
    "        lda = LDA(solver=\"lsqr\", covariance_estimator=LedoitWolf())\n",
    "        lda.fit(X_trn_epochs, y_trn_epochs)  # Dimensionality bust be 2\n",
    "\n",
    "        # - Testing -\n",
    "        # Flatten testing trials into epochs\n",
    "        X_tst_epochs = features_tst.reshape(-1, features_tst.shape[2] * features_tst.shape[3])\n",
    "        \n",
    "        # Extract labels for testing epochs (again, using z and y for indexing)\n",
    "        trial_indices_tst = np.arange(len(y_tst))\n",
    "        y_tst_epochs = z_tst[trial_indices_tst, :, y_tst].reshape(-1)\n",
    "        \n",
    "        # Reshape z_tst_trials into epochs.\n",
    "        z_tst_epochs = z_tst.reshape(len(y_tst) * z_tst.shape[1], 2)\n",
    "        \n",
    "        # Filter testing epochs and also retrieve the original mask so we can count epochs per trial\n",
    "        X_tst_epochs = np.nan_to_num(X_tst_epochs, nan=0)\n",
    "        y_tst_epochs = np.nan_to_num(y_tst_epochs, nan=0)\n",
    "        \n",
    "        # Filter testing epochs and also retrieve the original mask so we can count epochs per trial\n",
    "        X_tst_epochs, y_tst_epochs, z_tst_epochs, combined_mask_tst = filter_valid_epochs(\n",
    "            X_tst_epochs, y_tst_epochs, z=z_tst_epochs, return_mask=True\n",
    "        )\n",
    "        \n",
    "        # Calculate the number of preserved epochs per trial for testing.\n",
    "        # Here, combined_mask_tst still has the original shape before filtering.\n",
    "        # Reshape it to [n_trials, epochs_per_trial] and sum True values per trial.\n",
    "        epoch_counts = combined_mask_tst.reshape(len(y_tst), -1)\n",
    "        num_epochs = np.sum(epoch_counts, axis=1)\n",
    "        \n",
    "        # Rebuild trial structure for testing data based on num_epochs\n",
    "        nested_X_tst_trials = []\n",
    "        nested_z_tst_epochs = []\n",
    "        start_idx = 0\n",
    "        for trial_idx, n_ep in enumerate(num_epochs):\n",
    "            end_idx = start_idx + n_ep\n",
    "            nested_X_tst_trials.append(X_tst_epochs[start_idx:end_idx])\n",
    "            nested_z_tst_epochs.append(z_tst_epochs[start_idx:end_idx])\n",
    "            start_idx = end_idx\n",
    "        \n",
    "\n",
    "        # Evaluate model on test data\n",
    "        correct_trials = 0\n",
    "        \n",
    "        for t_idx in range(len(y_tst)):\n",
    "\n",
    "            num_preserved_epochs = num_epochs[t_idx]\n",
    "            if num_preserved_epochs < discard_threshold:\n",
    "                discarded_trial_counter +=1\n",
    "                continue\n",
    "            \n",
    "            # Log cued side informed by y_tst\n",
    "            cued_side = y_tst[t_idx]\n",
    "            # create event vectors & ground truth\n",
    "            left_targets = nested_z_tst_epochs[t_idx][:, 0]\n",
    "            right_targets = nested_z_tst_epochs[t_idx][:, 1]\n",
    "            cued_targets = nested_z_tst_epochs[t_idx] [:, cued_side]\n",
    "   \n",
    "            # Compute LDA scores for epochs\n",
    "            epoch_scores = lda.decision_function(nested_X_tst_trials[t_idx])\n",
    "            \n",
    "            # Log performance per fold\n",
    "            precision, recall, _ = precision_recall_curve(cued_targets, epoch_scores)\n",
    "            pr_auc_score = auc(recall, precision)\n",
    "            fold_pr_auc.append(pr_auc_score)\n",
    "\n",
    "            # Correlation-based decision\n",
    "            corr_left, _ = pearsonr(epoch_scores, left_targets)\n",
    "            corr_right, _ = pearsonr(epoch_scores, right_targets)\n",
    "\n",
    "            # Trial-level decision rule based on correlation\n",
    "            decision = 0 if corr_left > corr_right else 1\n",
    "            if decision == cued_side:\n",
    "                correct_trials += 1\n",
    "\n",
    "\n",
    "        # --- Alpha Extraction ---\n",
    "\n",
    "        # Extract alpha features. For all trials, average over frequency bin (8-12 Hz) per channel using Welch's method\n",
    "        psd_features_trn = np.array([\n",
    "            welch(trial, fs=fs, nperseg=nyquist_freq, scaling='density')[1] # Set number of data points in each segment to the Nyquist frequency\n",
    "            [:, (min_bin <= freqs) & (freqs <= max_bin)].mean(axis=1) # Selects only the frequencies between min_bin and max_bin and averages over all channels\n",
    "            for trial, freqs in [(X_trn[i], welch(X_trn[i][0], fs=fs, nperseg=fs//2)[0]) \n",
    "            for i in range(X_trn.shape[0])] # For each trial, pair its EEG data with frequency bins computed from the first channel's Welch PSD) to prepare for bandpower analysis\n",
    "        ])\n",
    "        \n",
    "        psd_features_tst = np.array([\n",
    "            welch(trial, fs=fs, nperseg=nyquist_freq, scaling='density')[1] # Set number of data points in each segment to the Nyquist frequency\n",
    "            [:, (min_bin <= freqs) & (freqs <= max_bin)].mean(axis=1) # Selects only the frequencies between min_bin and max_bin and averages over all channels\n",
    "            for trial, freqs in [(X_tst[i], welch(X_tst[i][0], fs=fs, nperseg=fs//2)[0])\n",
    "            for i in range(X_tst.shape[0])] # For each trial, pair its EEG data with frequency bins computed from the first channel's Welch PSD) to prepare for bandpower analysis\n",
    "        ])\n",
    "\n",
    "\n",
    "        # --- Concatenation ---\n",
    "        # Concatenate the P300 correlation and the alpha PSD features\n",
    "        combined_features_trn = np.column_stack([corr_left * np.ones(X_trn.shape[0]),  # Left stimulus correlation\n",
    "                                                 corr_right * np.ones(X_trn.shape[0]),  # Right stimulus correlation\n",
    "                                                 psd_features_trn])  # Alpha PSD features\n",
    "\n",
    "        combined_features_tst = np.column_stack([corr_left * np.ones(X_tst.shape[0]),  # Left stimulus correlation\n",
    "                                                 corr_right * np.ones(X_tst.shape[0]),  # Right stimulus correlation\n",
    "                                                 psd_features_tst])  # Alpha PSD features\n",
    "\n",
    "        # Replace NaN values with 0\n",
    "        combined_features_trn = np.nan_to_num(combined_features_trn, nan=0)\n",
    "        combined_features_tst = np.nan_to_num(combined_features_tst, nan=0)\n",
    "\n",
    "        print(f\"Shape of combined_features_trn: {combined_features_trn.shape}\")\n",
    "        print(f\"Shape of combined_features_tst: {combined_features_tst.shape}\")\n",
    "\n",
    "        # --- Ensemble ---\n",
    "        # Train final LDA on new feature vectors (combined features)\n",
    "        lda_combine = LDA(solver=\"lsqr\", covariance_estimator=LedoitWolf())\n",
    "        lda_combine.fit(combined_features_trn, y_trn)\n",
    "\n",
    "        # Final prediction\n",
    "        y_final = lda_combine.predict(combined_features_tst)\n",
    "\n",
    "        # Calculate accuracy\n",
    "        accuracy = np.mean(y_final == y_tst)\n",
    "        fold_accuracies.append(accuracy)\n",
    "\n",
    "        print(f\"Fold {i_fold + 1} Accuracy: {accuracy:.3f}\")\n",
    "\n",
    "    # Compute subject-level results\n",
    "    accuracy = np.round(np.mean(fold_accuracies), 2)\n",
    "    se = np.round(np.std(fold_accuracies) / np.sqrt(n_folds), 2)\n",
    "    results.append((subject, accuracy, se))\n",
    "\n",
    "    # Print average accuracy per subject\n",
    "    print(f\"Average Accuracy for {subject}: {accuracy:.3f}\")\n",
    "\n",
    "# # Save results\n",
    "# if not os.path.exists(decoding_results_dir):\n",
    "#         os.makedirs(decoding_results_dir)\n",
    "# results_save_path = join(decoding_results_dir, f\"covert_alpha_p300_results_concat.npy\")     \n",
    "# np.save(results_save_path, results_array)    \n",
    "\n",
    "# Convert results to a structured numpy array\n",
    "results_array = np.array(\n",
    "    results, dtype=[('subject', 'U10'), ('accuracy', 'f4'), ('standard_error', 'f4')]\n",
    ")\n",
    "\n",
    "# Overall results\n",
    "overall_accuracy = np.round(results_array['accuracy'].mean(), 2)\n",
    "overall_se = np.round(results_array['standard_error'].mean(), 2)\n",
    "print(f\"Overall LDA accuracy with PSD: {overall_accuracy:.2f} ± {overall_se:.2f}\")"
   ]
  },
  {
   "cell_type": "code",
   "execution_count": 20,
   "id": "feff6b0b",
   "metadata": {},
   "outputs": [
    {
     "name": "stdout",
     "output_type": "stream",
     "text": [
      "[False False False False  True False False False  True False False False\n",
      " False False False False  True False False False]\n",
      "[False False False False False False  True False False False False False\n",
      " False False  True False False False  True False]\n",
      "[[0 0]\n",
      " [0 0]\n",
      " [0 0]\n",
      " [0 0]\n",
      " [0 1]\n",
      " [0 0]\n",
      " [1 0]\n",
      " [0 0]\n",
      " [0 1]\n",
      " [0 0]\n",
      " [0 0]\n",
      " [0 0]\n",
      " [0 0]\n",
      " [0 0]\n",
      " [1 0]\n",
      " [0 0]\n",
      " [0 1]\n",
      " [0 0]\n",
      " [1 0]\n",
      " [0 0]]\n"
     ]
    }
   ],
   "source": [
    "side_tst = z_tst[:, 2, :]\n",
    "z_left = side_tst[:, 0] == 1\n",
    "z_right = side_tst[:, 1] == 1\n",
    "print(z_right)\n",
    "print(z_left)\n",
    "print(side_tst)"
   ]
  },
  {
   "cell_type": "code",
   "execution_count": null,
   "id": "88adff03",
   "metadata": {},
   "outputs": [],
   "source": []
  }
 ],
 "metadata": {
  "kernelspec": {
   "display_name": "Python (py39)",
   "language": "python",
   "name": "py39"
  },
  "language_info": {
   "codemirror_mode": {
    "name": "ipython",
    "version": 3
   },
   "file_extension": ".py",
   "mimetype": "text/x-python",
   "name": "python",
   "nbconvert_exporter": "python",
   "pygments_lexer": "ipython3",
   "version": "3.9.18"
  }
 },
 "nbformat": 4,
 "nbformat_minor": 5
}
